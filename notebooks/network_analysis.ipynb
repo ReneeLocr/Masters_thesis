{
 "cells": [
  {
   "cell_type": "markdown",
   "id": "7d00088c-b840-43b7-b932-889258e12b1c",
   "metadata": {},
   "source": [
    "# Imports librairies & données"
   ]
  },
  {
   "cell_type": "markdown",
   "id": "9a564f4b-3ad4-49c5-85ab-e2fdb7ce5372",
   "metadata": {},
   "source": [
    "## Librairies"
   ]
  },
  {
   "cell_type": "code",
   "execution_count": 1,
   "id": "10f06c3a-b82b-4b58-8a87-b07660b981df",
   "metadata": {},
   "outputs": [
    {
     "name": "stderr",
     "output_type": "stream",
     "text": [
      "C:\\App\\anaconda3\\Lib\\site-packages\\paramiko\\transport.py:219: CryptographyDeprecationWarning: Blowfish has been deprecated and will be removed in a future release\n",
      "  \"class\": algorithms.Blowfish,\n"
     ]
    }
   ],
   "source": [
    "import networkx as nx\n",
    "import numpy as np\n",
    "import seaborn as sns\n",
    "import matplotlib.pyplot as plt\n",
    "import pickle\n",
    "from matplotlib import colormaps \n",
    "import pandas as pd\n",
    "from medpy.filter.smoothing import anisotropic_diffusion\n",
    "from tqdm import tqdm\n",
    "import os\n",
    "import napari\n",
    "from skimage import io\n",
    "from skimage.util import crop\n",
    "import extract\n",
    "from shapely import convex_hull\n",
    "from shapely import MultiPoint"
   ]
  },
  {
   "cell_type": "markdown",
   "id": "68d45852-2ed6-4b22-925e-7de8fa054d5f",
   "metadata": {},
   "source": [
    "## Image de base"
   ]
  },
  {
   "cell_type": "code",
   "execution_count": 3,
   "id": "e70031e5-4681-42b5-b042-3b5867e79b11",
   "metadata": {},
   "outputs": [],
   "source": [
    "image = io.imread(\"../data/rhizophagus/12/4/R12_23_06_P20.jpg\")"
   ]
  },
  {
   "cell_type": "code",
   "execution_count": 4,
   "id": "a83bc7d6-a755-4127-83b2-f49286f7cccb",
   "metadata": {},
   "outputs": [],
   "source": [
    "img = image[:, :, 1]\n",
    "\n",
    "img = crop(img, crop_width = 10)"
   ]
  },
  {
   "cell_type": "markdown",
   "id": "76db7c35-7622-49cb-94a2-753fee1c8c80",
   "metadata": {},
   "source": [
    "## Graphe G"
   ]
  },
  {
   "cell_type": "code",
   "execution_count": 6,
   "id": "acb5e570-c79a-4abe-bfc0-10e6a1f4bde3",
   "metadata": {},
   "outputs": [],
   "source": [
    "G = pickle.load(open('../data/rhizophagus/12/4/R12_23_06_P20.pkl', 'rb'))"
   ]
  },
  {
   "cell_type": "code",
   "execution_count": 7,
   "id": "5920b607-72c7-4161-98fe-a7335a9e1456",
   "metadata": {},
   "outputs": [],
   "source": [
    "pts = {n : G.nodes[n][\"pts\"][0] for n in G.nodes }\n",
    "pts = {n : (y, -x) for n, (x, y) in pts.items()} "
   ]
  },
  {
   "cell_type": "markdown",
   "id": "bd884a67-9d14-4738-9b99-a4a7eed236ad",
   "metadata": {},
   "source": [
    "## Thème"
   ]
  },
  {
   "cell_type": "code",
   "execution_count": 5,
   "id": "aed4170c-5c98-4cd9-9868-28a130a0f571",
   "metadata": {},
   "outputs": [],
   "source": [
    "sns.set_theme(style = \"whitegrid\", context = \"notebook\", palette = \"pastel\")"
   ]
  },
  {
   "cell_type": "markdown",
   "id": "a3b18727-519a-4540-bef7-74d989b0b457",
   "metadata": {},
   "source": [
    "# Fonctions de base à définir"
   ]
  },
  {
   "cell_type": "code",
   "execution_count": 3,
   "id": "4bf97fdf-4441-4664-a49c-2aad4db3cefa",
   "metadata": {},
   "outputs": [],
   "source": [
    "def simple_graph(G):\n",
    "    \"\"\"\n",
    "    Simplifies a graph by contracting paths of degree-2 nodes into single edges.\n",
    "    The new edge's weight is the sum of the weights of the replaced edges.\n",
    " \n",
    "    Parameters:\n",
    "    G (networkx.Graph): Input graph with edge weights stored as \"weight\" attributes.\n",
    " \n",
    "    Returns:\n",
    "    networkx.Graph: Simplified graph.\n",
    "    \"\"\"\n",
    "    # Identify nodes with degree ≠ 2\n",
    "    main_nodes = {n for n in G.nodes if G.degree[n] != 2}\n",
    " \n",
    "    # Subgraph of degree-2 nodes\n",
    "    deg2_subgraph = G.subgraph(set(G.nodes) - main_nodes)\n",
    " \n",
    "    # Find connected components of the degree-2 subgraph\n",
    "    components = list(nx.connected_components(deg2_subgraph))\n",
    " \n",
    "    # Create new edges connecting the endpoints of each component, summing their weights\n",
    "    new_edges = []\n",
    "    for component in components:\n",
    "        component = set(component)  # Convert to set for fast lookup\n",
    "        endpoints = set()\n",
    "        total_weight = 0\n",
    " \n",
    "        # Track visited edges to avoid double counting\n",
    "        visited_edges = set()\n",
    " \n",
    "        for node in component:\n",
    "            for neighbor in G.neighbors(node):\n",
    "                edge = tuple(sorted((node, neighbor)))  # Avoid direction issues\n",
    "                if edge not in visited_edges:\n",
    "                    weight = G[node][neighbor].get(\"weight\", 1)  # Default weight = 1 if missing\n",
    "                    total_weight += weight  # Sum each edge only once\n",
    "                    visited_edges.add(edge)\n",
    " \n",
    "                if neighbor not in component:\n",
    "                    endpoints.add(neighbor)\n",
    " \n",
    "        # Keep only neighbors that are not in the component (endpoints)\n",
    "        endpoints = list(endpoints)\n",
    "        if len(endpoints) == 2:  # Valid edge case\n",
    "            new_edges.append((endpoints[0], endpoints[1], total_weight))\n",
    " \n",
    "    # Construct the simplified graph\n",
    "    H = G.copy()\n",
    "    H.remove_nodes_from(deg2_subgraph.nodes)\n",
    "    H.add_edges_from((u, v, {\"weight\": w}) for u, v, w in new_edges)\n",
    " \n",
    "    return H"
   ]
  },
  {
   "cell_type": "code",
   "execution_count": 4,
   "id": "04507576-9abc-4a76-8ebd-55609e630285",
   "metadata": {},
   "outputs": [],
   "source": [
    "def fct_degrees(G) :\n",
    "    degrees = G.degree()\n",
    "    degrees = [val for (node, val) in G.degree()]\n",
    "    d1 = np.array(degrees)\n",
    "    return d1"
   ]
  },
  {
   "cell_type": "code",
   "execution_count": 5,
   "id": "9d6b74eb-dba4-4409-8e50-3655b09be0c8",
   "metadata": {},
   "outputs": [],
   "source": [
    "def cycle_density(G):\n",
    "    \"\"\"\n",
    "    Calculates the cycle density: number of independent cycles divided\n",
    "    by the number of nodes or edges.\n",
    " \n",
    "    Parameters\n",
    "    ----------\n",
    "    G : networkx.Graph\n",
    "        The graph with node positions stored as the \"pos\" attribute.\n",
    " \n",
    "    Returns\n",
    "    -------\n",
    "    float\n",
    "        Cycle density\n",
    "    \"\"\"\n",
    "    num_cycles = len(list(nx.cycle_basis(G)))\n",
    "    num_nodes = G.number_of_nodes()\n",
    "    return num_cycles / num_nodes"
   ]
  },
  {
   "cell_type": "code",
   "execution_count": 6,
   "id": "e843dddc-af6a-48c8-8fc5-a8c0af8fe8cf",
   "metadata": {},
   "outputs": [],
   "source": [
    "def spatial_density(G) :\n",
    "    hyphal_length = total_hyphal_length(G)\n",
    "    node_positions = {n : G.nodes[n][\"pts\"] for n in G.nodes } # ajouter [0] si liste de listes \n",
    "    node_positions = [tuple(pts) for pts in node_positions.values()]\n",
    "    area = convex_hull(MultiPoint(node_positions)).area\n",
    "    spatial_density = hyphal_length/area\n",
    "    return spatial_density"
   ]
  },
  {
   "cell_type": "code",
   "execution_count": 7,
   "id": "a541ddf2-ee13-443b-a12f-58858ccb0f21",
   "metadata": {},
   "outputs": [],
   "source": [
    "def total_hyphal_length(G, weight=\"weight\"):\n",
    "    \"\"\"Compute the total hyphal length in the network.\n",
    " \n",
    "    If edges have a 'length' attribute, sum those. Otherwise, compute Euclidean distance.\n",
    "    \"\"\"\n",
    "    total_length = 0.0\n",
    " \n",
    "    for u, v, data in G.edges(data=True):\n",
    "        if weight in data:\n",
    "            total_length += data[weight]\n",
    "        elif \"pts\" in G.nodes[u] and \"pts\" in G.nodes[v]:\n",
    "            pos_u = np.array(G.nodes[u][\"pts\"])\n",
    "            pos_v = np.array(G.nodes[v][\"pts\"])\n",
    "            total_length += np.linalg.norm(pos_u - pos_v)\n",
    "        else:\n",
    "            raise ValueError(\"Edge length missing and node positions unavailable.\")\n",
    " \n",
    "    return total_length"
   ]
  },
  {
   "cell_type": "markdown",
   "id": "de21c0e0-af65-43f9-a4d9-d89e9ec2e468",
   "metadata": {
    "jp-MarkdownHeadingCollapsed": true
   },
   "source": [
    "# Preprocessing"
   ]
  },
  {
   "cell_type": "code",
   "execution_count": null,
   "id": "afff735b-5c12-4dfa-9081-2fb261aa9097",
   "metadata": {
    "collapsed": true,
    "jupyter": {
     "outputs_hidden": true
    }
   },
   "outputs": [],
   "source": [
    "G.remove_edges_from(nx.selfloop_edges(G))"
   ]
  },
  {
   "cell_type": "code",
   "execution_count": null,
   "id": "2b2af322-292d-4267-930d-a61b335ef0fb",
   "metadata": {
    "collapsed": true,
    "jupyter": {
     "outputs_hidden": true
    },
    "scrolled": true
   },
   "outputs": [],
   "source": [
    "fig, ax = plt.subplots(figsize = (14, 8)) \n",
    "\n",
    "nx.draw_networkx_edges(G, pos = pts, width = 1, alpha = 1, edge_color = \"grey\") \n",
    "nx.draw_networkx_nodes(G, pos = pts, node_size = 1, alpha = 0.5, node_color = \"blue\") #draw_networkx ou draw_networkx_edges/nodes"
   ]
  },
  {
   "cell_type": "code",
   "execution_count": null,
   "id": "683d3618-29bb-4a10-96ef-c932703c0fa6",
   "metadata": {
    "collapsed": true,
    "jupyter": {
     "outputs_hidden": true
    }
   },
   "outputs": [],
   "source": [
    "nx.is_connected(G)"
   ]
  },
  {
   "cell_type": "code",
   "execution_count": null,
   "id": "5e7ed52e-6ff1-4d4d-99ed-a633d21c99eb",
   "metadata": {
    "collapsed": true,
    "jupyter": {
     "outputs_hidden": true
    },
    "scrolled": true
   },
   "outputs": [],
   "source": [
    "# graphe une seule composante connectée\n",
    "Gcc = sorted(nx.connected_components(G), key = len, reverse = True)\n",
    "Gsub = G.subgraph(Gcc[0])\n",
    "\n",
    "#highlight largest connected component\n",
    "nx.draw_networkx_edges(Gsub, pos = pts, alpha = 0.4, width = 1, edge_color = \"red\")\n",
    "\n",
    "#draw other connected component\n",
    "for Gi in Gcc[1:] :\n",
    "    if len(Gi) > 1 :\n",
    "        nx.draw_networkx_edges(G.subgraph(Gi), pts, alpha = 0.4, width = 1, edge_color = \"blue\")\n",
    "\n",
    "sb.despine(bottom = True, left = True)"
   ]
  },
  {
   "cell_type": "code",
   "execution_count": null,
   "id": "dd330e06-6f05-4da5-bb96-8cef413ca7ab",
   "metadata": {
    "collapsed": true,
    "jupyter": {
     "outputs_hidden": true
    }
   },
   "outputs": [],
   "source": [
    "G_simplified = simple_graph(Gsub)"
   ]
  },
  {
   "cell_type": "code",
   "execution_count": null,
   "id": "70f07d7a-5b6c-409d-a091-c2c6a25485d5",
   "metadata": {
    "collapsed": true,
    "jupyter": {
     "outputs_hidden": true
    },
    "scrolled": true
   },
   "outputs": [],
   "source": [
    "fig, ax = plt.subplots(figsize = (14, 8)) \n",
    "\n",
    "nx.draw_networkx_edges(G_simplified, pos = pts, width = 1, alpha = 1, edge_color = \"gray\") \n",
    "nx.draw_networkx_nodes(G_simplified, pos = pts, node_size = 1, alpha = 0.5, node_color = \"blue\")"
   ]
  },
  {
   "cell_type": "code",
   "execution_count": null,
   "id": "2b4ae378-3b83-4643-8eda-05ed773f209f",
   "metadata": {
    "collapsed": true,
    "jupyter": {
     "outputs_hidden": true
    }
   },
   "outputs": [],
   "source": [
    "for n in G_simplified.nodes:\n",
    "    if 'pts' not in G_simplified.nodes[n] and 'pts' in Gsub.nodes[n]:\n",
    "        G_simplified.nodes[n]['pts'] = Gsub.nodes[n]['pts']"
   ]
  },
  {
   "cell_type": "code",
   "execution_count": null,
   "id": "b6364ae3-fb19-4db0-be7c-6a7fd24474b8",
   "metadata": {
    "collapsed": true,
    "jupyter": {
     "outputs_hidden": true
    }
   },
   "outputs": [],
   "source": [
    "for n in G_simplified.nodes:\n",
    "    pts = np.array(G_simplified.nodes[n][\"pts\"])\n",
    "    if pts.ndim == 2 and pts.shape[1] == 2:\n",
    "        pts = np.mean(pts, axis=0)\n",
    "    elif pts.ndim != 1 or pts.shape[0] != 2:\n",
    "        raise ValueError(f\"Node {n} has unsupported shape {pts.shape}\")\n",
    "    G_simplified.nodes[n][\"pts\"] = tuple(pts)"
   ]
  },
  {
   "cell_type": "markdown",
   "id": "5d1920ce-749a-46b6-a91d-47999959ff3a",
   "metadata": {
    "jp-MarkdownHeadingCollapsed": true
   },
   "source": [
    "# Nettoyer le graphe"
   ]
  },
  {
   "cell_type": "code",
   "execution_count": null,
   "id": "e998b233-0385-44b3-95be-72837afb1159",
   "metadata": {
    "collapsed": true,
    "jupyter": {
     "outputs_hidden": true
    }
   },
   "outputs": [],
   "source": [
    "G_clean = G.copy()"
   ]
  },
  {
   "cell_type": "code",
   "execution_count": null,
   "id": "47f90170-f8dc-444f-87fe-f80b2b5d7af2",
   "metadata": {
    "collapsed": true,
    "jupyter": {
     "outputs_hidden": true
    }
   },
   "outputs": [],
   "source": [
    "to_remove = [(u, v) for u, v, d in G_clean.edges(data=True) if d.get('weight', 0) < 25 and (G_clean.degree[u] == 1 or G_clean.degree[v] == 1)]\n",
    "G_clean.remove_edges_from(to_remove)"
   ]
  },
  {
   "cell_type": "code",
   "execution_count": null,
   "id": "40121116-3ded-46c1-84c7-09bf0b2dda7c",
   "metadata": {
    "collapsed": true,
    "jupyter": {
     "outputs_hidden": true
    }
   },
   "outputs": [],
   "source": [
    "G_clean_cc = sorted(nx.connected_components(G_clean), key = len, reverse = True)\n",
    "G_clean_sub = G_clean.subgraph(G_clean_cc[0])"
   ]
  },
  {
   "cell_type": "code",
   "execution_count": null,
   "id": "98076cce-cccb-43b7-89bc-b6082f128b30",
   "metadata": {
    "collapsed": true,
    "jupyter": {
     "outputs_hidden": true
    }
   },
   "outputs": [],
   "source": [
    "G_clean_simple = simple_graph(G_clean_sub)"
   ]
  },
  {
   "cell_type": "code",
   "execution_count": null,
   "id": "e342a2e1-c855-4b9f-8669-35d2982cf639",
   "metadata": {
    "collapsed": true,
    "jupyter": {
     "outputs_hidden": true
    }
   },
   "outputs": [],
   "source": [
    "for n in G_clean_simple.nodes:\n",
    "    if 'pts' not in G_clean_simple.nodes[n] and 'pts' in G_clean_sub.nodes[n]:\n",
    "        G_clean_simple.nodes[n]['pts'] = G_clean_sub.nodes[n]['pts']"
   ]
  },
  {
   "cell_type": "code",
   "execution_count": null,
   "id": "26a93337-bdc1-417e-955a-9b90337e9165",
   "metadata": {
    "collapsed": true,
    "jupyter": {
     "outputs_hidden": true
    }
   },
   "outputs": [],
   "source": [
    "for n in G_clean_simple.nodes:\n",
    "    pts = np.array(G_clean_simple.nodes[n][\"pts\"])\n",
    "    if pts.ndim == 2 and pts.shape[1] == 2:\n",
    "        pts = np.mean(pts, axis=0)\n",
    "    elif pts.ndim != 1 or pts.shape[0] != 2:\n",
    "        raise ValueError(f\"Node {n} has unsupported shape {pts.shape}\")\n",
    "    G_clean_simple.nodes[n][\"pts\"] = tuple(pts)"
   ]
  },
  {
   "cell_type": "code",
   "execution_count": null,
   "id": "15db6295-4d09-4ef6-9e71-aded2dcff7b0",
   "metadata": {
    "collapsed": true,
    "jupyter": {
     "outputs_hidden": true
    }
   },
   "outputs": [],
   "source": [
    "G_clean_simple.number_of_nodes()"
   ]
  },
  {
   "cell_type": "code",
   "execution_count": null,
   "id": "5f535e5a-a2e0-48fc-b563-e193af01b061",
   "metadata": {
    "collapsed": true,
    "jupyter": {
     "outputs_hidden": true
    }
   },
   "outputs": [],
   "source": [
    "G_clean_simple.number_of_edges()"
   ]
  },
  {
   "cell_type": "code",
   "execution_count": null,
   "id": "2b579c59-2703-403d-943f-77f78b9f7f4e",
   "metadata": {
    "collapsed": true,
    "jupyter": {
     "outputs_hidden": true
    }
   },
   "outputs": [],
   "source": [
    "len(nx.cycle_basis(G_clean_simple))"
   ]
  },
  {
   "cell_type": "code",
   "execution_count": null,
   "id": "8cbab0b9-445a-4552-8fb2-7c0af95930d8",
   "metadata": {
    "collapsed": true,
    "jupyter": {
     "outputs_hidden": true
    }
   },
   "outputs": [],
   "source": [
    "cycle_density(G_clean_simple)"
   ]
  },
  {
   "cell_type": "code",
   "execution_count": null,
   "id": "2539be4d-7570-46aa-b42d-ddf50736cb99",
   "metadata": {
    "collapsed": true,
    "jupyter": {
     "outputs_hidden": true
    }
   },
   "outputs": [],
   "source": [
    "l_degrees = [val for (node, val) in G_clean_simple.degree()]\n",
    "d1 = np.array(l_degrees)\n",
    "bins = np.arange(1, 10, 1)\n",
    "#arranger les bins\n",
    "plt.hist([d1], bins = bins, density = False) #density pour mettre en probabilités\n",
    "plt.title(\"Degrees distribution\")\n",
    "plt.xlabel(\"Degree\")\n",
    "plt.ylabel(\"Number of nodes\")\n",
    "plt.show()"
   ]
  },
  {
   "cell_type": "markdown",
   "id": "c4fb53ef-74d0-46ca-a580-a9fe5eaefe30",
   "metadata": {},
   "source": [
    "## Visualisation (Napari et notebook)"
   ]
  },
  {
   "cell_type": "code",
   "execution_count": null,
   "id": "01c33590-5281-4061-a086-4df9734393c2",
   "metadata": {
    "collapsed": true,
    "jupyter": {
     "outputs_hidden": true
    }
   },
   "outputs": [],
   "source": [
    "points_G = np.array([G_simplified.nodes[n]['pts'] for n in G_simplified.nodes])\n",
    "\n",
    "edges_G = []\n",
    "for u, v in G_simplified.edges():\n",
    "    pt_u = G_simplified.nodes[u]['pts']\n",
    "    pt_v = G_simplified.nodes[v]['pts']\n",
    "    edges_G.append([pt_u, pt_v])\n",
    "edges_G = np.array(edges_G)"
   ]
  },
  {
   "cell_type": "code",
   "execution_count": null,
   "id": "05446550-d13a-47a6-aa76-00e60c15cee7",
   "metadata": {
    "collapsed": true,
    "jupyter": {
     "outputs_hidden": true
    }
   },
   "outputs": [],
   "source": [
    "points_clean = np.array([G_clean_simple.nodes[n]['pts'] for n in G_clean_simple.nodes])\n",
    "\n",
    "edges_clean = []\n",
    "for u, v in G_clean_simple.edges():\n",
    "    pt_u = G_clean_simple.nodes[u]['pts']\n",
    "    pt_v = G_clean_simple.nodes[v]['pts']\n",
    "    edges_clean.append([pt_u, pt_v])\n",
    "edges_clean = np.array(edges_clean)"
   ]
  },
  {
   "cell_type": "code",
   "execution_count": null,
   "id": "d29b89e1-8526-48c7-9e15-17ba1a9a338b",
   "metadata": {
    "collapsed": true,
    "jupyter": {
     "outputs_hidden": true
    }
   },
   "outputs": [],
   "source": [
    "viewer = napari.Viewer()\n",
    "\n",
    "viewer.add_image(img, name = \"raw image\")\n",
    "\n",
    "viewer.add_points(points_G, name=\"nodes\", size=10, face_color=\"blue\", border_color=\"gray\")\n",
    "viewer.add_shapes(edges_G, shape_type=\"line\", edge_color=\"white\", edge_width=1, name=\"edges\")\n",
    "\n",
    "viewer.add_points(points_clean, name=\"nodes\", size=10, face_color=\"yellow\", border_color=\"gray\")\n",
    "viewer.add_shapes(edges_clean, shape_type=\"line\", edge_color=\"lime\", edge_width=1, name=\"edges\")\n",
    "\n",
    "napari.run()"
   ]
  },
  {
   "cell_type": "code",
   "execution_count": null,
   "id": "dc5493fb-5feb-4562-acde-3393cf4b78d7",
   "metadata": {
    "collapsed": true,
    "jupyter": {
     "outputs_hidden": true
    }
   },
   "outputs": [],
   "source": [
    "pts_nx = {n: tuple(G_clean_simple.nodes[n][\"pts\"]) for n in G_clean_simple.nodes}\n",
    "pts_nx = {n : (y, -x) for n, (x, y) in pts_nx.items()}"
   ]
  },
  {
   "cell_type": "code",
   "execution_count": null,
   "id": "b4976ade-49de-4f4b-8bbe-3fb56d1613f3",
   "metadata": {
    "collapsed": true,
    "jupyter": {
     "outputs_hidden": true
    }
   },
   "outputs": [],
   "source": [
    "fig, ax = plt.subplots(figsize = (14, 8)) \n",
    "\n",
    "nx.draw_networkx_edges(G_clean_simple, pos = pts_nx, width = 1, alpha = 1, edge_color = \"grey\") \n",
    "nx.draw_networkx_nodes(G_clean_simple, pos = pts_nx, node_size = 1, alpha = 0.5, node_color = \"blue\")"
   ]
  },
  {
   "cell_type": "markdown",
   "id": "3426c08a-69a7-4bed-8ccd-899a81976735",
   "metadata": {},
   "source": [
    "# Mesures de base"
   ]
  },
  {
   "cell_type": "code",
   "execution_count": 4,
   "id": "781fec08-9667-4edf-8448-771cf06f1b45",
   "metadata": {},
   "outputs": [],
   "source": [
    "G = pickle.load(open('../data/rhizophagus/12/4/R12_23_06_P10.pklclean', 'rb'))"
   ]
  },
  {
   "cell_type": "code",
   "execution_count": 5,
   "id": "ccab093a-4efd-4c1f-a3e6-d0c1c385807a",
   "metadata": {},
   "outputs": [],
   "source": [
    "pts = {n : G.nodes[n][\"pts\"] for n in G.nodes }\n",
    "pts = {n : (y, -x) for n, (x, y) in pts.items()} "
   ]
  },
  {
   "cell_type": "markdown",
   "id": "8898a3ab-ab07-4cd8-9a4a-8abd123cb050",
   "metadata": {
    "jp-MarkdownHeadingCollapsed": true
   },
   "source": [
    "## Nombre de nodes"
   ]
  },
  {
   "cell_type": "code",
   "execution_count": 15,
   "id": "d1564531-0d42-4a2e-a943-7fe24387f66a",
   "metadata": {},
   "outputs": [
    {
     "data": {
      "text/plain": [
       "4116"
      ]
     },
     "execution_count": 15,
     "metadata": {},
     "output_type": "execute_result"
    }
   ],
   "source": [
    "nodes = G.number_of_nodes()\n",
    "nodes"
   ]
  },
  {
   "cell_type": "markdown",
   "id": "50fa02ff-a86e-4593-9f07-7856235eec7c",
   "metadata": {
    "jp-MarkdownHeadingCollapsed": true
   },
   "source": [
    "## Nombre de edges"
   ]
  },
  {
   "cell_type": "code",
   "execution_count": 16,
   "id": "1c590fc2-f7df-4a06-a5a5-4a47b1cebe7e",
   "metadata": {},
   "outputs": [
    {
     "data": {
      "text/plain": [
       "5024"
      ]
     },
     "execution_count": 16,
     "metadata": {},
     "output_type": "execute_result"
    }
   ],
   "source": [
    "edges = G.number_of_edges()\n",
    "edges"
   ]
  },
  {
   "cell_type": "markdown",
   "id": "b358728f-3a19-418f-ac0a-f93e651384c0",
   "metadata": {
    "jp-MarkdownHeadingCollapsed": true
   },
   "source": [
    "## Distribution des degrés"
   ]
  },
  {
   "cell_type": "code",
   "execution_count": 17,
   "id": "c62c78bb-f356-457c-ac2d-2db0bc0958e1",
   "metadata": {},
   "outputs": [],
   "source": [
    "degrees = G.degree()"
   ]
  },
  {
   "cell_type": "code",
   "execution_count": 18,
   "id": "3a2e5467-8e26-40b0-89c3-233b149d98f6",
   "metadata": {
    "scrolled": true
   },
   "outputs": [
    {
     "name": "stdout",
     "output_type": "stream",
     "text": [
      "{0: [1], 1: [1], 9: [1], 10: [1], 13: [1], 17: [1], 21: [1], 23: [1], 25: [1], 29: [1], 33: [1], 34: [1], 35: [1], 39: [2], 41: [1], 47: [3], 50: [3], 57: [3], 58: [3], 65: [2], 70: [3], 72: [3], 73: [3], 77: [1], 80: [1], 82: [1], 84: [3], 94: [3], 115: [1], 116: [3], 119: [2], 120: [1], 123: [3], 124: [3], 133: [3], 137: [3], 139: [4], 141: [1], 142: [3], 144: [3], 145: [2], 147: [3], 150: [3], 151: [1], 153: [3], 155: [4], 157: [1], 158: [3], 162: [3], 170: [1], 171: [3], 172: [3], 182: [3], 187: [1], 188: [1], 195: [1], 196: [3], 198: [3], 208: [3], 217: [1], 222: [1], 224: [3], 229: [3], 232: [3], 240: [1], 241: [1], 248: [1], 249: [1], 250: [3], 254: [1], 257: [3], 259: [3], 261: [3], 263: [3], 268: [3], 270: [3], 271: [1], 272: [3], 274: [1], 275: [1], 276: [3], 277: [1], 282: [3], 286: [3], 291: [3], 299: [3], 312: [1], 313: [1], 314: [1], 315: [1], 322: [3], 323: [1], 326: [3], 327: [4], 331: [1], 332: [1], 334: [3], 346: [3], 350: [3], 352: [3], 353: [3], 360: [1], 365: [1], 367: [3], 373: [3], 375: [3], 376: [3], 382: [3], 383: [3], 391: [3], 394: [1], 396: [1], 398: [3], 399: [3], 400: [3], 404: [3], 413: [1], 421: [3], 426: [1], 429: [3], 433: [3], 438: [3], 441: [3], 442: [1], 451: [3], 453: [3], 454: [1], 458: [3], 461: [1], 464: [3], 465: [3], 470: [3], 471: [3], 472: [3], 474: [1], 475: [3], 478: [3], 485: [1], 487: [3], 491: [3], 492: [3], 494: [3], 497: [3], 500: [3], 502: [3], 503: [1], 504: [1], 506: [3], 507: [3], 508: [3], 516: [3], 517: [3], 521: [3], 524: [3], 525: [1], 527: [3], 528: [3], 531: [3], 532: [3], 533: [3], 534: [3], 536: [1], 540: [3], 545: [1], 547: [3], 550: [3], 551: [1], 553: [1], 560: [3], 561: [3], 563: [3], 564: [3], 568: [3], 569: [3], 573: [3], 575: [3], 578: [1], 580: [3], 581: [2], 586: [3], 588: [3], 590: [3], 596: [2], 600: [3], 601: [3], 603: [1], 606: [1], 610: [3], 611: [3], 616: [3], 617: [3], 619: [3], 620: [4], 624: [1], 625: [3], 628: [3], 629: [3], 636: [3], 639: [3], 640: [3], 642: [3], 644: [3], 645: [1], 650: [3], 653: [3], 658: [1], 661: [3], 662: [3], 663: [1], 669: [3], 670: [3], 671: [3], 672: [3], 673: [2], 685: [3], 691: [3], 692: [3], 697: [3], 699: [3], 703: [1], 704: [3], 707: [3], 711: [1], 713: [3], 714: [2], 724: [1], 727: [1], 732: [3], 736: [3], 739: [3], 740: [3], 741: [3], 742: [2], 745: [3], 747: [1], 751: [1], 752: [3], 754: [3], 768: [3], 770: [3], 771: [1], 785: [2], 791: [3], 798: [1], 804: [1], 814: [3], 817: [3], 824: [3], 827: [3], 829: [1], 832: [1], 836: [3], 840: [3], 844: [3], 845: [3], 848: [3], 852: [3], 857: [3], 862: [3], 865: [3], 866: [3], 867: [1], 870: [3], 871: [3], 875: [3], 881: [3], 883: [2], 884: [3], 891: [3], 892: [3], 895: [3], 897: [3], 898: [1], 902: [4], 905: [3], 908: [1], 913: [3], 914: [3], 927: [1], 928: [3], 929: [2], 936: [1], 938: [3], 941: [3], 943: [3], 946: [3], 951: [1], 955: [3], 958: [3], 962: [3], 963: [1], 967: [3], 969: [3], 971: [3], 972: [3], 976: [3], 977: [3], 982: [3], 983: [3], 984: [3], 988: [1], 990: [3], 991: [3], 995: [3], 1000: [3], 1001: [3], 1005: [3], 1007: [3], 1013: [3], 1020: [3], 1021: [3], 1022: [3], 1026: [1], 1027: [4], 1028: [3], 1030: [3], 1033: [3], 1035: [3], 1036: [3], 1038: [3], 1039: [3], 1041: [1], 1042: [3], 1043: [3], 1045: [1], 1050: [3], 1052: [3], 1054: [3], 1055: [3], 1056: [1], 1060: [3], 1064: [3], 1065: [3], 1066: [3], 1069: [1], 1070: [3], 1071: [3], 1072: [3], 1079: [2], 1081: [3], 1084: [3], 1087: [3], 1088: [1], 1091: [3], 1093: [1], 1102: [3], 1103: [3], 1114: [1], 1115: [3], 1118: [3], 1119: [3], 1121: [3], 1122: [1], 1132: [1], 1133: [3], 1134: [2], 1135: [3], 1140: [3], 1141: [1], 1143: [3], 1148: [3], 1156: [3], 1157: [1], 1160: [3], 1168: [1], 1171: [3], 1172: [1], 1173: [3], 1174: [3], 1176: [3], 1180: [3], 1183: [3], 1184: [1], 1187: [3], 1192: [3], 1193: [3], 1195: [3], 1198: [3], 1199: [1], 1207: [3], 1208: [3], 1212: [1], 1216: [1], 1220: [3], 1223: [3], 1226: [3], 1229: [3], 1231: [3], 1235: [1], 1238: [3], 1242: [3], 1243: [3], 1244: [1], 1247: [1], 1249: [1], 1251: [3], 1252: [4], 1254: [3], 1257: [3], 1259: [1], 1260: [3], 1261: [3], 1262: [3], 1267: [3], 1268: [3], 1269: [4], 1271: [1], 1272: [3], 1273: [3], 1274: [3], 1276: [1], 1277: [3], 1279: [3], 1280: [3], 1283: [3], 1301: [3], 1302: [3], 1303: [1], 1304: [3], 1306: [3], 1307: [3], 1316: [3], 1317: [3], 1319: [3], 1321: [1], 1324: [3], 1325: [3], 1326: [3], 1330: [3], 1331: [3], 1332: [3], 1333: [3], 1335: [3], 1336: [3], 1341: [3], 1343: [1], 1344: [3], 1346: [3], 1347: [3], 1349: [3], 1353: [3], 1356: [3], 1358: [3], 1361: [3], 1362: [3], 1364: [3], 1375: [1], 1377: [3], 1378: [3], 1379: [3], 1386: [3], 1389: [3], 1390: [3], 1391: [3], 1393: [3], 1394: [1], 1396: [3], 1398: [3], 1399: [4], 1400: [1], 1405: [3], 1410: [3], 1415: [1], 1416: [1], 1422: [3], 1428: [3], 1429: [3], 1430: [1], 1432: [3], 1433: [1], 1435: [3], 1436: [1], 1443: [3], 1450: [1], 1452: [4], 1459: [3], 1461: [1], 1465: [3], 1468: [1], 1472: [3], 1475: [1], 1476: [1], 1481: [3], 1483: [3], 1489: [1], 1502: [3], 1517: [3], 1521: [3], 1525: [3], 1528: [3], 1538: [3], 1539: [3], 1541: [1], 1542: [3], 1549: [3], 1550: [3], 1551: [1], 1552: [3], 1559: [1], 1560: [1], 1563: [3], 1564: [3], 1567: [3], 1568: [4], 1571: [3], 1579: [3], 1580: [3], 1583: [3], 1585: [3], 1586: [1], 1593: [3], 1595: [3], 1596: [1], 1601: [3], 1604: [3], 1608: [3], 1609: [1], 1611: [3], 1613: [3], 1614: [3], 1621: [1], 1630: [3], 1633: [3], 1634: [3], 1639: [3], 1641: [3], 1646: [3], 1648: [3], 1659: [3], 1660: [1], 1661: [3], 1664: [3], 1670: [3], 1674: [3], 1677: [1], 1678: [3], 1681: [2], 1683: [3], 1685: [3], 1686: [3], 1688: [3], 1690: [3], 1694: [3], 1695: [3], 1696: [1], 1702: [3], 1705: [3], 1708: [3], 1709: [1], 1711: [1], 1713: [3], 1714: [3], 1716: [3], 1717: [3], 1730: [2], 1731: [3], 1735: [3], 1736: [1], 1739: [3], 1742: [3], 1743: [3], 1744: [3], 1750: [1], 1752: [1], 1754: [3], 1756: [3], 1761: [3], 1763: [3], 1766: [3], 1767: [3], 1769: [3], 1773: [3], 1778: [1], 1779: [1], 1783: [1], 1784: [3], 1787: [1], 1795: [3], 1796: [1], 1798: [1], 1802: [3], 1807: [1], 1808: [3], 1811: [3], 1812: [3], 1816: [3], 1820: [3], 1821: [3], 1822: [3], 1830: [3], 1834: [1], 1835: [3], 1837: [3], 1843: [3], 1850: [3], 1851: [3], 1856: [1], 1857: [3], 1858: [3], 1859: [3], 1869: [3], 1870: [3], 1871: [3], 1874: [3], 1879: [3], 1880: [1], 1882: [3], 1887: [1], 1890: [3], 1894: [3], 1897: [1], 1898: [3], 1902: [3], 1904: [3], 1905: [3], 1906: [3], 1907: [3], 1908: [3], 1910: [3], 1912: [3], 1915: [3], 1916: [5], 1918: [3], 1921: [3], 1924: [3], 1925: [3], 1926: [3], 1927: [3], 1929: [3], 1930: [1], 1932: [3], 1935: [3], 1938: [3], 1939: [3], 1940: [1], 1941: [3], 1943: [1], 1946: [3], 1949: [3], 1951: [3], 1952: [3], 1954: [3], 1956: [3], 1962: [3], 1966: [3], 1968: [3], 1969: [3], 1970: [3], 1980: [3], 1982: [3], 1985: [3], 1987: [4], 1989: [3], 1991: [1], 1993: [3], 1995: [3], 1996: [3], 1998: [3], 2005: [1], 2007: [3], 2010: [3], 2013: [3], 2015: [3], 2016: [3], 2026: [3], 2028: [3], 2031: [3], 2033: [3], 2036: [3], 2038: [3], 2040: [3], 2043: [3], 2045: [3], 2046: [3], 2049: [1], 2053: [3], 2059: [3], 2060: [1], 2062: [3], 2064: [3], 2067: [3], 2069: [1], 2075: [3], 2079: [1], 2083: [3], 2084: [3], 2085: [3], 2092: [1], 2093: [3], 2097: [3], 2098: [1], 2099: [3], 2100: [1], 2102: [3], 2103: [3], 2106: [3], 2107: [1], 2111: [3], 2114: [3], 2117: [3], 2119: [3], 2122: [1], 2123: [3], 2124: [3], 2126: [3], 2128: [3], 2129: [3], 2132: [3], 2133: [1], 2134: [3], 2135: [1], 2139: [3], 2142: [3], 2143: [3], 2144: [3], 2145: [3], 2148: [1], 2156: [3], 2159: [3], 2160: [3], 2164: [1], 2167: [3], 2169: [1], 2170: [3], 2171: [1], 2173: [1], 2175: [3], 2177: [1], 2184: [3], 2185: [3], 2186: [3], 2187: [3], 2194: [3], 2197: [3], 2198: [3], 2199: [4], 2200: [3], 2205: [3], 2211: [3], 2212: [4], 2213: [3], 2215: [1], 2218: [3], 2220: [3], 2222: [1], 2223: [3], 2225: [3], 2226: [3], 2234: [3], 2235: [3], 2236: [3], 2239: [3], 2241: [3], 2243: [3], 2244: [1], 2247: [3], 2250: [1], 2252: [3], 2254: [1], 2257: [3], 2258: [3], 2259: [3], 2262: [1], 2264: [1], 2267: [3], 2276: [1], 2282: [3], 2284: [3], 2286: [1], 2288: [3], 2292: [3], 2298: [3], 2300: [1], 2309: [3], 2313: [3], 2315: [1], 2320: [3], 2324: [3], 2325: [1], 2327: [1], 2331: [1], 2344: [3], 2346: [1], 2347: [3], 2349: [3], 2355: [3], 2362: [1], 2365: [1], 2368: [3], 2370: [3], 2371: [3], 2376: [1], 2379: [3], 2381: [1], 2383: [3], 2386: [1], 2387: [3], 2391: [4], 2394: [3], 2395: [1], 2396: [1], 2399: [3], 2400: [3], 2401: [3], 2402: [3], 2403: [3], 2404: [3], 2407: [3], 2408: [4], 2409: [3], 2410: [1], 2412: [3], 2416: [1], 2418: [3], 2419: [3], 2421: [3], 2424: [3], 2427: [3], 2430: [3], 2432: [3], 2434: [3], 2435: [3], 2442: [3], 2444: [3], 2446: [1], 2448: [1], 2450: [4], 2453: [3], 2456: [4], 2460: [3], 2465: [1], 2467: [3], 2470: [3], 2475: [2], 2477: [3], 2478: [3], 2488: [3], 2500: [2], 2517: [3], 2518: [3], 2519: [3], 2522: [3], 2523: [3], 2525: [3], 2527: [3], 2529: [1], 2530: [1], 2534: [3], 2535: [3], 2536: [2], 2537: [3], 2539: [3], 2544: [3], 2545: [1], 2546: [1], 2549: [3], 2551: [3], 2552: [3], 2553: [3], 2554: [3], 2558: [3], 2567: [3], 2568: [3], 2570: [3], 2574: [1], 2575: [3], 2576: [2], 2579: [1], 2580: [1], 2581: [3], 2583: [3], 2588: [3], 2589: [1], 2594: [3], 2597: [3], 2606: [3], 2607: [3], 2615: [3], 2617: [3], 2624: [3], 2630: [1], 2641: [3], 2643: [3], 2645: [3], 2649: [3], 2650: [3], 2651: [3], 2661: [3], 2662: [3], 2663: [3], 2664: [1], 2672: [3], 2675: [4], 2677: [3], 2681: [3], 2683: [1], 2686: [3], 2687: [3], 2690: [3], 2691: [3], 2697: [3], 2698: [3], 2701: [2], 2705: [3], 2706: [3], 2708: [3], 2709: [3], 2710: [3], 2712: [3], 2713: [3], 2714: [3], 2717: [3], 2719: [3], 2721: [3], 2724: [3], 2728: [3], 2729: [3], 2736: [3], 2737: [3], 2738: [3], 2739: [3], 2748: [3], 2751: [1], 2753: [3], 2757: [3], 2761: [3], 2762: [3], 2765: [3], 2770: [1], 2771: [3], 2775: [3], 2776: [3], 2778: [1], 2779: [3], 2784: [3], 2789: [3], 2790: [1], 2793: [1], 2794: [3], 2795: [3], 2796: [3], 2797: [1], 2801: [3], 2803: [3], 2804: [1], 2810: [3], 2811: [3], 2813: [3], 2814: [3], 2816: [3], 2817: [3], 2822: [4], 2824: [3], 2833: [3], 2835: [1], 2836: [3], 2840: [3], 2841: [3], 2844: [3], 2848: [3], 2849: [3], 2856: [3], 2859: [1], 2860: [3], 2863: [3], 2864: [3], 2865: [3], 2868: [3], 2869: [3], 2874: [1], 2875: [1], 2879: [3], 2880: [1], 2881: [3], 2882: [4], 2883: [3], 2886: [3], 2891: [1], 2892: [3], 2894: [1], 2898: [3], 2900: [3], 2901: [3], 2905: [3], 2907: [3], 2908: [3], 2909: [1], 2917: [3], 2924: [1], 2925: [1], 2926: [3], 2931: [1], 2934: [3], 2937: [3], 2939: [3], 2946: [3], 2947: [3], 2953: [3], 2955: [3], 2958: [3], 2962: [3], 2966: [1], 2975: [3], 2981: [1], 2982: [3], 2985: [3], 2988: [1], 2989: [1], 2991: [1], 2992: [3], 2994: [1], 2995: [3], 2996: [3], 2999: [3], 3000: [3], 3010: [3], 3011: [3], 3013: [1], 3017: [1], 3020: [3], 3021: [1], 3024: [1], 3027: [1], 3034: [3], 3040: [3], 3041: [1], 3046: [3], 3048: [3], 3050: [1], 3054: [1], 3056: [3], 3058: [3], 3063: [3], 3065: [1], 3067: [3], 3072: [1], 3077: [3], 3083: [3], 3084: [3], 3088: [1], 3092: [3], 3094: [1], 3096: [1], 3104: [3], 3115: [3], 3116: [3], 3120: [3], 3122: [1], 3125: [3], 3126: [3], 3130: [3], 3133: [3], 3136: [3], 3138: [1], 3139: [3], 3142: [3], 3143: [1], 3145: [3], 3146: [3], 3154: [1], 3155: [3], 3158: [1], 3160: [3], 3167: [2], 3168: [3], 3170: [3], 3171: [3], 3175: [3], 3180: [1], 3182: [3], 3185: [3], 3188: [3], 3190: [1], 3195: [3], 3204: [3], 3206: [3], 3211: [3], 3213: [3], 3223: [3], 3226: [3], 3231: [3], 3234: [1], 3236: [3], 3239: [1], 3243: [2], 3246: [3], 3252: [3], 3253: [1], 3256: [2], 3263: [3], 3269: [4], 3275: [3], 3276: [2], 3278: [3], 3279: [3], 3280: [3], 3281: [3], 3284: [3], 3285: [3], 3287: [3], 3289: [1], 3294: [3], 3296: [3], 3297: [3], 3298: [3], 3304: [3], 3305: [3], 3309: [2], 3310: [1], 3313: [3], 3317: [3], 3323: [3], 3324: [3], 3325: [3], 3327: [3], 3330: [1], 3331: [1], 3334: [1], 3337: [1], 3340: [1], 3341: [2], 3346: [3], 3350: [3], 3352: [3], 3353: [3], 3356: [3], 3359: [3], 3364: [1], 3365: [3], 3367: [3], 3368: [3], 3373: [3], 3374: [3], 3377: [3], 3381: [1], 3382: [3], 3383: [3], 3385: [1], 3393: [4], 3394: [3], 3400: [3], 3402: [3], 3405: [1], 3407: [3], 3412: [1], 3421: [1], 3427: [3], 3428: [3], 3429: [1], 3431: [3], 3433: [1], 3435: [3], 3437: [3], 3440: [3], 3443: [1], 3444: [1], 3446: [3], 3450: [1], 3455: [3], 3456: [1], 3459: [3], 3461: [3], 3463: [3], 3465: [3], 3466: [1], 3468: [3], 3469: [3], 3470: [1], 3471: [3], 3472: [3], 3475: [3], 3477: [3], 3481: [3], 3485: [3], 3486: [3], 3488: [3], 3490: [3], 3491: [1], 3494: [3], 3497: [3], 3498: [3], 3500: [1], 3502: [1], 3507: [3], 3508: [3], 3513: [3], 3514: [3], 3515: [3], 3521: [3], 3523: [1], 3526: [4], 3530: [1], 3531: [3], 3540: [3], 3541: [3], 3546: [1], 3548: [3], 3549: [3], 3553: [1], 3554: [1], 3559: [4], 3562: [3], 3564: [1], 3566: [3], 3570: [1], 3571: [3], 3573: [3], 3574: [3], 3576: [3], 3578: [1], 3583: [1], 3584: [3], 3585: [3], 3587: [3], 3588: [3], 3592: [3], 3593: [3], 3603: [1], 3605: [3], 3609: [3], 3619: [3], 3622: [3], 3623: [3], 3627: [1], 3631: [3], 3640: [1], 3644: [3], 3646: [1], 3647: [3], 3648: [1], 3650: [3], 3651: [3], 3653: [1], 3654: [3], 3657: [3], 3661: [3], 3663: [3], 3666: [1], 3667: [3], 3668: [1], 3671: [3], 3673: [1], 3675: [1], 3678: [1], 3679: [3], 3684: [1], 3685: [1], 3694: [3], 3703: [3], 3705: [1], 3706: [3], 3709: [1], 3717: [1], 3729: [3], 3731: [2], 3732: [3], 3736: [3], 3738: [1], 3752: [1], 3753: [3], 3756: [1], 3762: [3], 3766: [1], 3767: [1], 3775: [3], 3783: [3], 3793: [1], 3800: [1], 3801: [3], 3802: [3], 3806: [3], 3807: [1], 3810: [2], 3814: [1], 3816: [4], 3823: [3], 3824: [3], 3831: [1], 3832: [3], 3833: [1], 3834: [3], 3838: [3], 3840: [3], 3843: [3], 3845: [3], 3847: [1], 3848: [3], 3849: [1], 3851: [3], 3852: [3], 3857: [1], 3858: [3], 3880: [1], 3882: [1], 3883: [3], 3890: [1], 3895: [3], 3902: [3], 3903: [3], 3904: [1], 3907: [3], 3910: [3], 3912: [1], 3914: [3], 3915: [4], 3916: [1], 3922: [3], 3924: [3], 3925: [4], 3929: [3], 3933: [3], 3935: [3], 3936: [1], 3940: [1], 3942: [3], 3944: [3], 3947: [3], 3948: [3], 3952: [3], 3953: [3], 3956: [1], 3960: [3], 3962: [1], 3968: [3], 3969: [1], 3978: [1], 3981: [3], 3985: [1], 3987: [3], 3989: [3], 3991: [3], 3996: [2], 3997: [1], 3999: [3], 4002: [1], 4004: [1], 4007: [3], 4008: [3], 4011: [1], 4014: [3], 4016: [3], 4018: [3], 4023: [3], 4025: [3], 4027: [3], 4028: [1], 4030: [2], 4032: [3], 4034: [3], 4039: [3], 4042: [3], 4045: [3], 4050: [3], 4052: [3], 4057: [3], 4059: [1], 4062: [3], 4065: [3], 4067: [3], 4071: [3], 4073: [3], 4074: [1], 4084: [4], 4087: [3], 4089: [3], 4093: [3], 4095: [3], 4098: [3], 4100: [1], 4101: [1], 4102: [3], 4103: [3], 4104: [5], 4106: [3], 4109: [3], 4113: [3], 4114: [3], 4115: [3], 4117: [3], 4118: [3], 4119: [3], 4126: [3], 4130: [3], 4131: [3], 4135: [3], 4138: [3], 4143: [3], 4144: [3], 4153: [3], 4156: [3], 4157: [3], 4158: [3], 4159: [1], 4173: [3], 4174: [3], 4175: [3], 4179: [1], 4180: [3], 4181: [3], 4184: [3], 4185: [1], 4186: [3], 4188: [3], 4191: [3], 4192: [3], 4194: [3], 4195: [3], 4199: [3], 4201: [1], 4205: [3], 4206: [3], 4220: [3], 4225: [3], 4226: [3], 4228: [3], 4234: [3], 4235: [3], 4236: [3], 4237: [3], 4239: [3], 4240: [3], 4245: [3], 4246: [3], 4248: [3], 4249: [1], 4259: [3], 4260: [4], 4261: [3], 4265: [3], 4267: [1], 4270: [3], 4271: [1], 4273: [1], 4274: [3], 4275: [3], 4277: [1], 4288: [3], 4293: [3], 4300: [3], 4304: [3], 4313: [3], 4314: [3], 4316: [1], 4321: [3], 4323: [3], 4324: [3], 4325: [3], 4327: [3], 4334: [1], 4341: [3], 4343: [3], 4345: [3], 4348: [1], 4350: [1], 4351: [3], 4352: [1], 4354: [3], 4355: [3], 4358: [3], 4359: [3], 4360: [3], 4366: [3], 4367: [3], 4369: [3], 4372: [3], 4374: [3], 4375: [3], 4381: [3], 4395: [3], 4399: [1], 4400: [3], 4409: [1], 4411: [1], 4412: [1], 4416: [3], 4417: [3], 4419: [1], 4420: [1], 4422: [3], 4425: [1], 4427: [3], 4433: [3], 4436: [3], 4441: [1], 4443: [3], 4445: [1], 4449: [1], 4452: [3], 4459: [3], 4462: [4], 4463: [3], 4465: [3], 4471: [1], 4472: [3], 4477: [3], 4478: [3], 4483: [3], 4485: [2], 4486: [3], 4487: [3], 4488: [1], 4489: [4], 4490: [3], 4492: [2], 4496: [3], 4498: [1], 4499: [1], 4501: [3], 4503: [3], 4504: [3], 4507: [1], 4508: [1], 4509: [3], 4514: [1], 4515: [3], 4516: [3], 4520: [3], 4527: [4], 4531: [1], 4537: [1], 4539: [3], 4541: [3], 4546: [3], 4547: [3], 4551: [1], 4556: [3], 4560: [1], 4561: [3], 4562: [1], 4564: [3], 4565: [1], 4569: [3], 4573: [3], 4580: [3], 4584: [1], 4588: [3], 4591: [3], 4593: [3], 4595: [1], 4596: [3], 4598: [3], 4600: [3], 4605: [3], 4607: [3], 4609: [3], 4610: [1], 4613: [3], 4614: [3], 4618: [3], 4620: [3], 4624: [1], 4633: [3], 4635: [3], 4640: [1], 4641: [3], 4647: [3], 4648: [3], 4651: [1], 4652: [1], 4653: [1], 4655: [3], 4659: [3], 4664: [3], 4666: [1], 4675: [3], 4676: [1], 4677: [3], 4680: [1], 4681: [1], 4683: [3], 4689: [3], 4691: [1], 4693: [1], 4694: [3], 4695: [1], 4696: [1], 4697: [4], 4698: [3], 4699: [3], 4704: [3], 4706: [3], 4708: [1], 4712: [3], 4718: [3], 4720: [3], 4729: [3], 4730: [3], 4741: [1], 4746: [3], 4747: [3], 4751: [3], 4752: [1], 4753: [3], 4755: [3], 4759: [3], 4763: [1], 4764: [3], 4769: [1], 4772: [4], 4775: [3], 4780: [1], 4786: [3], 4789: [1], 4791: [1], 4793: [3], 4797: [3], 4799: [3], 4801: [3], 4805: [1], 4808: [3], 4811: [3], 4815: [3], 4816: [3], 4819: [3], 4820: [3], 4821: [3], 4827: [3], 4829: [3], 4835: [3], 4837: [3], 4839: [3], 4841: [3], 4843: [3], 4845: [1], 4847: [1], 4848: [3], 4852: [1], 4853: [1], 4856: [3], 4857: [3], 4858: [1], 4859: [3], 4863: [1], 4865: [3], 4867: [3], 4871: [3], 4877: [2], 4882: [3], 4883: [3], 4884: [2], 4885: [3], 4889: [1], 4894: [3], 4895: [3], 4897: [3], 4901: [1], 4904: [1], 4906: [3], 4910: [3], 4919: [1], 4925: [3], 4928: [1], 4933: [3], 4938: [1], 4939: [3], 4945: [4], 4951: [1], 4952: [1], 4953: [4], 4962: [1], 4963: [1], 4968: [3], 4969: [1], 4971: [1], 4977: [3], 4978: [1], 4985: [3], 4987: [3], 4989: [1], 4992: [3], 4998: [3], 5002: [3], 5005: [3], 5008: [1], 5010: [1], 5014: [1], 5015: [4], 5024: [1], 5029: [1], 5033: [1], 5036: [3], 5037: [1], 5044: [1], 5049: [3], 5059: [3], 5061: [3], 5066: [3], 5069: [1], 5072: [3], 5073: [4], 5074: [4], 5075: [3], 5076: [1], 5078: [3], 5080: [3], 5082: [3], 5084: [3], 5087: [3], 5091: [1], 5092: [1], 5095: [1], 5097: [3], 5099: [1], 5100: [3], 5105: [3], 5108: [3], 5109: [3], 5110: [1], 5114: [3], 5127: [3], 5128: [1], 5131: [4], 5132: [3], 5133: [3], 5143: [3], 5144: [1], 5145: [3], 5149: [3], 5154: [1], 5157: [3], 5161: [3], 5163: [1], 5164: [3], 5175: [3], 5176: [3], 5178: [3], 5180: [1], 5182: [1], 5184: [3], 5187: [1], 5193: [3], 5195: [3], 5196: [3], 5199: [3], 5201: [3], 5202: [3], 5209: [1], 5210: [3], 5211: [1], 5212: [1], 5216: [3], 5217: [3], 5219: [3], 5220: [3], 5222: [3], 5225: [3], 5231: [3], 5232: [3], 5238: [3], 5239: [3], 5240: [3], 5248: [3], 5249: [3], 5252: [1], 5253: [3], 5254: [3], 5261: [3], 5266: [1], 5275: [3], 5278: [3], 5280: [3], 5281: [3], 5282: [3], 5283: [3], 5285: [3], 5288: [3], 5289: [1], 5292: [3], 5298: [3], 5299: [3], 5303: [3], 5304: [1], 5317: [1], 5318: [3], 5320: [3], 5323: [3], 5324: [3], 5331: [3], 5336: [3], 5341: [1], 5351: [1], 5364: [1], 5368: [3], 5369: [1], 5370: [1], 5372: [1], 5373: [3], 5374: [3], 5375: [3], 5376: [3], 5378: [3], 5379: [3], 5380: [1], 5382: [3], 5383: [1], 5388: [3], 5391: [1], 5394: [1], 5399: [3], 5410: [3], 5417: [3], 5418: [1], 5424: [3], 5426: [3], 5428: [1], 5429: [3], 5431: [3], 5433: [3], 5438: [1], 5446: [3], 5447: [3], 5448: [1], 5449: [3], 5450: [3], 5452: [1], 5454: [3], 5455: [3], 5461: [3], 5463: [1], 5476: [3], 5477: [3], 5479: [3], 5481: [3], 5483: [3], 5487: [3], 5491: [1], 5493: [1], 5495: [3], 5496: [3], 5497: [4], 5498: [1], 5502: [3], 5503: [3], 5513: [3], 5516: [1], 5521: [3], 5522: [4], 5524: [1], 5525: [3], 5529: [3], 5534: [3], 5535: [3], 5537: [3], 5549: [3], 5550: [1], 5557: [3], 5558: [3], 5560: [3], 5562: [3], 5567: [4], 5570: [3], 5573: [1], 5585: [1], 5586: [1], 5591: [1], 5593: [3], 5594: [3], 5595: [3], 5596: [1], 5600: [3], 5601: [3], 5603: [3], 5604: [3], 5624: [3], 5626: [3], 5634: [3], 5637: [3], 5644: [3], 5645: [3], 5654: [3], 5655: [3], 5659: [1], 5660: [3], 5661: [1], 5663: [1], 5664: [3], 5668: [3], 5673: [3], 5678: [3], 5679: [3], 5680: [3], 5682: [3], 5688: [3], 5698: [1], 5701: [3], 5703: [1], 5704: [3], 5706: [3], 5712: [1], 5720: [1], 5721: [3], 5723: [1], 5726: [3], 5727: [3], 5729: [3], 5730: [3], 5731: [1], 5732: [1], 5735: [3], 5736: [3], 5737: [2], 5742: [3], 5745: [1], 5748: [1], 5762: [1], 5764: [3], 5765: [1], 5767: [3], 5770: [1], 5772: [3], 5774: [1], 5775: [1], 5778: [3], 5779: [3], 5782: [1], 5784: [3], 5785: [2], 5789: [3], 5791: [1], 5798: [3], 5799: [3], 5803: [4], 5805: [3], 5806: [3], 5808: [4], 5809: [3], 5810: [1], 5813: [4], 5814: [3], 5815: [3], 5822: [3], 5826: [1], 5830: [1], 5834: [3], 5838: [4], 5839: [3], 5840: [3], 5843: [3], 5845: [3], 5846: [1], 5847: [3], 5848: [1], 5849: [2], 5850: [3], 5856: [3], 5858: [3], 5859: [2], 5860: [1], 5861: [3], 5864: [2], 5866: [2], 5870: [3], 5871: [3], 5875: [1], 5876: [1], 5878: [3], 5883: [1], 5884: [1], 5887: [3], 5891: [3], 5896: [3], 5899: [3], 5902: [3], 5905: [3], 5906: [3], 5915: [3], 5919: [1], 5920: [1], 5922: [1], 5925: [3], 5926: [3], 5929: [3], 5930: [3], 5935: [1], 5938: [3], 5941: [3], 5942: [3], 5944: [1], 5954: [3], 5957: [1], 5958: [3], 5960: [3], 5962: [1], 5968: [1], 5975: [1], 5977: [3], 5979: [1], 5980: [3], 5985: [3], 5988: [3], 5990: [3], 5991: [1], 5992: [1], 5993: [1], 5996: [1], 5997: [3], 6002: [3], 6004: [3], 6015: [1], 6017: [3], 6018: [3], 6020: [3], 6024: [3], 6025: [3], 6030: [3], 6032: [3], 6034: [3], 6036: [3], 6037: [3], 6039: [3], 6043: [3], 6048: [3], 6049: [1], 6052: [1], 6054: [1], 6058: [1], 6059: [3], 6060: [1], 6066: [1], 6070: [3], 6076: [3], 6081: [1], 6085: [3], 6086: [3], 6088: [1], 6090: [3], 6093: [3], 6096: [3], 6097: [4], 6099: [3], 6104: [3], 6111: [3], 6112: [3], 6123: [4], 6124: [3], 6126: [3], 6132: [3], 6133: [3], 6136: [3], 6139: [3], 6143: [1], 6147: [3], 6152: [3], 6159: [3], 6162: [3], 6163: [3], 6169: [3], 6171: [4], 6172: [1], 6174: [3], 6176: [3], 6188: [3], 6193: [3], 6194: [3], 6196: [3], 6200: [3], 6201: [3], 6202: [3], 6203: [3], 6204: [3], 6205: [3], 6207: [3], 6209: [3], 6210: [3], 6211: [3], 6213: [3], 6216: [3], 6217: [3], 6219: [3], 6220: [1], 6222: [3], 6223: [3], 6225: [3], 6226: [1], 6228: [3], 6233: [3], 6234: [3], 6245: [3], 6247: [1], 6249: [3], 6252: [3], 6256: [3], 6259: [1], 6267: [3], 6270: [3], 6277: [3], 6280: [1], 6283: [3], 6284: [3], 6288: [3], 6290: [3], 6291: [3], 6297: [3], 6300: [3], 6302: [1], 6303: [3], 6307: [1], 6308: [4], 6311: [1], 6313: [3], 6317: [3], 6321: [3], 6326: [3], 6329: [3], 6332: [3], 6333: [1], 6346: [3], 6362: [3], 6363: [3], 6364: [1], 6366: [3], 6369: [3], 6371: [3], 6372: [3], 6373: [3], 6377: [3], 6381: [1], 6384: [3], 6387: [3], 6395: [1], 6400: [3], 6407: [3], 6409: [3], 6410: [3], 6414: [4], 6415: [3], 6420: [3], 6421: [3], 6422: [1], 6428: [1], 6429: [3], 6432: [3], 6438: [3], 6443: [3], 6449: [3], 6451: [1], 6456: [3], 6460: [3], 6477: [1], 6481: [1], 6483: [3], 6484: [3], 6490: [3], 6516: [4], 6530: [3], 6531: [3], 6537: [3], 6544: [3], 6548: [3], 6558: [3], 6560: [3], 6562: [1], 6568: [3], 6571: [3], 6585: [1], 6587: [3], 6591: [3], 6594: [3], 6597: [3], 6600: [1], 6606: [1], 6613: [3], 6618: [1], 6620: [1], 6621: [3], 6623: [1], 6624: [3], 6627: [1], 6628: [1], 6629: [1], 6633: [3], 6639: [3], 6640: [3], 6642: [1], 6646: [3], 6649: [1], 6651: [3], 6652: [3], 6653: [3], 6655: [3], 6656: [3], 6657: [3], 6660: [1], 6664: [3], 6670: [3], 6671: [3], 6674: [1], 6684: [1], 6687: [3], 6691: [1], 6700: [4], 6702: [3], 6704: [3], 6711: [1], 6712: [1], 6713: [1], 6722: [3], 6725: [3], 6726: [3], 6730: [1], 6731: [3], 6732: [1], 6736: [3], 6737: [1], 6739: [3], 6741: [4], 6742: [3], 6743: [3], 6744: [3], 6749: [3], 6752: [3], 6757: [3], 6764: [3], 6769: [1], 6777: [3], 6784: [1], 6785: [3], 6791: [3], 6794: [1], 6795: [3], 6796: [1], 6801: [3], 6802: [3], 6803: [3], 6804: [3], 6814: [3], 6816: [3], 6817: [3], 6819: [1], 6821: [1], 6823: [3], 6826: [3], 6828: [3], 6830: [2], 6838: [3], 6846: [1], 6847: [3], 6852: [3], 6853: [3], 6856: [1], 6863: [1], 6866: [1], 6867: [3], 6873: [3], 6874: [1], 6875: [2], 6892: [3], 6893: [3], 6894: [3], 6896: [1], 6901: [1], 6903: [3], 6907: [3], 6914: [3], 6916: [3], 6917: [4], 6919: [1], 6925: [1], 6926: [1], 6928: [1], 6932: [1], 6934: [3], 6938: [3], 6939: [3], 6947: [3], 6950: [3], 6953: [1], 6954: [1], 6956: [3], 6957: [3], 6958: [1], 6961: [1], 6963: [3], 6964: [3], 6967: [3], 6968: [3], 6970: [3], 6976: [1], 6981: [3], 6984: [3], 6987: [3], 6988: [3], 6990: [1], 6992: [3], 6993: [3], 6999: [1], 7000: [3], 7004: [1], 7006: [1], 7007: [3], 7011: [2], 7013: [3], 7014: [3], 7020: [3], 7021: [3], 7028: [3], 7033: [3], 7034: [3], 7044: [3], 7046: [1], 7049: [1], 7050: [1], 7052: [2], 7058: [3], 7060: [1], 7063: [3], 7065: [1], 7066: [1], 7072: [4], 7077: [3], 7094: [3], 7096: [3], 7098: [3], 7102: [1], 7104: [1], 7106: [3], 7114: [1], 7118: [3], 7122: [1], 7127: [3], 7131: [3], 7133: [1], 7135: [3], 7140: [3], 7142: [3], 7144: [1], 7152: [3], 7153: [3], 7155: [3], 7157: [3], 7160: [1], 7162: [1], 7163: [3], 7168: [3], 7173: [3], 7175: [3], 7180: [3], 7181: [1], 7185: [3], 7189: [3], 7190: [3], 7194: [1], 7195: [3], 7198: [3], 7199: [1], 7219: [3], 7222: [1], 7223: [1], 7224: [3], 7233: [1], 7235: [1], 7250: [3], 7265: [1], 7277: [1], 7279: [1], 7285: [1], 7287: [3], 7294: [4], 7295: [1], 7297: [3], 7298: [1], 7303: [3], 7305: [1], 7306: [3], 7308: [3], 7311: [3], 7314: [3], 7315: [3], 7322: [1], 7333: [1], 7340: [1], 7347: [1], 7348: [3], 7352: [3], 7361: [3], 7363: [1], 7366: [1], 7375: [3], 7376: [3], 7383: [3], 7384: [1], 7385: [1], 7392: [3], 7394: [1], 7399: [3], 7401: [3], 7403: [1], 7407: [1], 7413: [3], 7416: [1], 7417: [1], 7421: [3], 7423: [1], 7424: [1], 7427: [3], 7434: [1], 7437: [1], 7438: [3], 7440: [3], 7443: [3], 7444: [3], 7445: [1], 7452: [3], 7453: [3], 7455: [3], 7456: [1], 7457: [3], 7458: [3], 7462: [1], 7466: [4], 7467: [3], 7471: [3], 7478: [3], 7479: [3], 7480: [3], 7484: [1], 7485: [3], 7487: [3], 7495: [3], 7496: [3], 7497: [1], 7498: [3], 7500: [3], 7503: [3], 7506: [3], 7508: [3], 7509: [3], 7510: [3], 7511: [1], 7512: [3], 7514: [3], 7519: [3], 7524: [3], 7528: [1], 7531: [3], 7537: [3], 7538: [1], 7540: [1], 7541: [1], 7547: [3], 7549: [3], 7550: [3], 7551: [1], 7555: [2], 7557: [3], 7560: [1], 7563: [3], 7566: [1], 7570: [3], 7573: [3], 7575: [1], 7581: [3], 7582: [3], 7588: [2], 7589: [4], 7592: [3], 7594: [3], 7595: [3], 7596: [1], 7597: [3], 7598: [3], 7600: [3], 7601: [3], 7603: [1], 7606: [3], 7614: [3], 7615: [3], 7617: [3], 7620: [2], 7621: [1], 7624: [3], 7626: [1], 7627: [1], 7631: [2], 7632: [3], 7634: [3], 7636: [3], 7640: [3], 7642: [3], 7643: [1], 7646: [3], 7657: [3], 7661: [3], 7663: [3], 7665: [3], 7666: [3], 7671: [3], 7673: [3], 7679: [2], 7680: [3], 7681: [1], 7685: [3], 7687: [3], 7688: [3], 7690: [3], 7696: [3], 7699: [1], 7702: [1], 7704: [3], 7708: [1], 7710: [3], 7716: [1], 7717: [4], 7718: [3], 7721: [1], 7722: [3], 7723: [1], 7725: [3], 7732: [3], 7737: [2], 7738: [3], 7740: [3], 7743: [3], 7751: [1], 7754: [1], 7755: [1], 7756: [3], 7759: [3], 7770: [3], 7773: [3], 7775: [3], 7776: [3], 7778: [1], 7781: [3], 7787: [3], 7788: [1], 7791: [1], 7792: [1], 7794: [1], 7796: [3], 7798: [3], 7799: [2], 7800: [3], 7802: [3], 7803: [3], 7804: [3], 7805: [3], 7807: [1], 7814: [3], 7815: [3], 7821: [3], 7822: [3], 7825: [1], 7826: [3], 7827: [3], 7829: [1], 7833: [3], 7834: [3], 7835: [3], 7838: [2], 7839: [3], 7843: [3], 7844: [3], 7845: [1], 7848: [3], 7849: [3], 7852: [3], 7853: [1], 7854: [1], 7860: [3], 7862: [1], 7866: [3], 7869: [3], 7875: [1], 7880: [1], 7882: [3], 7883: [3], 7890: [3], 7891: [1], 7900: [3], 7903: [1], 7904: [3], 7906: [1], 7908: [1], 7912: [3], 7913: [3], 7916: [3], 7918: [3], 7919: [1], 7923: [3], 7925: [1], 7928: [3], 7934: [3], 7935: [1], 7937: [3], 7940: [3], 7943: [1], 7946: [3], 7948: [3], 7949: [3], 7951: [3], 7953: [1], 7954: [1], 7956: [3], 7961: [3], 7963: [3], 7964: [3], 7969: [3], 7972: [1], 7973: [3], 7977: [1], 7979: [3], 7980: [3], 7992: [3], 7995: [3], 7998: [3], 8000: [3], 8002: [1], 8004: [3], 8012: [3], 8014: [1], 8015: [3], 8016: [3], 8021: [3], 8022: [1], 8027: [1], 8028: [1], 8029: [3], 8034: [1], 8040: [3], 8041: [3], 8042: [1], 8043: [3], 8044: [3], 8049: [3], 8050: [3], 8056: [3], 8057: [1], 8059: [4], 8060: [3], 8064: [3], 8065: [3], 8066: [1], 8068: [1], 8071: [3], 8075: [3], 8076: [1], 8077: [3], 8081: [3], 8087: [3], 8088: [1], 8090: [3], 8091: [3], 8093: [3], 8097: [3], 8099: [2], 8100: [1], 8108: [3], 8110: [3], 8111: [3], 8112: [3], 8113: [1], 8114: [3], 8116: [3], 8117: [1], 8122: [1], 8124: [3], 8125: [3], 8126: [3], 8127: [3], 8134: [3], 8135: [3], 8136: [3], 8139: [1], 8140: [3], 8142: [4], 8145: [3], 8146: [3], 8147: [3], 8148: [5], 8151: [3], 8153: [3], 8154: [2], 8156: [4], 8157: [3], 8158: [3], 8159: [3], 8160: [3], 8163: [3], 8166: [1], 8172: [1], 8173: [3], 8175: [3], 8177: [3], 8179: [3], 8181: [3], 8183: [4], 8184: [3], 8190: [3], 8192: [3], 8195: [3], 8199: [3], 8201: [3], 8205: [3], 8207: [3], 8210: [3], 8213: [3], 8215: [1], 8216: [1], 8219: [3], 8226: [3], 8227: [3], 8228: [1], 8229: [3], 8233: [3], 8236: [3], 8238: [4], 8242: [1], 8249: [3], 8250: [3], 8260: [1], 8262: [3], 8266: [1], 8271: [3], 8278: [3], 8281: [3], 8282: [3], 8283: [1], 8286: [3], 8287: [3], 8288: [3], 8291: [3], 8292: [1], 8293: [3], 8296: [3], 8297: [3], 8300: [3], 8301: [1], 8304: [3], 8307: [3], 8308: [3], 8309: [3], 8313: [3], 8315: [3], 8316: [3], 8322: [1], 8326: [3], 8327: [3], 8329: [3], 8335: [3], 8337: [3], 8338: [1], 8341: [3], 8343: [3], 8345: [1], 8351: [3], 8352: [3], 8353: [3], 8354: [3], 8358: [1], 8361: [3], 8362: [3], 8364: [3], 8367: [3], 8368: [1], 8369: [1], 8370: [1], 8372: [3], 8374: [3], 8375: [3], 8376: [3], 8377: [3], 8383: [3], 8385: [1], 8391: [3], 8397: [3], 8400: [1], 8407: [3], 8410: [3], 8412: [1], 8415: [4], 8416: [3], 8423: [3], 8425: [1], 8430: [3], 8433: [1], 8434: [3], 8437: [3], 8439: [3], 8441: [3], 8442: [1], 8450: [3], 8452: [4], 8453: [3], 8454: [3], 8455: [3], 8460: [3], 8468: [3], 8469: [3], 8470: [3], 8471: [1], 8472: [3], 8478: [3], 8481: [1], 8483: [1], 8484: [3], 8485: [3], 8487: [3], 8489: [3], 8490: [3], 8491: [3], 8494: [3], 8495: [3], 8498: [1], 8500: [3], 8501: [3], 8502: [3], 8506: [1], 8507: [3], 8509: [1], 8522: [1], 8524: [3], 8526: [1], 8528: [1], 8533: [3], 8542: [1], 8544: [3], 8546: [3], 8548: [3], 8549: [3], 8553: [3], 8555: [3], 8556: [3], 8562: [3], 8563: [3], 8569: [3], 8572: [3], 8576: [1], 8581: [1], 8583: [3], 8584: [3], 8586: [3], 8587: [1], 8588: [1], 8589: [3], 8590: [3], 8598: [1], 8599: [1], 8600: [3], 8608: [3], 8609: [1], 8612: [3], 8613: [1], 8614: [1], 8616: [3], 8619: [3], 8621: [3], 8625: [3], 8632: [3], 8635: [1], 8637: [4], 8639: [1], 8648: [3], 8650: [3], 8651: [3], 8653: [3], 8655: [2], 8661: [3], 8662: [3], 8663: [3], 8665: [4], 8668: [1], 8671: [3], 8674: [3], 8676: [3], 8678: [3], 8680: [2], 8683: [3], 8684: [3], 8687: [3], 8691: [3], 8695: [3], 8698: [3], 8700: [3], 8701: [1], 8705: [1], 8708: [1], 8709: [3], 8716: [3], 8717: [3], 8719: [2], 8721: [3], 8722: [3], 8724: [3], 8730: [3], 8733: [1], 8734: [3], 8737: [1], 8738: [3], 8739: [3], 8742: [3], 8744: [1], 8746: [3], 8748: [3], 8749: [1], 8751: [3], 8754: [1], 8757: [1], 8760: [3], 8761: [1], 8766: [3], 8768: [3], 8769: [3], 8772: [3], 8773: [3], 8775: [3], 8776: [3], 8777: [3], 8778: [3], 8780: [3], 8785: [3], 8786: [2], 8787: [3], 8788: [1], 8789: [3], 8790: [3], 8793: [3], 8796: [3], 8797: [1], 8798: [3], 8800: [3], 8801: [3], 8802: [1], 8811: [3], 8814: [3], 8815: [3], 8816: [3], 8817: [1], 8818: [3], 8820: [3], 8822: [3], 8825: [3], 8828: [1], 8833: [1], 8837: [3], 8838: [1], 8839: [3], 8842: [3], 8846: [3], 8847: [3], 8851: [4], 8852: [3], 8857: [1], 8859: [1], 8860: [1], 8862: [3], 8865: [3], 8868: [3], 8872: [3], 8875: [1], 8877: [3], 8878: [3], 8879: [3], 8882: [3], 8885: [1], 8886: [3], 8889: [3], 8890: [4], 8892: [3], 8900: [3], 8902: [3], 8909: [3], 8910: [3], 8912: [3], 8913: [3], 8915: [1], 8916: [1], 8927: [1], 8928: [3], 8931: [1], 8936: [3], 8937: [3], 8938: [3], 8940: [3], 8941: [1], 8942: [4], 8943: [1], 8946: [3], 8950: [1], 8957: [3], 8971: [3], 8972: [1], 8975: [1], 8977: [3], 8984: [3], 8986: [3], 8996: [1], 8997: [2], 9001: [3], 9002: [3], 9003: [1], 9007: [3], 9008: [3], 9009: [1], 9015: [3], 9016: [3], 9019: [1], 9023: [3], 9024: [3], 9025: [3], 9027: [3], 9030: [4], 9033: [1], 9039: [3], 9041: [1], 9042: [1], 9044: [3], 9049: [3], 9050: [3], 9056: [3], 9061: [3], 9063: [1], 9064: [3], 9068: [1], 9069: [3], 9072: [2], 9082: [3], 9084: [1], 9089: [3], 9097: [3], 9103: [3], 9104: [3], 9105: [3], 9112: [3], 9115: [1], 9120: [3], 9121: [1], 9122: [3], 9123: [3], 9124: [1], 9125: [3], 9128: [3], 9131: [3], 9132: [3], 9133: [1], 9140: [1], 9141: [1], 9143: [3], 9144: [3], 9147: [3], 9152: [3], 9160: [1], 9163: [3], 9165: [3], 9169: [3], 9171: [1], 9172: [3], 9173: [3], 9180: [3], 9186: [3], 9198: [3], 9200: [3], 9204: [1], 9207: [1], 9210: [4], 9212: [1], 9213: [2], 9214: [3], 9216: [1], 9220: [3], 9225: [3], 9226: [3], 9229: [3], 9230: [3], 9237: [1], 9238: [3], 9240: [3], 9243: [1], 9245: [4], 9247: [2], 9249: [3], 9250: [3], 9251: [3], 9253: [3], 9257: [1], 9258: [3], 9264: [3], 9265: [3], 9266: [1], 9271: [3], 9272: [3], 9273: [3], 9279: [1], 9281: [3], 9283: [1], 9285: [3], 9286: [3], 9289: [1], 9291: [2], 9293: [3], 9300: [1], 9304: [1], 9305: [3], 9308: [3], 9309: [3], 9311: [3], 9313: [3], 9314: [3], 9315: [3], 9317: [3], 9320: [3], 9323: [3], 9325: [3], 9326: [3], 9331: [3], 9334: [1], 9337: [3], 9338: [3], 9343: [3], 9350: [1], 9358: [1], 9360: [3], 9362: [3], 9367: [1], 9370: [3], 9372: [3], 9374: [1], 9377: [3], 9379: [1], 9380: [2], 9382: [3], 9383: [1], 9385: [3], 9392: [3], 9393: [3], 9394: [1], 9397: [3], 9398: [3], 9402: [3], 9407: [1], 9411: [3], 9414: [1], 9415: [3], 9420: [3], 9421: [3], 9424: [3], 9426: [3], 9428: [2], 9435: [3], 9438: [3], 9440: [3], 9443: [3], 9447: [3], 9448: [3], 9451: [3], 9454: [3], 9457: [1], 9458: [1], 9461: [3], 9463: [3], 9466: [1], 9470: [4], 9478: [3], 9479: [3], 9483: [1], 9489: [3], 9490: [3], 9494: [1], 9502: [3], 9503: [1], 9504: [3], 9507: [3], 9509: [3], 9511: [3], 9514: [3], 9519: [3], 9520: [4], 9522: [4], 9532: [3], 9533: [3], 9534: [3], 9539: [1], 9542: [3], 9543: [3], 9544: [3], 9546: [3], 9549: [3], 9552: [1], 9556: [3], 9557: [1], 9560: [1], 9561: [3], 9564: [3], 9567: [3], 9568: [3], 9570: [3], 9573: [3], 9574: [3], 9575: [3], 9577: [3], 9579: [3], 9580: [1], 9582: [1], 9586: [3], 9587: [1], 9588: [1], 9589: [1], 9592: [3], 9593: [3], 9595: [3], 9597: [3], 9598: [3], 9599: [1], 9602: [3], 9614: [4], 9619: [1], 9621: [1], 9626: [3], 9629: [1], 9630: [3], 9631: [3], 9639: [3], 9644: [3], 9645: [3], 9652: [1], 9655: [3], 9657: [3], 9662: [3], 9663: [3], 9664: [3], 9666: [3], 9676: [3], 9677: [1], 9683: [3], 9684: [4], 9687: [1], 9688: [3], 9692: [3], 9693: [4], 9695: [3], 9696: [3], 9700: [1], 9704: [3], 9709: [3], 9712: [3], 9713: [3], 9715: [3], 9718: [3], 9719: [3], 9721: [3], 9722: [3], 9723: [3], 9724: [3], 9727: [3], 9730: [3], 9732: [3], 9733: [3], 9736: [3], 9745: [3], 9746: [3], 9747: [3], 9750: [3], 9751: [3], 9752: [3], 9754: [1], 9761: [1], 9765: [3], 9766: [1], 9770: [3], 9775: [3], 9776: [1], 9777: [3], 9778: [3], 9779: [3], 9780: [3], 9782: [3], 9785: [3], 9786: [4], 9789: [1], 9791: [3], 9794: [3], 9796: [3], 9797: [3], 9807: [3], 9808: [3], 9815: [3], 9819: [1], 9823: [3], 9824: [3], 9825: [1], 9829: [3], 9830: [1], 9834: [1], 9837: [1], 9840: [3], 9841: [3], 9843: [4], 9851: [3], 9855: [1], 9861: [3], 9868: [1], 9869: [1], 9875: [3], 9877: [3], 9879: [1], 9886: [1], 9888: [3], 9889: [3], 9893: [3], 9894: [3], 9899: [3], 9901: [3], 9905: [3], 9907: [1], 9910: [3], 9912: [3], 9915: [3], 9918: [3], 9920: [3], 9922: [3], 9925: [3], 9929: [1], 9931: [3], 9937: [3], 9942: [1], 9945: [3], 9946: [3], 9947: [3], 9952: [1], 9954: [3], 9958: [1], 9961: [1], 9962: [1], 9965: [1], 9966: [3], 9967: [3], 9971: [3], 9972: [3], 9979: [3], 9981: [1], 9985: [3], 9987: [3], 9992: [3], 9999: [1], 10003: [1], 10008: [3], 10011: [1], 10021: [3], 10022: [3], 10023: [3], 10024: [3], 10027: [1], 10028: [1], 10030: [3], 10032: [3], 10038: [1], 10041: [3], 10043: [3], 10045: [3], 10046: [4], 10047: [3], 10050: [1], 10056: [3], 10060: [3], 10061: [3], 10062: [1], 10063: [1], 10064: [3], 10065: [1], 10075: [3], 10077: [3], 10080: [1], 10081: [3], 10083: [3], 10084: [3], 10086: [3], 10087: [3], 10088: [1], 10089: [3], 10096: [3], 10097: [3], 10099: [1], 10100: [3], 10105: [3], 10106: [3], 10110: [3], 10113: [3], 10114: [3], 10117: [3], 10118: [3], 10122: [1], 10123: [1], 10128: [4], 10137: [3], 10146: [3], 10147: [3], 10150: [3], 10152: [3], 10156: [3], 10158: [3], 10162: [3], 10164: [1], 10165: [2], 10167: [3], 10168: [1], 10170: [3], 10171: [3], 10176: [1], 10180: [1], 10184: [3], 10188: [3], 10193: [3], 10194: [3], 10197: [2], 10199: [3], 10204: [1], 10208: [3], 10209: [3], 10210: [3], 10214: [1], 10225: [3], 10226: [3], 10228: [3], 10230: [3], 10234: [3], 10237: [1], 10238: [3], 10240: [3], 10243: [3], 10245: [3], 10246: [3], 10249: [3], 10250: [3], 10252: [3], 10255: [3], 10258: [3], 10259: [1], 10260: [1], 10263: [3], 10264: [3], 10268: [1], 10271: [2], 10272: [3], 10279: [1], 10285: [2], 10289: [3], 10290: [3], 10293: [1], 10298: [3], 10299: [3], 10300: [3], 10302: [1], 10303: [3], 10304: [3], 10310: [3], 10312: [3], 10316: [1], 10317: [1], 10318: [1], 10320: [3], 10324: [3], 10333: [3], 10339: [1], 10340: [3], 10344: [3], 10346: [3], 10353: [3], 10354: [3], 10355: [1], 10357: [3], 10359: [3], 10363: [3], 10369: [3], 10375: [3], 10378: [3], 10385: [3], 10389: [3], 10392: [1], 10393: [3], 10396: [3], 10397: [1], 10399: [1], 10402: [1], 10404: [1], 10405: [3], 10407: [3], 10413: [3], 10414: [3], 10418: [3], 10419: [3], 10428: [3], 10434: [3], 10438: [3], 10439: [3], 10440: [3], 10441: [1], 10442: [3], 10446: [3], 10450: [3], 10453: [3], 10454: [3], 10461: [3], 10465: [4], 10466: [4], 10468: [1], 10469: [3], 10473: [3], 10476: [1], 10477: [3], 10478: [3], 10489: [2], 10494: [1], 10499: [3], 10504: [1], 10508: [1], 10524: [3], 10527: [3], 10530: [3], 10535: [3], 10537: [3], 10542: [4], 10553: [1], 10554: [1], 10559: [3], 10566: [1], 10571: [1], 10579: [1], 10582: [3], 10585: [3], 10586: [1], 10587: [3], 10590: [1], 10594: [1], 10596: [3], 10597: [3], 10600: [3], 10605: [3], 10606: [3], 10607: [3], 10620: [3], 10624: [3], 10627: [3], 10628: [3], 10632: [1], 10634: [3], 10637: [3], 10638: [1], 10644: [3], 10646: [1], 10648: [3], 10650: [1], 10651: [3], 10652: [1], 10656: [3], 10659: [1], 10660: [3], 10663: [3], 10664: [3], 10667: [3], 10668: [3], 10669: [1], 10670: [3], 10671: [3], 10672: [1], 10673: [1], 10674: [1], 10677: [3], 10678: [3], 10681: [1], 10686: [3], 10687: [1], 10689: [1], 10691: [4], 10692: [1], 10695: [3], 10698: [3], 10699: [1], 10702: [3], 10703: [1], 10706: [3], 10723: [3], 10724: [3], 10725: [1], 10727: [3], 10729: [3], 10732: [3], 10739: [3], 10742: [3], 10745: [1], 10747: [1], 10748: [3], 10752: [1], 10753: [3], 10754: [3], 10755: [3], 10756: [3], 10758: [3], 10760: [4], 10769: [1], 10772: [1], 10775: [1], 10778: [3], 10779: [3], 10780: [3], 10781: [1], 10783: [3], 10785: [1], 10786: [3], 10789: [3], 10791: [3], 10792: [3], 10795: [3], 10796: [1], 10799: [3], 10800: [2], 10801: [3], 10802: [3], 10804: [3], 10805: [3], 10808: [3], 10809: [3], 10814: [3], 10823: [2], 10827: [1], 10828: [3], 10836: [3], 10839: [1], 10847: [3], 10848: [3], 10849: [1], 10853: [1], 10856: [1], 10857: [3], 10862: [3], 10874: [3], 10877: [3], 10878: [3], 10882: [3], 10883: [1], 10884: [3], 10886: [3], 10888: [3], 10889: [1], 10896: [3], 10897: [4], 10902: [3], 10904: [3], 10905: [1], 10910: [3], 10911: [3], 10920: [3], 10922: [3], 10930: [1], 10931: [1], 10940: [1], 10943: [3], 10946: [3], 10950: [3], 10953: [3], 10955: [3], 10956: [3], 10958: [1], 10965: [1], 10968: [3], 10973: [1], 10975: [3], 10976: [3], 10981: [1], 10983: [3], 10984: [3], 10987: [1], 10992: [1], 10995: [3], 10996: [3], 11002: [1], 11003: [3], 11010: [1], 11017: [3], 11019: [3], 11025: [3], 11030: [3], 11032: [1], 11040: [3], 11048: [1], 11050: [1], 11054: [3], 11057: [3], 11060: [1], 11065: [3], 11070: [3], 11071: [1], 11073: [1], 11075: [3], 11090: [1], 11095: [3], 11097: [3], 11098: [1], 11102: [1], 11103: [1], 11107: [3], 11110: [1], 11111: [3], 11112: [1], 11114: [1], 11117: [3], 11120: [3], 11121: [3], 11124: [3], 11125: [3], 11126: [3], 11130: [2], 11131: [1], 11134: [3], 11136: [1], 11138: [1], 11139: [3], 11142: [3], 11144: [1], 11148: [3], 11149: [3], 11153: [2], 11156: [3], 11160: [3], 11161: [1], 11164: [1], 11168: [1], 11170: [3], 11174: [1], 11175: [3], 11177: [4], 11181: [1], 11182: [3], 11184: [1], 11186: [3], 11188: [2], 11197: [1], 11198: [4], 11200: [1], 11202: [1], 11203: [3], 11214: [1], 11216: [3], 11218: [3], 11221: [3], 11223: [3], 11225: [1], 11226: [3], 11229: [1], 11234: [3], 11235: [3], 11240: [1], 11243: [3], 11244: [1], 11251: [1], 11253: [1], 11254: [1], 11256: [3], 11258: [1], 11263: [2], 11265: [3], 11267: [3], 11269: [3], 11276: [3], 11284: [3], 11285: [3], 11287: [3], 11290: [3], 11296: [1], 11302: [3], 11308: [1], 11312: [3], 11315: [3], 11321: [4], 11322: [3], 11325: [3], 11327: [1], 11330: [1], 11331: [3], 11336: [3], 11337: [3], 11338: [3], 11340: [3], 11341: [3], 11342: [1], 11345: [3], 11351: [3], 11352: [3], 11354: [1], 11359: [3], 11360: [3], 11362: [3], 11366: [1], 11371: [3], 11372: [1], 11378: [1], 11382: [3], 11383: [3], 11386: [1], 11388: [4], 11391: [3], 11393: [3], 11395: [1], 11401: [1], 11405: [1], 11409: [1], 11413: [1], 11418: [1], 11421: [1], 11431: [3], 11434: [3], 11435: [1], 11438: [3], 11439: [3], 11443: [1], 11445: [3], 11447: [1], 11449: [1], 11459: [1], 11460: [1], 11468: [3], 11474: [1], 11479: [3], 11480: [1], 11488: [3], 11489: [1], 11490: [3], 11491: [1], 11492: [3], 11495: [1], 11499: [3], 11501: [1], 11507: [3], 11511: [3], 11514: [1], 11518: [1], 11519: [3], 11523: [1], 11526: [1], 11540: [1], 11541: [1], 11542: [3], 11543: [3], 11547: [3], 11551: [3], 11555: [3], 11556: [3], 11559: [3], 11568: [3], 11570: [1], 11572: [3], 11581: [1], 11584: [1], 11589: [1], 11591: [3], 11593: [1], 11594: [3], 11596: [1], 11599: [3], 11606: [3], 11607: [3], 11613: [3], 11614: [3], 11624: [1], 11626: [3], 11627: [1], 11632: [1], 11633: [1], 11634: [1], 11637: [3], 11640: [3], 11643: [1], 11646: [3], 11652: [1], 11656: [1], 11658: [1], 11668: [3], 11669: [1], 11672: [1], 11682: [3], 11685: [3], 11690: [1], 11694: [3], 11703: [3], 11705: [1], 11712: [3], 11715: [3], 11717: [3], 11720: [3], 11724: [3], 11725: [3], 11726: [3], 11727: [1], 11735: [1], 11739: [3], 11744: [3], 11745: [1], 11753: [3], 11754: [1], 11758: [3], 11760: [3], 11768: [3], 11770: [3], 11776: [3], 11778: [3], 11781: [1], 11782: [3], 11783: [1], 11793: [1], 11795: [3], 11796: [1], 11800: [3], 11801: [3], 11806: [3], 11807: [3], 11808: [3], 11809: [3], 11815: [1], 11818: [3], 11819: [1], 11824: [1], 11826: [3], 11829: [1], 11833: [1], 11835: [3], 11840: [3], 11846: [1], 11853: [1], 11857: [3], 11859: [1], 11860: [1], 11863: [3], 11866: [3], 11867: [1], 11868: [3], 11869: [3], 11870: [3], 11874: [3], 11875: [3], 11876: [3], 11878: [3], 11879: [1], 11881: [1], 11888: [3], 11890: [3], 11893: [1], 11894: [3], 11895: [1], 11896: [1], 11897: [3], 11900: [3], 11901: [3], 11903: [3], 11908: [3], 11911: [1], 11912: [3], 11913: [3], 11915: [1], 11917: [3], 11921: [1], 11923: [3], 11926: [1], 11927: [3], 11929: [3], 11930: [1], 11933: [3], 11934: [3], 11936: [1], 11939: [3], 11940: [1], 11941: [3], 11942: [3], 11943: [3], 11944: [3], 11945: [3], 11948: [3], 11954: [3], 11956: [3], 11957: [1], 11960: [3], 11961: [1], 11962: [3], 11963: [3], 11965: [3], 11969: [3], 11972: [3], 11977: [3], 11978: [3], 11979: [3], 11980: [3], 11985: [3], 11987: [3], 11990: [1], 11992: [3], 11995: [3], 11999: [1], 12003: [3], 12004: [3], 12006: [3], 12008: [3], 12014: [1], 12015: [3], 12021: [1], 12022: [3], 12023: [3], 12027: [1], 12031: [3], 12033: [3], 12035: [1], 12037: [3], 12038: [1], 12039: [3], 12043: [3], 12045: [1], 12048: [3], 12050: [2], 12054: [1], 12055: [1], 12057: [3], 12058: [3], 12061: [1], 12062: [3], 12064: [1], 12065: [1], 12066: [3], 12070: [3], 12071: [3], 12072: [3], 12075: [3], 12077: [2], 12079: [3], 12085: [1], 12086: [1], 12087: [3], 12089: [3], 12091: [1], 12093: [3], 12102: [1], 12108: [3], 12113: [3], 12114: [1], 12119: [3], 12122: [3], 12125: [3], 12127: [1], 12128: [3], 12130: [3], 12131: [3], 12133: [3], 12134: [3], 12144: [3], 12145: [3], 12149: [3], 12150: [3], 12153: [1], 12154: [3], 12155: [3], 12159: [3], 12164: [1], 12166: [3], 12167: [3], 12169: [1], 12170: [3], 12172: [3], 12176: [3], 12179: [3], 12183: [3], 12184: [3], 12185: [1], 12195: [1], 12196: [1], 12198: [3], 12203: [3], 12204: [1], 12206: [3], 12207: [3], 12210: [3], 12211: [1], 12213: [3], 12214: [3], 12223: [3], 12224: [3], 12225: [3], 12228: [1], 12236: [1], 12238: [1], 12240: [1], 12245: [1], 12251: [1], 12263: [3], 12265: [2], 12266: [1], 12268: [3], 12269: [3], 12282: [1], 12288: [2], 12300: [1], 12315: [3], 12322: [3], 12323: [1], 12326: [3], 12328: [1], 12330: [1], 12341: [1], 12342: [3], 12344: [1], 12345: [3], 12346: [1], 12354: [3], 12359: [3], 12367: [3], 12371: [3], 12372: [3], 12378: [1], 12379: [1], 12382: [3], 12384: [1], 12400: [1], 12412: [3], 12414: [3], 12418: [3], 12419: [1], 12423: [1], 12425: [3], 12430: [1], 12445: [1], 12447: [1]}\n"
     ]
    }
   ],
   "source": [
    "dict_nodes = dict()\n",
    " \n",
    "for x, y in degrees :\n",
    "    dict_nodes.setdefault(x, []).append(y)\n",
    "print(dict_nodes)"
   ]
  },
  {
   "cell_type": "code",
   "execution_count": 19,
   "id": "b5e18f6a-5fa5-45bf-90c4-74feca628b84",
   "metadata": {
    "scrolled": true
   },
   "outputs": [
    {
     "data": {
      "image/png": "[encoded data removed]",
      "text/plain": [
       "<Figure size 640x480 with 1 Axes>"
      ]
     },
     "metadata": {},
     "output_type": "display_data"
    }
   ],
   "source": [
    "l_degrees = [val for (node, val) in G.degree()]\n",
    "d1 = np.array(l_degrees)\n",
    "bins = np.arange(1, 10, 1)\n",
    "#arranger les bins\n",
    "plt.hist([d1], bins = bins, density = True) #density pour mettre en probabilités\n",
    "plt.title(\"Degrees distribution\")\n",
    "plt.xlabel(\"Degree\")\n",
    "plt.ylabel(\"Number of nodes\")\n",
    "plt.show()"
   ]
  },
  {
   "cell_type": "code",
   "execution_count": 30,
   "id": "78cfb631-c7fc-40e9-ac18-b60176ea3591",
   "metadata": {
    "scrolled": true
   },
   "outputs": [
    {
     "data": {
      "text/plain": [
       "<matplotlib.colorbar.Colorbar at 0x177039b32c0>"
      ]
     },
     "execution_count": 30,
     "metadata": {},
     "output_type": "execute_result"
    },
    {
     "data": {
      "image/png": "[encoded data removed]",
      "text/plain": [
       "<Figure size 640x480 with 2 Axes>"
      ]
     },
     "metadata": {},
     "output_type": "display_data"
    }
   ],
   "source": [
    "params = {\"node_size\" : 5,\n",
    "          \"with_labels\" : False,\n",
    "          \"edge_color\" : \"silver\"\n",
    "         }\n",
    "degrees = G.degree()\n",
    "nodes = G.nodes()\n",
    "n_color = np.asarray([degrees[n] for n in nodes])\n",
    "\n",
    "nx.draw_networkx(G, pos = pts, **params, node_color = n_color, label = degrees) \n",
    "\n",
    "collection = nx.draw_networkx_nodes(G, pos = pts, node_color = n_color, label = degrees, node_size = 5, cmap = 'Accent') \n",
    "plt.colorbar(collection) "
   ]
  },
  {
   "cell_type": "markdown",
   "id": "f7531da4-3f7c-4efe-9287-63e77bec8d88",
   "metadata": {
    "jp-MarkdownHeadingCollapsed": true
   },
   "source": [
    "## Densité des cycles"
   ]
  },
  {
   "cell_type": "code",
   "execution_count": 31,
   "id": "5e10c5e4-a32f-4cf1-a512-d7d3ee2ba0ac",
   "metadata": {},
   "outputs": [
    {
     "data": {
      "text/plain": [
       "0.22084548104956267"
      ]
     },
     "execution_count": 31,
     "metadata": {},
     "output_type": "execute_result"
    }
   ],
   "source": [
    "c_density = cycle_density(G)\n",
    "c_density"
   ]
  },
  {
   "cell_type": "markdown",
   "id": "5686820f-622d-4410-8032-6d4544fe9da7",
   "metadata": {
    "jp-MarkdownHeadingCollapsed": true
   },
   "source": [
    "## Longueur totale d'hyphes"
   ]
  },
  {
   "cell_type": "code",
   "execution_count": 32,
   "id": "9f287513-af40-4f31-a597-29e163b2b14e",
   "metadata": {},
   "outputs": [
    {
     "data": {
      "text/plain": [
       "205831.0550801066"
      ]
     },
     "execution_count": 32,
     "metadata": {},
     "output_type": "execute_result"
    }
   ],
   "source": [
    "hyphal_length = total_hyphal_length(G)\n",
    "hyphal_length"
   ]
  },
  {
   "cell_type": "markdown",
   "id": "51d47fac-84c5-4b6f-984e-a66e422b2154",
   "metadata": {
    "jp-MarkdownHeadingCollapsed": true
   },
   "source": [
    "## Densité spatiale"
   ]
  },
  {
   "cell_type": "code",
   "execution_count": 33,
   "id": "ebc35174-e68c-4ee7-a3cc-8c5037e78532",
   "metadata": {},
   "outputs": [
    {
     "data": {
      "text/plain": [
       "0.004780829115899233"
      ]
     },
     "execution_count": 33,
     "metadata": {},
     "output_type": "execute_result"
    }
   ],
   "source": [
    "s_density = spatial_density(G)\n",
    "s_density"
   ]
  },
  {
   "cell_type": "markdown",
   "id": "ed9518b1-feb1-4b83-bb53-3f14749ef567",
   "metadata": {},
   "source": [
    "# Autres mesures"
   ]
  },
  {
   "cell_type": "markdown",
   "id": "2be5e115-0bfd-41b8-970f-779238bb2c32",
   "metadata": {
    "jp-MarkdownHeadingCollapsed": true
   },
   "source": [
    "## Distribution des longueurs d'edges"
   ]
  },
  {
   "cell_type": "code",
   "execution_count": 4,
   "id": "08ee139d-6f71-4da7-90eb-e1a6384a6519",
   "metadata": {},
   "outputs": [],
   "source": [
    "def distance(G, node1, node2):\n",
    "    \"\"\"Helper function to calculate distance between two nodes\"\"\"\n",
    "    return np.linalg.norm(\n",
    "        np.array(G.nodes[node1][\"pts\"]) - np.array(G.nodes[node2][\"pts\"])\n",
    "    )"
   ]
  },
  {
   "cell_type": "code",
   "execution_count": 35,
   "id": "fc788b1b-0192-46ed-8bee-66a047456fda",
   "metadata": {},
   "outputs": [],
   "source": [
    "# avant de calculer distances\n",
    "# déjà dans la boucle\n",
    "for n in G.nodes:\n",
    "    pts = np.array(G.nodes[n][\"pts\"])\n",
    "    if pts.ndim == 2 and pts.shape[1] == 2:\n",
    "        pts = np.mean(pts, axis=0)\n",
    "    elif pts.ndim != 1 or pts.shape[0] != 2:\n",
    "        raise ValueError(f\"Node {n} has unsupported shape {pts.shape}\")\n",
    "    G.nodes[n][\"pts\"] = tuple(pts)"
   ]
  },
  {
   "cell_type": "code",
   "execution_count": 36,
   "id": "c7978f1b-0a96-4165-b147-ed4f90d9b623",
   "metadata": {},
   "outputs": [
    {
     "data": {
      "text/plain": [
       "1414.0"
      ]
     },
     "execution_count": 36,
     "metadata": {},
     "output_type": "execute_result"
    }
   ],
   "source": [
    "dist = distance(G, 0, 1)\n",
    "dist"
   ]
  },
  {
   "cell_type": "code",
   "execution_count": 37,
   "id": "368d1a49-9990-4ff7-836e-f55f6dbf3870",
   "metadata": {},
   "outputs": [],
   "source": [
    "edge_lengths = {}\n",
    "\n",
    "for u, v in G.edges():\n",
    "    dist = distance(G, u, v)\n",
    "    edge_lengths[(u, v)] = dist"
   ]
  },
  {
   "cell_type": "code",
   "execution_count": 3,
   "id": "be3635e0-6603-413a-b344-b4cd7af6a8ae",
   "metadata": {},
   "outputs": [],
   "source": [
    "def edges_lengths(G) :\n",
    "    for u, v in G.edges():\n",
    "        dist = distance(G, u, v)\n",
    "        edges_lengths[(u, v)] = dist\n",
    "    return edges_lengths"
   ]
  },
  {
   "cell_type": "code",
   "execution_count": 39,
   "id": "4b8165f9-72e4-465c-8131-e2a6965ab11b",
   "metadata": {},
   "outputs": [
    {
     "data": {
      "text/plain": [
       "27.41579276833221"
      ]
     },
     "execution_count": 39,
     "metadata": {},
     "output_type": "execute_result"
    }
   ],
   "source": [
    "values = list(edge_lengths.values())\n",
    "\n",
    "np.median(values)"
   ]
  },
  {
   "cell_type": "code",
   "execution_count": 40,
   "id": "1a8cdb0f-a903-41c4-917d-78742b8e1534",
   "metadata": {},
   "outputs": [
    {
     "data": {
      "text/plain": [
       "<Axes: ylabel='Count'>"
      ]
     },
     "execution_count": 40,
     "metadata": {},
     "output_type": "execute_result"
    },
    {
     "data": {
      "image/png": "[encoded data removed]",
      "text/plain": [
       "<Figure size 640x480 with 1 Axes>"
      ]
     },
     "metadata": {},
     "output_type": "display_data"
    }
   ],
   "source": [
    "sns.histplot(edge_lengths)\n",
    "# plt.savefig('edge_lengths.png')"
   ]
  },
  {
   "cell_type": "markdown",
   "id": "2ee11570-dda3-432c-87b7-2841ca497eef",
   "metadata": {
    "jp-MarkdownHeadingCollapsed": true
   },
   "source": [
    "## Coefficient de clustering"
   ]
  },
  {
   "cell_type": "code",
   "execution_count": null,
   "id": "c543e266-a947-4488-9066-f90cf905e05d",
   "metadata": {
    "collapsed": true,
    "jupyter": {
     "outputs_hidden": true
    },
    "scrolled": true
   },
   "outputs": [],
   "source": [
    "clustering_c = nx.clustering(G)\n",
    "clustering_c"
   ]
  },
  {
   "cell_type": "code",
   "execution_count": null,
   "id": "37894872-d94b-494a-a47a-839f0cf5ae68",
   "metadata": {
    "collapsed": true,
    "jupyter": {
     "outputs_hidden": true
    }
   },
   "outputs": [],
   "source": [
    "average_clustering = nx.average_clustering(G)\n",
    "average_clustering"
   ]
  },
  {
   "cell_type": "markdown",
   "id": "f7a6b1cf-8758-41d4-b3e4-43cd67e424d5",
   "metadata": {
    "jp-MarkdownHeadingCollapsed": true
   },
   "source": [
    "## Betweenness centrality"
   ]
  },
  {
   "cell_type": "code",
   "execution_count": null,
   "id": "97adb500-3d33-49b5-8795-aedee0a11450",
   "metadata": {
    "scrolled": true
   },
   "outputs": [],
   "source": [
    "bc = nx.betweenness_centrality(G) #139 secondes\n",
    "bc"
   ]
  },
  {
   "cell_type": "markdown",
   "id": "e76efcbf-4fcc-40b2-a882-b6a7eada7e4a",
   "metadata": {
    "jp-MarkdownHeadingCollapsed": true
   },
   "source": [
    "## Shortest path"
   ]
  },
  {
   "cell_type": "code",
   "execution_count": null,
   "id": "20cedfb5-4025-4974-9152-1ee637129928",
   "metadata": {
    "collapsed": true,
    "jupyter": {
     "outputs_hidden": true
    },
    "scrolled": true
   },
   "outputs": [],
   "source": [
    "all_shortest_path = dict(nx.all_pairs_shortest_path_length(G)) #81secondes, bcp de mémoire\n",
    "all_shortest_path"
   ]
  },
  {
   "cell_type": "code",
   "execution_count": null,
   "id": "b30771e4-1c48-4b59-86c7-d7ca5eff7bdc",
   "metadata": {
    "collapsed": true,
    "jupyter": {
     "outputs_hidden": true
    },
    "scrolled": true
   },
   "outputs": [],
   "source": [
    "shortest_path_dist = dict(nx.all_pairs_dijkstra_path_length(G))\n",
    "shortest_path_dist"
   ]
  },
  {
   "cell_type": "code",
   "execution_count": null,
   "id": "aaa2f1e5-e3b6-4c22-8882-54ea233f8ba8",
   "metadata": {
    "collapsed": true,
    "jupyter": {
     "outputs_hidden": true
    }
   },
   "outputs": [],
   "source": [
    "sb.histplot(shortest_path_dist) #pas assez de mémoire"
   ]
  },
  {
   "cell_type": "markdown",
   "id": "cd146bcf-ce31-49ba-9833-e738c359c1e2",
   "metadata": {
    "jp-MarkdownHeadingCollapsed": true
   },
   "source": [
    "## Diamètre"
   ]
  },
  {
   "cell_type": "code",
   "execution_count": null,
   "id": "db2e0fd2-d8f1-416e-8284-0795eb92b5cf",
   "metadata": {
    "collapsed": true,
    "jupyter": {
     "outputs_hidden": true
    }
   },
   "outputs": [],
   "source": [
    "diameter = nx.diameter(G) #résultat en edges\n",
    "diameter"
   ]
  },
  {
   "cell_type": "code",
   "execution_count": null,
   "id": "2df38bb1-9d8d-46e2-9666-d1d457603e55",
   "metadata": {
    "collapsed": true,
    "jupyter": {
     "outputs_hidden": true
    }
   },
   "outputs": [],
   "source": [
    "diameter_dist = nx.diameter(G, weight = \"weight\") #résultat en distance réelle, 131 secondes\n",
    "diameter_dist"
   ]
  },
  {
   "cell_type": "markdown",
   "id": "7e03d309-b152-49f7-b3e9-d58b389521e1",
   "metadata": {
    "jp-MarkdownHeadingCollapsed": true
   },
   "source": [
    "## Average shortest path"
   ]
  },
  {
   "cell_type": "code",
   "execution_count": null,
   "id": "4243fe92-f891-49c7-b8f6-0babd3bf174b",
   "metadata": {
    "collapsed": true,
    "jupyter": {
     "outputs_hidden": true
    }
   },
   "outputs": [],
   "source": [
    "average_shortest_path = nx.average_shortest_path_length(G) #résultat en edges pas en distance réelle\n",
    "average_shortest_path"
   ]
  },
  {
   "cell_type": "code",
   "execution_count": null,
   "id": "8e42f470-55a7-44a2-a395-83c5c71401fb",
   "metadata": {
    "collapsed": true,
    "jupyter": {
     "outputs_hidden": true
    }
   },
   "outputs": [],
   "source": [
    "average_shortest_path_dist = nx.average_shortest_path_length(G, weight = \"weight\") #distance réelle, 120 secondes mais bcp mémoire\n",
    "average_shortest_path_dist"
   ]
  },
  {
   "cell_type": "markdown",
   "id": "c2381ce0-3340-4340-b270-4d8ed7e3741d",
   "metadata": {
    "jp-MarkdownHeadingCollapsed": true
   },
   "source": [
    "## Minimum spanning tree"
   ]
  },
  {
   "cell_type": "code",
   "execution_count": null,
   "id": "0e125b68-8e6f-4c0a-ba52-8b321192184b",
   "metadata": {
    "collapsed": true,
    "jupyter": {
     "outputs_hidden": true
    }
   },
   "outputs": [],
   "source": [
    "mst = nx.minimum_spanning_tree(G)"
   ]
  },
  {
   "cell_type": "code",
   "execution_count": null,
   "id": "d768b058-b2cb-49fa-a061-57a50a6ed87d",
   "metadata": {
    "collapsed": true,
    "jupyter": {
     "outputs_hidden": true
    }
   },
   "outputs": [],
   "source": [
    "fig, ax = plt.subplots(figsize = (5,5)) \n",
    "\n",
    "nx.draw_networkx_edges(mst, pos = pos, width = 1, alpha = 1) \n",
    "nx.draw_networkx_nodes(mst, pos = pos, node_size = 1, alpha = 0.5)"
   ]
  },
  {
   "cell_type": "markdown",
   "id": "e75bcc19-4556-40a1-9bd4-f6d58f29dbbb",
   "metadata": {},
   "source": [
    "## Global efficiency weighted"
   ]
  },
  {
   "cell_type": "code",
   "execution_count": 5,
   "id": "3b94d9d9-87bb-4c09-8bad-6df1a441b966",
   "metadata": {},
   "outputs": [],
   "source": [
    "def global_efficiency_weighted(G, weight=\"weight\"):\n",
    "\n",
    "    \"\"\"\n",
    "\n",
    "    compute the global efficiency of a weighted graph.\n",
    " \n",
    "    Parameters\n",
    "\n",
    "    ----------\n",
    "\n",
    "    G : networkx.Graph\n",
    "\n",
    "        graph where edges may have weights representing distances or costs.\n",
    "\n",
    "    weight : str, optional\n",
    "\n",
    "        name of the edge attribute to use as weight (default is \"weight\").\n",
    " \n",
    "    Returns\n",
    "\n",
    "    -------\n",
    "\n",
    "    g_eff : float\n",
    "\n",
    "        global efficiency of the graph, defined as the average of the \n",
    "\n",
    "        inverse shortest path lengths between all pairs of nodes.\n",
    "\n",
    "    \"\"\"\n",
    " \n",
    "    # adapted from networkx to take weights into account\n",
    " \n",
    "    N = len(G)\n",
    "\n",
    "    n_paths = N * (N - 1)  # total number of ordered node pairs\n",
    " \n",
    "    if N > 5000:\n",
    "\n",
    "        print(\"too large:\", G)\n",
    "\n",
    "        return np.nan, np.nan\n",
    " \n",
    "    if n_paths == 0 :\n",
    "\n",
    "        return 0, 0\n",
    " \n",
    "    node_pos = {n : np.array(G.nodes[n][\"pts\"]) for n in G.nodes}\n",
    " \n",
    "    g_eff = 0\n",
    "\n",
    "    average_length = 0\n",
    "\n",
    "    g_eff_euclid = 0\n",
    " \n",
    "    lengths = nx.all_pairs_dijkstra_path_length(G, weight=weight, backend=\"parallel\")  # compute shortest paths\n",
    "\n",
    "    for source, targets in lengths:\n",
    "\n",
    "        for target, length_sp in targets.items():\n",
    "\n",
    "            if length_sp > 0:  # avoid self-loops\n",
    "\n",
    "                g_eff += 1 / length_sp\n",
    "\n",
    "                average_length += length_sp \n",
    " \n",
    "                length_euclid = np.linalg.norm(node_pos[target] - node_pos[source])\n",
    "\n",
    "                g_eff_euclid += 1 / length_euclid\n",
    " \n",
    "    g_eff /= n_paths\n",
    "\n",
    "    g_eff_euclid /= n_paths\n",
    "\n",
    "    average_length /= n_paths\n",
    " \n",
    "    return g_eff if g_eff==0 else g_eff / g_eff_euclid, average_length"
   ]
  },
  {
   "cell_type": "code",
   "execution_count": 42,
   "id": "af68db1f-32e0-4147-b587-c8d912fb414d",
   "metadata": {},
   "outputs": [],
   "source": [
    "g_eff, average_length = global_efficiency_weighted(G)"
   ]
  },
  {
   "cell_type": "code",
   "execution_count": 43,
   "id": "b56d92a8-47cc-43d0-a278-d715cf76aee2",
   "metadata": {},
   "outputs": [
    {
     "data": {
      "text/plain": [
       "0.710112821161879"
      ]
     },
     "execution_count": 43,
     "metadata": {},
     "output_type": "execute_result"
    }
   ],
   "source": [
    "g_eff"
   ]
  },
  {
   "cell_type": "code",
   "execution_count": 44,
   "id": "3a98eb4f-3f3e-4dac-bf15-c5a780ede882",
   "metadata": {},
   "outputs": [
    {
     "data": {
      "text/plain": [
       "3905.6952267334555"
      ]
     },
     "execution_count": 44,
     "metadata": {},
     "output_type": "execute_result"
    }
   ],
   "source": [
    "average_length"
   ]
  },
  {
   "cell_type": "markdown",
   "id": "dc1acef2-539e-4003-9647-ecc0802d4901",
   "metadata": {},
   "source": [
    "## Local efficiency weighted"
   ]
  },
  {
   "cell_type": "code",
   "execution_count": 6,
   "id": "fac6eaee-7ed3-43bc-bee7-91e7e4d8fc05",
   "metadata": {},
   "outputs": [],
   "source": [
    "def local_efficiency_weighted(G):\n",
    "\n",
    "    \"\"\"Returns the average local efficiency of the graph.\n",
    " \n",
    "    The *efficiency* of a pair of nodes in a graph is the multiplicative\n",
    "\n",
    "    inverse of the shortest path distance between the nodes. The *local\n",
    "\n",
    "    efficiency* of a node in the graph is the average global efficiency of the\n",
    "\n",
    "    subgraph induced by the neighbors of the node. The *average local\n",
    "\n",
    "    efficiency* is the average of the local efficiencies of each node [1]_.\n",
    " \n",
    "    Parameters\n",
    "\n",
    "    ----------\n",
    "\n",
    "    G : :class:`networkx.Graph`\n",
    "\n",
    "        An undirected graph for which to compute the average local efficiency.\n",
    " \n",
    "    Returns\n",
    "\n",
    "    -------\n",
    "\n",
    "    float\n",
    "\n",
    "        The average local efficiency of the graph.\n",
    " \n",
    "    Examples\n",
    "\n",
    "    --------\n",
    ">>> G = nx.Graph([(0, 1), (0, 2), (0, 3), (1, 2), (1, 3)])\n",
    ">>> nx.local_efficiency(G)\n",
    "\n",
    "    0.9166666666666667\n",
    " \n",
    "    Notes\n",
    "\n",
    "    -----\n",
    "\n",
    "    Edge weights are ignored when computing the shortest path distances.\n",
    " \n",
    "    See also\n",
    "\n",
    "    --------\n",
    "\n",
    "    global_efficiency\n",
    " \n",
    "    References\n",
    "\n",
    "    ----------\n",
    "\n",
    "    .. [1] Latora, Vito, and Massimo Marchiori.\n",
    "\n",
    "           \"Efficient behavior of small-world networks.\"\n",
    "\n",
    "           *Physical Review Letters* 87.19 (2001): 198701.\n",
    "<https://doi.org/10.1103/PhysRevLett.87.198701>\n",
    " \n",
    "    \"\"\"\n",
    "\n",
    "    N = len(G)\n",
    "\n",
    "    efficiency = (global_efficiency_weighted(G.subgraph(G[v])) for v in G)\n",
    "\n",
    "    efficiency_list, _ = zip(*efficiency)\n",
    "\n",
    "    return sum(efficiency_list) / N"
   ]
  },
  {
   "cell_type": "code",
   "execution_count": 57,
   "id": "5a134a85-59d6-41af-a131-e348e086b4e8",
   "metadata": {},
   "outputs": [
    {
     "data": {
      "text/plain": [
       "0.1263428456368645"
      ]
     },
     "execution_count": 57,
     "metadata": {},
     "output_type": "execute_result"
    }
   ],
   "source": [
    "local_efficiency_weighted(G)"
   ]
  },
  {
   "cell_type": "markdown",
   "id": "8956578c-b05c-4446-87ae-7dfb82a7ddf3",
   "metadata": {},
   "source": [
    "## Robustness"
   ]
  },
  {
   "cell_type": "code",
   "execution_count": 7,
   "id": "77b58fd0-13f7-456a-ad06-fa6ea85c4a2c",
   "metadata": {},
   "outputs": [],
   "source": [
    "def robustness_curve(G, root_node=0, n_steps=20, mode=\"uniform\", seed=None, n_reps=10, max_fraction_rm=1):\n",
    "\n",
    "    \"\"\"\n",
    "\n",
    "    Compute robustness curve: percentage of total network length\n",
    "\n",
    "    connected to root node as a function of fraction of edge length removed.\n",
    "\n",
    "    Averaged over multiple repetitions.\n",
    " \n",
    "    Parameters:\n",
    "\n",
    "        G : networkx.Graph\n",
    "\n",
    "            The input graph with edge attribute 'weight'.\n",
    "\n",
    "        root_node : node label\n",
    "\n",
    "            The node considered as the root.\n",
    "\n",
    "        n_steps : int\n",
    "\n",
    "            Number of removal steps between 0 and 1.\n",
    "\n",
    "        mode : str\n",
    "\n",
    "            'uniform' (default) or 'length_weighted' for removal probability.\n",
    "\n",
    "        seed : int or None\n",
    "\n",
    "            Random seed for reproducibility.\n",
    "\n",
    "        n_reps : int\n",
    "\n",
    "            Number of repetitions to average over.\n",
    " \n",
    "    Returns:\n",
    "\n",
    "        fractions_removed : np.ndarray\n",
    "\n",
    "        fractions_connected_mean : np.ndarray\n",
    "\n",
    "    \"\"\"\n",
    " \n",
    "    rng = np.random.seed(seed)\n",
    " \n",
    "    edges = list(G.edges(data=True))\n",
    "\n",
    "    weights = np.array([attr['weight'] for (_, _, attr) in edges])\n",
    "\n",
    "    total_length = weights.sum()\n",
    " \n",
    "    fractions_removed = np.linspace(0, max_fraction_rm, n_steps)\n",
    "\n",
    "    all_fractions_connected = []\n",
    " \n",
    "    for _ in range(n_reps):\n",
    "\n",
    "        fractions_connected = []\n",
    " \n",
    "        for fraction in fractions_removed:\n",
    "\n",
    "            G_copy = G.copy()\n",
    " \n",
    "            n_edges_to_remove = int(fraction * len(edges))\n",
    " \n",
    "            if n_edges_to_remove > 0:\n",
    "\n",
    "                if mode == \"uniform\":\n",
    "\n",
    "                    selected_indices = np.random.choice(len(edges), size=n_edges_to_remove, replace=False)\n",
    "\n",
    "                elif mode == \"length_weighted\":\n",
    "\n",
    "                    probabilities = weights / weights.sum()\n",
    "\n",
    "                    selected_indices =  np.random.choice(len(edges), size=n_edges_to_remove, replace=False, p=probabilities)\n",
    "\n",
    "                else:\n",
    "\n",
    "                    raise ValueError(\"Unknown mode: choose 'uniform' or 'length_weighted'\")\n",
    " \n",
    "                edges_to_remove = [edges[i][:2] for i in selected_indices]\n",
    "\n",
    "                G_copy.remove_edges_from(edges_to_remove)\n",
    " \n",
    "            # Get connected component containing root node\n",
    "\n",
    "            if root_node in G_copy:\n",
    "\n",
    "                components = nx.node_connected_component(G_copy, root_node)\n",
    "\n",
    "                subgraph = G_copy.subgraph(components)\n",
    "\n",
    "                connected_length = sum(nx.get_edge_attributes(subgraph, 'weight').values())\n",
    "\n",
    "            else:\n",
    "\n",
    "                connected_length = 0.0\n",
    " \n",
    "            fractions_connected.append(connected_length / total_length)\n",
    " \n",
    "        all_fractions_connected.append(fractions_connected)\n",
    " \n",
    "    fractions_connected_mean = np.mean(all_fractions_connected, axis=0)\n",
    " \n",
    "    return fractions_removed, fractions_connected_mean\n",
    " \n",
    " \n",
    "def robustness_score(fractions_removed, fractions_connected, mode=\"auc\", target_fraction=0.5):\n",
    "\n",
    "    \"\"\"\n",
    "\n",
    "    Summarize a robustness curve into a single number.\n",
    " \n",
    "    Parameters:\n",
    "\n",
    "        fractions_removed : np.ndarray\n",
    "\n",
    "        fractions_connected : np.ndarray\n",
    "\n",
    "        mode : str\n",
    "\n",
    "            'auc' (default) to compute area under the curve (normalized),\n",
    "\n",
    "            or 'target_fraction' to find the fraction removed when\n",
    "\n",
    "            connected component drops below target_fraction.\n",
    "\n",
    "        target_fraction : float\n",
    "\n",
    "            Target fraction for 'target_fraction' mode (default 0.5).\n",
    " \n",
    "    Returns:\n",
    "\n",
    "        summary_value : float\n",
    "\n",
    "    \"\"\"\n",
    "\n",
    "    if mode == \"auc\":\n",
    "\n",
    "        auc = np.trapz(fractions_connected, fractions_removed)\n",
    "\n",
    "        max_auc = 1.0 * 1.0  # maximum area = 1*1\n",
    "\n",
    "        return auc / max_auc\n",
    " \n",
    "    elif mode == \"target_fraction\":\n",
    "\n",
    "        below_target = fractions_connected <= target_fraction\n",
    "\n",
    "        if np.any(below_target):\n",
    "\n",
    "            idx = np.argmax(below_target)\n",
    "\n",
    "            return fractions_removed[idx]\n",
    "\n",
    "        else:\n",
    "\n",
    "            return 1.0  # never dropped below target, very robust\n",
    " \n",
    "    else:\n",
    "\n",
    "        raise ValueError(\"Unknown mode: choose 'auc' or 'target_fraction'\")\n",
    " "
   ]
  },
  {
   "cell_type": "code",
   "execution_count": 59,
   "id": "18f07027-9144-428d-b16f-17e5220362f2",
   "metadata": {},
   "outputs": [
    {
     "data": {
      "text/plain": [
       "(array([0.        , 0.05263158, 0.10526316, 0.15789474, 0.21052632,\n",
       "        0.26315789, 0.31578947, 0.36842105, 0.42105263, 0.47368421,\n",
       "        0.52631579, 0.57894737, 0.63157895, 0.68421053, 0.73684211,\n",
       "        0.78947368, 0.84210526, 0.89473684, 0.94736842, 1.        ]),\n",
       " array([1.00000000e+00, 5.86551891e-01, 2.90290021e-01, 1.00482049e-02,\n",
       "        2.61339939e-02, 2.78083210e-03, 2.25898571e-03, 3.60131188e-03,\n",
       "        1.79896009e-03, 7.54690329e-04, 1.30078651e-03, 1.11197212e-03,\n",
       "        7.59902332e-04, 7.15456013e-04, 5.88889682e-04, 7.60883120e-04,\n",
       "        1.71993439e-04, 1.71993439e-04, 0.00000000e+00, 0.00000000e+00]))"
      ]
     },
     "execution_count": 59,
     "metadata": {},
     "output_type": "execute_result"
    }
   ],
   "source": [
    "ans = robustness_curve(G)\n",
    "ans"
   ]
  },
  {
   "cell_type": "code",
   "execution_count": 60,
   "id": "210f51ac-4d5e-4b40-b5f9-5d1986248f83",
   "metadata": {},
   "outputs": [
    {
     "data": {
      "text/plain": [
       "0.07525267197525236"
      ]
     },
     "execution_count": 60,
     "metadata": {},
     "output_type": "execute_result"
    }
   ],
   "source": [
    "robustness_score(ans[0], ans[1])"
   ]
  },
  {
   "cell_type": "markdown",
   "id": "ad6501d5-e4da-45d1-9ea3-1c7bee48c678",
   "metadata": {},
   "source": [
    "# Boucle : simplification des graphes et métriques de base"
   ]
  },
  {
   "cell_type": "code",
   "execution_count": 8,
   "id": "6b839ed4-6b10-49a0-a41f-306f91514f88",
   "metadata": {},
   "outputs": [],
   "source": [
    "metrics_functions = {\n",
    "    'nodes' : nx.number_of_nodes,\n",
    "    'edges' : nx.number_of_edges,\n",
    "    'degrees' : fct_degrees,\n",
    "    'cycle density' : cycle_density,\n",
    "    'total hyphal length' : total_hyphal_length,\n",
    "    'spatial density' : spatial_density\n",
    "}"
   ]
  },
  {
   "cell_type": "code",
   "execution_count": 9,
   "id": "76a9a39b-3a73-420d-a1f7-e2b174667cc2",
   "metadata": {},
   "outputs": [],
   "source": [
    "network_path = []\n",
    "\n",
    "for sp in os.listdir(\"../data\"):\n",
    "    for boite in os.listdir(os.path.join(\"../data\", sp)):\n",
    "        for mesure in os.listdir(os.path.join(\"../data\", sp, boite)):\n",
    "            for photo in os.listdir(os.path.join(\"../data\", sp, boite, mesure)):\n",
    "                if photo.endswith(\"pkl\") :\n",
    "                    path = os.path.join(\"../data\", sp, boite, mesure, photo)\n",
    "                    network_path.append(path)"
   ]
  },
  {
   "cell_type": "code",
   "execution_count": 10,
   "id": "3d6a7e0c-5793-442e-9285-938bce68fc05",
   "metadata": {},
   "outputs": [
    {
     "name": "stderr",
     "output_type": "stream",
     "text": [
      "100%|████████████████████████████████████████████████████████████████████████████████| 567/567 [00:10<00:00, 55.26it/s]\n"
     ]
    }
   ],
   "source": [
    "for path in tqdm(network_path) :\n",
    "    save_dir = os.path.dirname(path)\n",
    "    graph_name = os.path.splitext(os.path.basename(path))[0]\n",
    "    graph_path = os.path.join(save_dir, f\"{graph_name}.pklclean\" )\n",
    "\n",
    "    if os.path.exists(graph_path) :\n",
    "        continue\n",
    "    \n",
    "    G = pickle.load(open(path, 'rb'))\n",
    "    G.remove_edges_from(nx.selfloop_edges(G))\n",
    "    to_remove = [(u, v) for u, v, d in G.edges(data=True) if d.get('weight', 0) < 25 and (G.degree[u] == 1 or G.degree[v] == 1)]\n",
    "    G.remove_edges_from(to_remove)\n",
    "    G_cc = sorted(nx.connected_components(G), key = len, reverse = True)\n",
    "    G_sub = G.subgraph(G_cc[0])\n",
    "    G_simple = simple_graph(G_sub)\n",
    "    for n in G_simple.nodes:\n",
    "        if 'pts' not in G_simple.nodes[n] and 'pts' in G_sub.nodes[n]:\n",
    "            G_simple.nodes[n]['pts'] = G_sub.nodes[n]['pts']\n",
    "\n",
    "    for n in G_simple.nodes:\n",
    "        pts = np.array(G_simple.nodes[n][\"pts\"])\n",
    "        if pts.ndim == 2 and pts.shape[1] == 2:\n",
    "            pts = np.mean(pts, axis=0)\n",
    "        elif pts.ndim != 1 or pts.shape[0] != 2:\n",
    "            raise ValueError(f\"Node {n} has unsupported shape {pts.shape}\")\n",
    "        G_simple.nodes[n][\"pts\"] = tuple(pts)\n",
    "    \n",
    "    with open(graph_path, \"wb\") as f :\n",
    "        pickle.dump(G_simple, f)"
   ]
  },
  {
   "cell_type": "code",
   "execution_count": 11,
   "id": "d785c3b5-7c05-49e5-b723-f6042c118928",
   "metadata": {},
   "outputs": [
    {
     "name": "stderr",
     "output_type": "stream",
     "text": [
      "C:\\Users\\Renée\\AppData\\Local\\Temp\\ipykernel_14536\\2988335479.py:6: RuntimeWarning: divide by zero encountered in scalar divide\n",
      "  spatial_density = hyphal_length/area\n"
     ]
    }
   ],
   "source": [
    "results = []\n",
    "\n",
    "for sp in os.listdir(\"../data\"):\n",
    "    for boite in os.listdir(os.path.join(\"../data\", sp)):\n",
    "        for mesure in os.listdir(os.path.join(\"../data\", sp, boite)):\n",
    "            for photo in os.listdir(os.path.join(\"../data\", sp, boite, mesure)):\n",
    "                if photo.endswith(\".pklclean\") :\n",
    "                    path = os.path.join(\"../data\", sp, boite, mesure, photo)\n",
    "                    G = pickle.load(open(path, 'rb'))\n",
    "\n",
    "                    result = {\n",
    "                        \"sp\" : sp,\n",
    "                        \"boite\": boite,\n",
    "                        \"mesure\" : mesure,\n",
    "                        \"photo\": photo\n",
    "                    }\n",
    "\n",
    "                    for metric_name, func in metrics_functions.items():\n",
    "                        result[metric_name] = func(G)\n",
    " \n",
    "                    results.append(result)"
   ]
  },
  {
   "cell_type": "markdown",
   "id": "c3520294-26c2-4c43-a718-403a873fbeff",
   "metadata": {},
   "source": [
    "# Sauvegarde des données"
   ]
  },
  {
   "cell_type": "code",
   "execution_count": 12,
   "id": "88a46e79-e581-4c89-b0b2-da60627815cc",
   "metadata": {},
   "outputs": [],
   "source": [
    "df = pd.DataFrame(results)"
   ]
  },
  {
   "cell_type": "code",
   "execution_count": 13,
   "id": "7ec473d6-b0a9-4544-b908-ed82cbef7eff",
   "metadata": {},
   "outputs": [
    {
     "data": {
      "text/html": [
       "<div>\n",
       "<style scoped>\n",
       "    .dataframe tbody tr th:only-of-type {\n",
       "        vertical-align: middle;\n",
       "    }\n",
       "\n",
       "    .dataframe tbody tr th {\n",
       "        vertical-align: top;\n",
       "    }\n",
       "\n",
       "    .dataframe thead th {\n",
       "        text-align: right;\n",
       "    }\n",
       "</style>\n",
       "<table border=\"1\" class=\"dataframe\">\n",
       "  <thead>\n",
       "    <tr style=\"text-align: right;\">\n",
       "      <th></th>\n",
       "      <th>sp</th>\n",
       "      <th>boite</th>\n",
       "      <th>mesure</th>\n",
       "      <th>photo</th>\n",
       "      <th>nodes</th>\n",
       "      <th>edges</th>\n",
       "      <th>degrees</th>\n",
       "      <th>cycle density</th>\n",
       "      <th>total hyphal length</th>\n",
       "      <th>spatial density</th>\n",
       "    </tr>\n",
       "  </thead>\n",
       "  <tbody>\n",
       "    <tr>\n",
       "      <th>0</th>\n",
       "      <td>gigaspora</td>\n",
       "      <td>34</td>\n",
       "      <td>1</td>\n",
       "      <td>G09_10_06_P01.pklclean</td>\n",
       "      <td>188</td>\n",
       "      <td>199</td>\n",
       "      <td>[1, 1, 1, 3, 3, 1, 1, 3, 3, 1, 3, 1, 3, 1, 3, ...</td>\n",
       "      <td>0.063830</td>\n",
       "      <td>27172.814230</td>\n",
       "      <td>0.003141</td>\n",
       "    </tr>\n",
       "    <tr>\n",
       "      <th>1</th>\n",
       "      <td>gigaspora</td>\n",
       "      <td>34</td>\n",
       "      <td>1</td>\n",
       "      <td>G09_10_06_P02.pklclean</td>\n",
       "      <td>24</td>\n",
       "      <td>27</td>\n",
       "      <td>[1, 3, 3, 3, 3, 3, 3, 3, 3, 3, 3, 1, 1, 3, 1, ...</td>\n",
       "      <td>0.166667</td>\n",
       "      <td>5174.771905</td>\n",
       "      <td>0.003525</td>\n",
       "    </tr>\n",
       "    <tr>\n",
       "      <th>2</th>\n",
       "      <td>gigaspora</td>\n",
       "      <td>34</td>\n",
       "      <td>1</td>\n",
       "      <td>G09_10_06_P03.pklclean</td>\n",
       "      <td>271</td>\n",
       "      <td>295</td>\n",
       "      <td>[1, 1, 1, 1, 1, 3, 3, 3, 1, 1, 3, 1, 2, 3, 3, ...</td>\n",
       "      <td>0.092251</td>\n",
       "      <td>31300.956237</td>\n",
       "      <td>0.003937</td>\n",
       "    </tr>\n",
       "    <tr>\n",
       "      <th>3</th>\n",
       "      <td>gigaspora</td>\n",
       "      <td>34</td>\n",
       "      <td>2</td>\n",
       "      <td>G09_16_06_P01.pklclean</td>\n",
       "      <td>27</td>\n",
       "      <td>36</td>\n",
       "      <td>[1, 1, 3, 3, 3, 3, 3, 3, 3, 3, 3, 3, 3, 3, 3, ...</td>\n",
       "      <td>0.370370</td>\n",
       "      <td>2503.156934</td>\n",
       "      <td>0.095901</td>\n",
       "    </tr>\n",
       "    <tr>\n",
       "      <th>4</th>\n",
       "      <td>gigaspora</td>\n",
       "      <td>34</td>\n",
       "      <td>2</td>\n",
       "      <td>G09_16_06_P02.pklclean</td>\n",
       "      <td>47</td>\n",
       "      <td>53</td>\n",
       "      <td>[1, 3, 3, 3, 3, 1, 3, 3, 3, 3, 1, 3, 3, 3, 1, ...</td>\n",
       "      <td>0.148936</td>\n",
       "      <td>14402.975418</td>\n",
       "      <td>0.003400</td>\n",
       "    </tr>\n",
       "    <tr>\n",
       "      <th>...</th>\n",
       "      <td>...</td>\n",
       "      <td>...</td>\n",
       "      <td>...</td>\n",
       "      <td>...</td>\n",
       "      <td>...</td>\n",
       "      <td>...</td>\n",
       "      <td>...</td>\n",
       "      <td>...</td>\n",
       "      <td>...</td>\n",
       "      <td>...</td>\n",
       "    </tr>\n",
       "    <tr>\n",
       "      <th>562</th>\n",
       "      <td>rhizophagus</td>\n",
       "      <td>25</td>\n",
       "      <td>4</td>\n",
       "      <td>R25_14_07_P19.pklclean</td>\n",
       "      <td>2052</td>\n",
       "      <td>2420</td>\n",
       "      <td>[1, 1, 1, 1, 1, 1, 1, 1, 1, 3, 2, 3, 3, 1, 1, ...</td>\n",
       "      <td>0.179825</td>\n",
       "      <td>131443.376557</td>\n",
       "      <td>0.003692</td>\n",
       "    </tr>\n",
       "    <tr>\n",
       "      <th>563</th>\n",
       "      <td>rhizophagus</td>\n",
       "      <td>25</td>\n",
       "      <td>4</td>\n",
       "      <td>R25_14_07_P20.pklclean</td>\n",
       "      <td>1691</td>\n",
       "      <td>1962</td>\n",
       "      <td>[1, 1, 1, 1, 1, 1, 3, 2, 1, 3, 1, 3, 1, 2, 3, ...</td>\n",
       "      <td>0.160852</td>\n",
       "      <td>125972.189220</td>\n",
       "      <td>0.004859</td>\n",
       "    </tr>\n",
       "    <tr>\n",
       "      <th>564</th>\n",
       "      <td>rhizophagus</td>\n",
       "      <td>25</td>\n",
       "      <td>4</td>\n",
       "      <td>R25_14_07_P21.pklclean</td>\n",
       "      <td>423</td>\n",
       "      <td>496</td>\n",
       "      <td>[1, 1, 1, 1, 1, 3, 3, 1, 3, 3, 3, 3, 3, 3, 3, ...</td>\n",
       "      <td>0.174941</td>\n",
       "      <td>29921.226293</td>\n",
       "      <td>0.004262</td>\n",
       "    </tr>\n",
       "    <tr>\n",
       "      <th>565</th>\n",
       "      <td>rhizophagus</td>\n",
       "      <td>25</td>\n",
       "      <td>4</td>\n",
       "      <td>R25_14_07_P22.pklclean</td>\n",
       "      <td>383</td>\n",
       "      <td>458</td>\n",
       "      <td>[1, 1, 1, 2, 2, 3, 1, 1, 1, 3, 3, 3, 3, 1, 3, ...</td>\n",
       "      <td>0.198433</td>\n",
       "      <td>21063.123207</td>\n",
       "      <td>0.005682</td>\n",
       "    </tr>\n",
       "    <tr>\n",
       "      <th>566</th>\n",
       "      <td>rhizophagus</td>\n",
       "      <td>25</td>\n",
       "      <td>4</td>\n",
       "      <td>R25_14_07_P23.pklclean</td>\n",
       "      <td>2191</td>\n",
       "      <td>2616</td>\n",
       "      <td>[1, 1, 2, 2, 3, 1, 3, 1, 1, 1, 1, 3, 3, 3, 1, ...</td>\n",
       "      <td>0.194432</td>\n",
       "      <td>140490.499774</td>\n",
       "      <td>0.004553</td>\n",
       "    </tr>\n",
       "  </tbody>\n",
       "</table>\n",
       "<p>567 rows × 10 columns</p>\n",
       "</div>"
      ],
      "text/plain": [
       "              sp boite mesure                   photo  nodes  edges  \\\n",
       "0      gigaspora    34      1  G09_10_06_P01.pklclean    188    199   \n",
       "1      gigaspora    34      1  G09_10_06_P02.pklclean     24     27   \n",
       "2      gigaspora    34      1  G09_10_06_P03.pklclean    271    295   \n",
       "3      gigaspora    34      2  G09_16_06_P01.pklclean     27     36   \n",
       "4      gigaspora    34      2  G09_16_06_P02.pklclean     47     53   \n",
       "..           ...   ...    ...                     ...    ...    ...   \n",
       "562  rhizophagus    25      4  R25_14_07_P19.pklclean   2052   2420   \n",
       "563  rhizophagus    25      4  R25_14_07_P20.pklclean   1691   1962   \n",
       "564  rhizophagus    25      4  R25_14_07_P21.pklclean    423    496   \n",
       "565  rhizophagus    25      4  R25_14_07_P22.pklclean    383    458   \n",
       "566  rhizophagus    25      4  R25_14_07_P23.pklclean   2191   2616   \n",
       "\n",
       "                                               degrees  cycle density  \\\n",
       "0    [1, 1, 1, 3, 3, 1, 1, 3, 3, 1, 3, 1, 3, 1, 3, ...       0.063830   \n",
       "1    [1, 3, 3, 3, 3, 3, 3, 3, 3, 3, 3, 1, 1, 3, 1, ...       0.166667   \n",
       "2    [1, 1, 1, 1, 1, 3, 3, 3, 1, 1, 3, 1, 2, 3, 3, ...       0.092251   \n",
       "3    [1, 1, 3, 3, 3, 3, 3, 3, 3, 3, 3, 3, 3, 3, 3, ...       0.370370   \n",
       "4    [1, 3, 3, 3, 3, 1, 3, 3, 3, 3, 1, 3, 3, 3, 1, ...       0.148936   \n",
       "..                                                 ...            ...   \n",
       "562  [1, 1, 1, 1, 1, 1, 1, 1, 1, 3, 2, 3, 3, 1, 1, ...       0.179825   \n",
       "563  [1, 1, 1, 1, 1, 1, 3, 2, 1, 3, 1, 3, 1, 2, 3, ...       0.160852   \n",
       "564  [1, 1, 1, 1, 1, 3, 3, 1, 3, 3, 3, 3, 3, 3, 3, ...       0.174941   \n",
       "565  [1, 1, 1, 2, 2, 3, 1, 1, 1, 3, 3, 3, 3, 1, 3, ...       0.198433   \n",
       "566  [1, 1, 2, 2, 3, 1, 3, 1, 1, 1, 1, 3, 3, 3, 1, ...       0.194432   \n",
       "\n",
       "     total hyphal length  spatial density  \n",
       "0           27172.814230         0.003141  \n",
       "1            5174.771905         0.003525  \n",
       "2           31300.956237         0.003937  \n",
       "3            2503.156934         0.095901  \n",
       "4           14402.975418         0.003400  \n",
       "..                   ...              ...  \n",
       "562        131443.376557         0.003692  \n",
       "563        125972.189220         0.004859  \n",
       "564         29921.226293         0.004262  \n",
       "565         21063.123207         0.005682  \n",
       "566        140490.499774         0.004553  \n",
       "\n",
       "[567 rows x 10 columns]"
      ]
     },
     "execution_count": 13,
     "metadata": {},
     "output_type": "execute_result"
    }
   ],
   "source": [
    "df"
   ]
  },
  {
   "cell_type": "code",
   "execution_count": 25,
   "id": "a15aa562-4f9b-4508-8219-a0e133a4b58f",
   "metadata": {},
   "outputs": [],
   "source": [
    "df.to_csv('data_clean.csv', index=False)"
   ]
  },
  {
   "cell_type": "code",
   "execution_count": 26,
   "id": "de195121-6b8c-4f14-ab34-45992b6571c9",
   "metadata": {
    "scrolled": true
   },
   "outputs": [
    {
     "data": {
      "text/html": [
       "<div>\n",
       "<style scoped>\n",
       "    .dataframe tbody tr th:only-of-type {\n",
       "        vertical-align: middle;\n",
       "    }\n",
       "\n",
       "    .dataframe tbody tr th {\n",
       "        vertical-align: top;\n",
       "    }\n",
       "\n",
       "    .dataframe thead th {\n",
       "        text-align: right;\n",
       "    }\n",
       "</style>\n",
       "<table border=\"1\" class=\"dataframe\">\n",
       "  <thead>\n",
       "    <tr style=\"text-align: right;\">\n",
       "      <th></th>\n",
       "      <th>mesure</th>\n",
       "      <th>boite</th>\n",
       "      <th>nodes_min</th>\n",
       "      <th>nodes_max</th>\n",
       "      <th>edges_min</th>\n",
       "      <th>edges_max</th>\n",
       "    </tr>\n",
       "  </thead>\n",
       "  <tbody>\n",
       "    <tr>\n",
       "      <th>0</th>\n",
       "      <td>1</td>\n",
       "      <td>01</td>\n",
       "      <td>30</td>\n",
       "      <td>93</td>\n",
       "      <td>34</td>\n",
       "      <td>109</td>\n",
       "    </tr>\n",
       "    <tr>\n",
       "      <th>1</th>\n",
       "      <td>1</td>\n",
       "      <td>02</td>\n",
       "      <td>38</td>\n",
       "      <td>2089</td>\n",
       "      <td>39</td>\n",
       "      <td>2413</td>\n",
       "    </tr>\n",
       "    <tr>\n",
       "      <th>2</th>\n",
       "      <td>1</td>\n",
       "      <td>03</td>\n",
       "      <td>60</td>\n",
       "      <td>60</td>\n",
       "      <td>68</td>\n",
       "      <td>68</td>\n",
       "    </tr>\n",
       "    <tr>\n",
       "      <th>3</th>\n",
       "      <td>1</td>\n",
       "      <td>04</td>\n",
       "      <td>330</td>\n",
       "      <td>1686</td>\n",
       "      <td>379</td>\n",
       "      <td>2016</td>\n",
       "    </tr>\n",
       "    <tr>\n",
       "      <th>4</th>\n",
       "      <td>1</td>\n",
       "      <td>05</td>\n",
       "      <td>309</td>\n",
       "      <td>1654</td>\n",
       "      <td>339</td>\n",
       "      <td>1993</td>\n",
       "    </tr>\n",
       "    <tr>\n",
       "      <th>5</th>\n",
       "      <td>1</td>\n",
       "      <td>06</td>\n",
       "      <td>79</td>\n",
       "      <td>90</td>\n",
       "      <td>86</td>\n",
       "      <td>100</td>\n",
       "    </tr>\n",
       "    <tr>\n",
       "      <th>6</th>\n",
       "      <td>1</td>\n",
       "      <td>08</td>\n",
       "      <td>205</td>\n",
       "      <td>374</td>\n",
       "      <td>222</td>\n",
       "      <td>426</td>\n",
       "    </tr>\n",
       "    <tr>\n",
       "      <th>7</th>\n",
       "      <td>1</td>\n",
       "      <td>09</td>\n",
       "      <td>681</td>\n",
       "      <td>681</td>\n",
       "      <td>786</td>\n",
       "      <td>786</td>\n",
       "    </tr>\n",
       "    <tr>\n",
       "      <th>8</th>\n",
       "      <td>1</td>\n",
       "      <td>11</td>\n",
       "      <td>63</td>\n",
       "      <td>88</td>\n",
       "      <td>76</td>\n",
       "      <td>106</td>\n",
       "    </tr>\n",
       "    <tr>\n",
       "      <th>9</th>\n",
       "      <td>1</td>\n",
       "      <td>12</td>\n",
       "      <td>6</td>\n",
       "      <td>12</td>\n",
       "      <td>5</td>\n",
       "      <td>11</td>\n",
       "    </tr>\n",
       "    <tr>\n",
       "      <th>10</th>\n",
       "      <td>1</td>\n",
       "      <td>25</td>\n",
       "      <td>80</td>\n",
       "      <td>1083</td>\n",
       "      <td>89</td>\n",
       "      <td>1305</td>\n",
       "    </tr>\n",
       "    <tr>\n",
       "      <th>11</th>\n",
       "      <td>1</td>\n",
       "      <td>34</td>\n",
       "      <td>24</td>\n",
       "      <td>271</td>\n",
       "      <td>27</td>\n",
       "      <td>295</td>\n",
       "    </tr>\n",
       "    <tr>\n",
       "      <th>12</th>\n",
       "      <td>2</td>\n",
       "      <td>01</td>\n",
       "      <td>176</td>\n",
       "      <td>1842</td>\n",
       "      <td>191</td>\n",
       "      <td>2114</td>\n",
       "    </tr>\n",
       "    <tr>\n",
       "      <th>13</th>\n",
       "      <td>2</td>\n",
       "      <td>02</td>\n",
       "      <td>235</td>\n",
       "      <td>3473</td>\n",
       "      <td>266</td>\n",
       "      <td>4244</td>\n",
       "    </tr>\n",
       "    <tr>\n",
       "      <th>14</th>\n",
       "      <td>2</td>\n",
       "      <td>03</td>\n",
       "      <td>6</td>\n",
       "      <td>965</td>\n",
       "      <td>5</td>\n",
       "      <td>1122</td>\n",
       "    </tr>\n",
       "    <tr>\n",
       "      <th>15</th>\n",
       "      <td>2</td>\n",
       "      <td>04</td>\n",
       "      <td>59</td>\n",
       "      <td>7798</td>\n",
       "      <td>75</td>\n",
       "      <td>9585</td>\n",
       "    </tr>\n",
       "    <tr>\n",
       "      <th>16</th>\n",
       "      <td>2</td>\n",
       "      <td>05</td>\n",
       "      <td>162</td>\n",
       "      <td>4372</td>\n",
       "      <td>170</td>\n",
       "      <td>5293</td>\n",
       "    </tr>\n",
       "    <tr>\n",
       "      <th>17</th>\n",
       "      <td>2</td>\n",
       "      <td>06</td>\n",
       "      <td>100</td>\n",
       "      <td>3741</td>\n",
       "      <td>121</td>\n",
       "      <td>4511</td>\n",
       "    </tr>\n",
       "    <tr>\n",
       "      <th>18</th>\n",
       "      <td>2</td>\n",
       "      <td>08</td>\n",
       "      <td>45</td>\n",
       "      <td>2598</td>\n",
       "      <td>46</td>\n",
       "      <td>3462</td>\n",
       "    </tr>\n",
       "    <tr>\n",
       "      <th>19</th>\n",
       "      <td>2</td>\n",
       "      <td>09</td>\n",
       "      <td>107</td>\n",
       "      <td>755</td>\n",
       "      <td>119</td>\n",
       "      <td>878</td>\n",
       "    </tr>\n",
       "    <tr>\n",
       "      <th>20</th>\n",
       "      <td>2</td>\n",
       "      <td>12</td>\n",
       "      <td>840</td>\n",
       "      <td>3674</td>\n",
       "      <td>996</td>\n",
       "      <td>4383</td>\n",
       "    </tr>\n",
       "    <tr>\n",
       "      <th>21</th>\n",
       "      <td>2</td>\n",
       "      <td>25</td>\n",
       "      <td>76</td>\n",
       "      <td>3596</td>\n",
       "      <td>82</td>\n",
       "      <td>4326</td>\n",
       "    </tr>\n",
       "    <tr>\n",
       "      <th>22</th>\n",
       "      <td>2</td>\n",
       "      <td>34</td>\n",
       "      <td>20</td>\n",
       "      <td>58</td>\n",
       "      <td>22</td>\n",
       "      <td>62</td>\n",
       "    </tr>\n",
       "    <tr>\n",
       "      <th>23</th>\n",
       "      <td>3</td>\n",
       "      <td>01</td>\n",
       "      <td>162</td>\n",
       "      <td>3904</td>\n",
       "      <td>180</td>\n",
       "      <td>4462</td>\n",
       "    </tr>\n",
       "    <tr>\n",
       "      <th>24</th>\n",
       "      <td>3</td>\n",
       "      <td>02</td>\n",
       "      <td>79</td>\n",
       "      <td>11566</td>\n",
       "      <td>84</td>\n",
       "      <td>14927</td>\n",
       "    </tr>\n",
       "    <tr>\n",
       "      <th>25</th>\n",
       "      <td>3</td>\n",
       "      <td>03</td>\n",
       "      <td>6</td>\n",
       "      <td>413</td>\n",
       "      <td>5</td>\n",
       "      <td>454</td>\n",
       "    </tr>\n",
       "    <tr>\n",
       "      <th>26</th>\n",
       "      <td>3</td>\n",
       "      <td>04</td>\n",
       "      <td>184</td>\n",
       "      <td>8018</td>\n",
       "      <td>194</td>\n",
       "      <td>9836</td>\n",
       "    </tr>\n",
       "    <tr>\n",
       "      <th>27</th>\n",
       "      <td>3</td>\n",
       "      <td>06</td>\n",
       "      <td>50</td>\n",
       "      <td>11998</td>\n",
       "      <td>54</td>\n",
       "      <td>15163</td>\n",
       "    </tr>\n",
       "    <tr>\n",
       "      <th>28</th>\n",
       "      <td>3</td>\n",
       "      <td>08</td>\n",
       "      <td>233</td>\n",
       "      <td>13868</td>\n",
       "      <td>257</td>\n",
       "      <td>17646</td>\n",
       "    </tr>\n",
       "    <tr>\n",
       "      <th>29</th>\n",
       "      <td>3</td>\n",
       "      <td>09</td>\n",
       "      <td>423</td>\n",
       "      <td>1615</td>\n",
       "      <td>483</td>\n",
       "      <td>1951</td>\n",
       "    </tr>\n",
       "    <tr>\n",
       "      <th>30</th>\n",
       "      <td>3</td>\n",
       "      <td>12</td>\n",
       "      <td>2</td>\n",
       "      <td>8624</td>\n",
       "      <td>1</td>\n",
       "      <td>10845</td>\n",
       "    </tr>\n",
       "    <tr>\n",
       "      <th>31</th>\n",
       "      <td>3</td>\n",
       "      <td>25</td>\n",
       "      <td>201</td>\n",
       "      <td>3772</td>\n",
       "      <td>230</td>\n",
       "      <td>4406</td>\n",
       "    </tr>\n",
       "    <tr>\n",
       "      <th>32</th>\n",
       "      <td>3</td>\n",
       "      <td>34</td>\n",
       "      <td>2</td>\n",
       "      <td>1596</td>\n",
       "      <td>1</td>\n",
       "      <td>1804</td>\n",
       "    </tr>\n",
       "    <tr>\n",
       "      <th>33</th>\n",
       "      <td>4</td>\n",
       "      <td>01</td>\n",
       "      <td>168</td>\n",
       "      <td>3745</td>\n",
       "      <td>190</td>\n",
       "      <td>4291</td>\n",
       "    </tr>\n",
       "    <tr>\n",
       "      <th>34</th>\n",
       "      <td>4</td>\n",
       "      <td>02</td>\n",
       "      <td>238</td>\n",
       "      <td>19171</td>\n",
       "      <td>261</td>\n",
       "      <td>24738</td>\n",
       "    </tr>\n",
       "    <tr>\n",
       "      <th>35</th>\n",
       "      <td>4</td>\n",
       "      <td>03</td>\n",
       "      <td>276</td>\n",
       "      <td>1692</td>\n",
       "      <td>309</td>\n",
       "      <td>1944</td>\n",
       "    </tr>\n",
       "    <tr>\n",
       "      <th>36</th>\n",
       "      <td>4</td>\n",
       "      <td>06</td>\n",
       "      <td>529</td>\n",
       "      <td>11485</td>\n",
       "      <td>644</td>\n",
       "      <td>14522</td>\n",
       "    </tr>\n",
       "    <tr>\n",
       "      <th>37</th>\n",
       "      <td>4</td>\n",
       "      <td>12</td>\n",
       "      <td>122</td>\n",
       "      <td>15509</td>\n",
       "      <td>145</td>\n",
       "      <td>20064</td>\n",
       "    </tr>\n",
       "    <tr>\n",
       "      <th>38</th>\n",
       "      <td>4</td>\n",
       "      <td>25</td>\n",
       "      <td>86</td>\n",
       "      <td>3531</td>\n",
       "      <td>91</td>\n",
       "      <td>4138</td>\n",
       "    </tr>\n",
       "    <tr>\n",
       "      <th>39</th>\n",
       "      <td>4</td>\n",
       "      <td>34</td>\n",
       "      <td>6</td>\n",
       "      <td>2578</td>\n",
       "      <td>5</td>\n",
       "      <td>3085</td>\n",
       "    </tr>\n",
       "    <tr>\n",
       "      <th>40</th>\n",
       "      <td>5</td>\n",
       "      <td>01</td>\n",
       "      <td>137</td>\n",
       "      <td>2659</td>\n",
       "      <td>146</td>\n",
       "      <td>3114</td>\n",
       "    </tr>\n",
       "    <tr>\n",
       "      <th>41</th>\n",
       "      <td>5</td>\n",
       "      <td>03</td>\n",
       "      <td>8</td>\n",
       "      <td>2898</td>\n",
       "      <td>7</td>\n",
       "      <td>3468</td>\n",
       "    </tr>\n",
       "    <tr>\n",
       "      <th>42</th>\n",
       "      <td>5</td>\n",
       "      <td>34</td>\n",
       "      <td>6</td>\n",
       "      <td>3004</td>\n",
       "      <td>5</td>\n",
       "      <td>3583</td>\n",
       "    </tr>\n",
       "    <tr>\n",
       "      <th>43</th>\n",
       "      <td>6</td>\n",
       "      <td>34</td>\n",
       "      <td>129</td>\n",
       "      <td>3759</td>\n",
       "      <td>135</td>\n",
       "      <td>4575</td>\n",
       "    </tr>\n",
       "  </tbody>\n",
       "</table>\n",
       "</div>"
      ],
      "text/plain": [
       "   mesure boite  nodes_min  nodes_max  edges_min  edges_max\n",
       "0       1    01         30         93         34        109\n",
       "1       1    02         38       2089         39       2413\n",
       "2       1    03         60         60         68         68\n",
       "3       1    04        330       1686        379       2016\n",
       "4       1    05        309       1654        339       1993\n",
       "5       1    06         79         90         86        100\n",
       "6       1    08        205        374        222        426\n",
       "7       1    09        681        681        786        786\n",
       "8       1    11         63         88         76        106\n",
       "9       1    12          6         12          5         11\n",
       "10      1    25         80       1083         89       1305\n",
       "11      1    34         24        271         27        295\n",
       "12      2    01        176       1842        191       2114\n",
       "13      2    02        235       3473        266       4244\n",
       "14      2    03          6        965          5       1122\n",
       "15      2    04         59       7798         75       9585\n",
       "16      2    05        162       4372        170       5293\n",
       "17      2    06        100       3741        121       4511\n",
       "18      2    08         45       2598         46       3462\n",
       "19      2    09        107        755        119        878\n",
       "20      2    12        840       3674        996       4383\n",
       "21      2    25         76       3596         82       4326\n",
       "22      2    34         20         58         22         62\n",
       "23      3    01        162       3904        180       4462\n",
       "24      3    02         79      11566         84      14927\n",
       "25      3    03          6        413          5        454\n",
       "26      3    04        184       8018        194       9836\n",
       "27      3    06         50      11998         54      15163\n",
       "28      3    08        233      13868        257      17646\n",
       "29      3    09        423       1615        483       1951\n",
       "30      3    12          2       8624          1      10845\n",
       "31      3    25        201       3772        230       4406\n",
       "32      3    34          2       1596          1       1804\n",
       "33      4    01        168       3745        190       4291\n",
       "34      4    02        238      19171        261      24738\n",
       "35      4    03        276       1692        309       1944\n",
       "36      4    06        529      11485        644      14522\n",
       "37      4    12        122      15509        145      20064\n",
       "38      4    25         86       3531         91       4138\n",
       "39      4    34          6       2578          5       3085\n",
       "40      5    01        137       2659        146       3114\n",
       "41      5    03          8       2898          7       3468\n",
       "42      5    34          6       3004          5       3583\n",
       "43      6    34        129       3759        135       4575"
      ]
     },
     "execution_count": 26,
     "metadata": {},
     "output_type": "execute_result"
    }
   ],
   "source": [
    "summary = df.groupby(['mesure', 'boite']).agg(\n",
    "    nodes_min = ('nodes', 'min'),\n",
    "    nodes_max = ('nodes', 'max'),\n",
    "    edges_min = ('edges', 'min'),\n",
    "    edges_max = ('edges', 'max')\n",
    ").reset_index()\n",
    "\n",
    "summary"
   ]
  },
  {
   "cell_type": "code",
   "execution_count": 27,
   "id": "511b1a25-dc0f-4002-ac17-988f45f49d9d",
   "metadata": {},
   "outputs": [],
   "source": [
    "summary.to_excel('summary_clean.xlsx', index=False)"
   ]
  },
  {
   "cell_type": "code",
   "execution_count": 5,
   "id": "cb3bd4ac-9c88-4701-9043-d9de6a3ac118",
   "metadata": {},
   "outputs": [
    {
     "ename": "TypeError",
     "evalue": "'function' object does not support item assignment",
     "output_type": "error",
     "traceback": [
      "\u001b[1;31m---------------------------------------------------------------------------\u001b[0m",
      "\u001b[1;31mTypeError\u001b[0m                                 Traceback (most recent call last)",
      "Cell \u001b[1;32mIn[5], line 18\u001b[0m\n\u001b[0;32m      9\u001b[0m G \u001b[38;5;241m=\u001b[39m pickle\u001b[38;5;241m.\u001b[39mload(\u001b[38;5;28mopen\u001b[39m(path, \u001b[38;5;124m'\u001b[39m\u001b[38;5;124mrb\u001b[39m\u001b[38;5;124m'\u001b[39m))\n\u001b[0;32m     11\u001b[0m result \u001b[38;5;241m=\u001b[39m {\n\u001b[0;32m     12\u001b[0m     \u001b[38;5;124m\"\u001b[39m\u001b[38;5;124msp\u001b[39m\u001b[38;5;124m\"\u001b[39m : sp,\n\u001b[0;32m     13\u001b[0m     \u001b[38;5;124m\"\u001b[39m\u001b[38;5;124mboite\u001b[39m\u001b[38;5;124m\"\u001b[39m: boite,\n\u001b[0;32m     14\u001b[0m     \u001b[38;5;124m\"\u001b[39m\u001b[38;5;124mmesure\u001b[39m\u001b[38;5;124m\"\u001b[39m : mesure,\n\u001b[0;32m     15\u001b[0m     \u001b[38;5;124m\"\u001b[39m\u001b[38;5;124mphoto\u001b[39m\u001b[38;5;124m\"\u001b[39m: photo\n\u001b[0;32m     16\u001b[0m }\n\u001b[1;32m---> 18\u001b[0m result \u001b[38;5;241m=\u001b[39m edges_lengths(G)\n\u001b[0;32m     20\u001b[0m edges_lengths_all\u001b[38;5;241m.\u001b[39mappend(result)\n",
      "Cell \u001b[1;32mIn[3], line 4\u001b[0m, in \u001b[0;36medges_lengths\u001b[1;34m(G)\u001b[0m\n\u001b[0;32m      2\u001b[0m \u001b[38;5;28;01mfor\u001b[39;00m u, v \u001b[38;5;129;01min\u001b[39;00m G\u001b[38;5;241m.\u001b[39medges():\n\u001b[0;32m      3\u001b[0m     dist \u001b[38;5;241m=\u001b[39m distance(G, u, v)\n\u001b[1;32m----> 4\u001b[0m     edges_lengths[(u, v)] \u001b[38;5;241m=\u001b[39m dist\n\u001b[0;32m      5\u001b[0m \u001b[38;5;28;01mreturn\u001b[39;00m edges_lengths\n",
      "\u001b[1;31mTypeError\u001b[0m: 'function' object does not support item assignment"
     ]
    }
   ],
   "source": [
    "edges_lengths_all = []\n",
    "\n",
    "for sp in os.listdir(\"../data\"):\n",
    "    for boite in os.listdir(os.path.join(\"../data\", sp)):\n",
    "        for mesure in os.listdir(os.path.join(\"../data\", sp, boite)):\n",
    "            for photo in os.listdir(os.path.join(\"../data\", sp, boite, mesure)):\n",
    "                if photo.endswith(\".pklclean\") :\n",
    "                    path = os.path.join(\"../data\", sp, boite, mesure, photo)\n",
    "                    G = pickle.load(open(path, 'rb'))\n",
    "\n",
    "                    result = {\n",
    "                        \"sp\" : sp,\n",
    "                        \"boite\": boite,\n",
    "                        \"mesure\" : mesure,\n",
    "                        \"photo\": photo\n",
    "                    }\n",
    "\n",
    "                    result = edges_lengths(G)\n",
    " \n",
    "                    edges_lengths_all.append(result)\n",
    "\n"
   ]
  },
  {
   "cell_type": "code",
   "execution_count": 9,
   "id": "a5ba1449-a2ff-4d9d-af1e-f8747c5fc251",
   "metadata": {},
   "outputs": [],
   "source": [
    "long_metrics_functions = {\n",
    "    'global efficiency weighted' : global_efficiency_weighted,\n",
    "    'local efficiency weighted' : local_efficiency_weighted,\n",
    "    'robustness curve' : robustness_curve,\n",
    "    # 'robustness score' : robustness_score\n",
    "}"
   ]
  },
  {
   "cell_type": "code",
   "execution_count": 63,
   "id": "f39896d4-528f-4ef0-9aeb-d88bc05e8d59",
   "metadata": {},
   "outputs": [],
   "source": [
    "all_files = []\n",
    "\n",
    "for sp in os.listdir(\"../data\"):\n",
    "    for boite in os.listdir(os.path.join(\"../data\", sp)):\n",
    "        for mesure in os.listdir(os.path.join(\"../data\", sp, boite)):\n",
    "            # try:\n",
    "            #     if int(mesure) > 2:\n",
    "            #         continue\n",
    "            # except ValueError:\n",
    "            #     continue \n",
    "            for photo in os.listdir(os.path.join(\"../data\", sp, boite, mesure)):\n",
    "                if photo.endswith(\".pklclean\"):\n",
    "                    path = os.path.join(\"../data\", sp, boite, mesure, photo)\n",
    "                    all_files.append((sp, boite, mesure, photo, path))"
   ]
  },
  {
   "cell_type": "code",
   "execution_count": 64,
   "id": "7b20f156-deb1-4d6d-91e1-577a8da09407",
   "metadata": {
    "scrolled": true
   },
   "outputs": [
    {
     "data": {
      "text/plain": [
       "[('gigaspora',\n",
       "  '34',\n",
       "  '1',\n",
       "  'G09_10_06_P01.pklclean',\n",
       "  '../data\\\\gigaspora\\\\34\\\\1\\\\G09_10_06_P01.pklclean'),\n",
       " ('gigaspora',\n",
       "  '34',\n",
       "  '1',\n",
       "  'G09_10_06_P02.pklclean',\n",
       "  '../data\\\\gigaspora\\\\34\\\\1\\\\G09_10_06_P02.pklclean'),\n",
       " ('gigaspora',\n",
       "  '34',\n",
       "  '1',\n",
       "  'G09_10_06_P03.pklclean',\n",
       "  '../data\\\\gigaspora\\\\34\\\\1\\\\G09_10_06_P03.pklclean'),\n",
       " ('gigaspora',\n",
       "  '34',\n",
       "  '2',\n",
       "  'G09_16_06_P01.pklclean',\n",
       "  '../data\\\\gigaspora\\\\34\\\\2\\\\G09_16_06_P01.pklclean'),\n",
       " ('gigaspora',\n",
       "  '34',\n",
       "  '2',\n",
       "  'G09_16_06_P02.pklclean',\n",
       "  '../data\\\\gigaspora\\\\34\\\\2\\\\G09_16_06_P02.pklclean'),\n",
       " ('gigaspora',\n",
       "  '34',\n",
       "  '2',\n",
       "  'G09_16_06_P04.pklclean',\n",
       "  '../data\\\\gigaspora\\\\34\\\\2\\\\G09_16_06_P04.pklclean'),\n",
       " ('gigaspora',\n",
       "  '34',\n",
       "  '2',\n",
       "  'G09_16_06_P05.pklclean',\n",
       "  '../data\\\\gigaspora\\\\34\\\\2\\\\G09_16_06_P05.pklclean'),\n",
       " ('gigaspora',\n",
       "  '34',\n",
       "  '2',\n",
       "  'G09_16_06_P06.pklclean',\n",
       "  '../data\\\\gigaspora\\\\34\\\\2\\\\G09_16_06_P06.pklclean'),\n",
       " ('gigaspora',\n",
       "  '34',\n",
       "  '3',\n",
       "  'G09_23_06_P01.pklclean',\n",
       "  '../data\\\\gigaspora\\\\34\\\\3\\\\G09_23_06_P01.pklclean'),\n",
       " ('gigaspora',\n",
       "  '34',\n",
       "  '3',\n",
       "  'G09_23_06_P02.pklclean',\n",
       "  '../data\\\\gigaspora\\\\34\\\\3\\\\G09_23_06_P02.pklclean'),\n",
       " ('gigaspora',\n",
       "  '34',\n",
       "  '3',\n",
       "  'G09_23_06_P03.pklclean',\n",
       "  '../data\\\\gigaspora\\\\34\\\\3\\\\G09_23_06_P03.pklclean'),\n",
       " ('gigaspora',\n",
       "  '34',\n",
       "  '3',\n",
       "  'G09_23_06_P04.pklclean',\n",
       "  '../data\\\\gigaspora\\\\34\\\\3\\\\G09_23_06_P04.pklclean'),\n",
       " ('gigaspora',\n",
       "  '34',\n",
       "  '3',\n",
       "  'G09_23_06_P05.pklclean',\n",
       "  '../data\\\\gigaspora\\\\34\\\\3\\\\G09_23_06_P05.pklclean'),\n",
       " ('gigaspora',\n",
       "  '34',\n",
       "  '3',\n",
       "  'G09_23_06_P06.pklclean',\n",
       "  '../data\\\\gigaspora\\\\34\\\\3\\\\G09_23_06_P06.pklclean'),\n",
       " ('gigaspora',\n",
       "  '34',\n",
       "  '3',\n",
       "  'G09_23_06_P07.pklclean',\n",
       "  '../data\\\\gigaspora\\\\34\\\\3\\\\G09_23_06_P07.pklclean'),\n",
       " ('gigaspora',\n",
       "  '34',\n",
       "  '3',\n",
       "  'G09_23_06_P08.pklclean',\n",
       "  '../data\\\\gigaspora\\\\34\\\\3\\\\G09_23_06_P08.pklclean'),\n",
       " ('gigaspora',\n",
       "  '34',\n",
       "  '3',\n",
       "  'G09_23_06_P09.pklclean',\n",
       "  '../data\\\\gigaspora\\\\34\\\\3\\\\G09_23_06_P09.pklclean'),\n",
       " ('gigaspora',\n",
       "  '34',\n",
       "  '3',\n",
       "  'G09_23_06_P10.pklclean',\n",
       "  '../data\\\\gigaspora\\\\34\\\\3\\\\G09_23_06_P10.pklclean'),\n",
       " ('gigaspora',\n",
       "  '34',\n",
       "  '3',\n",
       "  'G09_23_06_P11.pklclean',\n",
       "  '../data\\\\gigaspora\\\\34\\\\3\\\\G09_23_06_P11.pklclean'),\n",
       " ('gigaspora',\n",
       "  '34',\n",
       "  '3',\n",
       "  'G09_23_06_P12.pklclean',\n",
       "  '../data\\\\gigaspora\\\\34\\\\3\\\\G09_23_06_P12.pklclean'),\n",
       " ('gigaspora',\n",
       "  '34',\n",
       "  '3',\n",
       "  'G09_23_06_P13.pklclean',\n",
       "  '../data\\\\gigaspora\\\\34\\\\3\\\\G09_23_06_P13.pklclean'),\n",
       " ('gigaspora',\n",
       "  '34',\n",
       "  '3',\n",
       "  'G09_23_06_P14.pklclean',\n",
       "  '../data\\\\gigaspora\\\\34\\\\3\\\\G09_23_06_P14.pklclean'),\n",
       " ('gigaspora',\n",
       "  '34',\n",
       "  '4',\n",
       "  'G09_30_06_P01.pklclean',\n",
       "  '../data\\\\gigaspora\\\\34\\\\4\\\\G09_30_06_P01.pklclean'),\n",
       " ('gigaspora',\n",
       "  '34',\n",
       "  '4',\n",
       "  'G09_30_06_P02.pklclean',\n",
       "  '../data\\\\gigaspora\\\\34\\\\4\\\\G09_30_06_P02.pklclean'),\n",
       " ('gigaspora',\n",
       "  '34',\n",
       "  '4',\n",
       "  'G09_30_06_P03.pklclean',\n",
       "  '../data\\\\gigaspora\\\\34\\\\4\\\\G09_30_06_P03.pklclean'),\n",
       " ('gigaspora',\n",
       "  '34',\n",
       "  '4',\n",
       "  'G09_30_06_P04.pklclean',\n",
       "  '../data\\\\gigaspora\\\\34\\\\4\\\\G09_30_06_P04.pklclean'),\n",
       " ('gigaspora',\n",
       "  '34',\n",
       "  '4',\n",
       "  'G09_30_06_P05.pklclean',\n",
       "  '../data\\\\gigaspora\\\\34\\\\4\\\\G09_30_06_P05.pklclean'),\n",
       " ('gigaspora',\n",
       "  '34',\n",
       "  '4',\n",
       "  'G09_30_06_P06.pklclean',\n",
       "  '../data\\\\gigaspora\\\\34\\\\4\\\\G09_30_06_P06.pklclean'),\n",
       " ('gigaspora',\n",
       "  '34',\n",
       "  '4',\n",
       "  'G09_30_06_P07.pklclean',\n",
       "  '../data\\\\gigaspora\\\\34\\\\4\\\\G09_30_06_P07.pklclean'),\n",
       " ('gigaspora',\n",
       "  '34',\n",
       "  '4',\n",
       "  'G09_30_06_P08.pklclean',\n",
       "  '../data\\\\gigaspora\\\\34\\\\4\\\\G09_30_06_P08.pklclean'),\n",
       " ('gigaspora',\n",
       "  '34',\n",
       "  '4',\n",
       "  'G09_30_06_P09.pklclean',\n",
       "  '../data\\\\gigaspora\\\\34\\\\4\\\\G09_30_06_P09.pklclean'),\n",
       " ('gigaspora',\n",
       "  '34',\n",
       "  '4',\n",
       "  'G09_30_06_P10.pklclean',\n",
       "  '../data\\\\gigaspora\\\\34\\\\4\\\\G09_30_06_P10.pklclean'),\n",
       " ('gigaspora',\n",
       "  '34',\n",
       "  '4',\n",
       "  'G09_30_06_P11.pklclean',\n",
       "  '../data\\\\gigaspora\\\\34\\\\4\\\\G09_30_06_P11.pklclean'),\n",
       " ('gigaspora',\n",
       "  '34',\n",
       "  '4',\n",
       "  'G09_30_06_P12.pklclean',\n",
       "  '../data\\\\gigaspora\\\\34\\\\4\\\\G09_30_06_P12.pklclean'),\n",
       " ('gigaspora',\n",
       "  '34',\n",
       "  '4',\n",
       "  'G09_30_06_P13.pklclean',\n",
       "  '../data\\\\gigaspora\\\\34\\\\4\\\\G09_30_06_P13.pklclean'),\n",
       " ('gigaspora',\n",
       "  '34',\n",
       "  '4',\n",
       "  'G09_30_06_P14.pklclean',\n",
       "  '../data\\\\gigaspora\\\\34\\\\4\\\\G09_30_06_P14.pklclean'),\n",
       " ('gigaspora',\n",
       "  '34',\n",
       "  '4',\n",
       "  'G09_30_06_P15.pklclean',\n",
       "  '../data\\\\gigaspora\\\\34\\\\4\\\\G09_30_06_P15.pklclean'),\n",
       " ('gigaspora',\n",
       "  '34',\n",
       "  '4',\n",
       "  'G09_30_06_P16.pklclean',\n",
       "  '../data\\\\gigaspora\\\\34\\\\4\\\\G09_30_06_P16.pklclean'),\n",
       " ('gigaspora',\n",
       "  '34',\n",
       "  '5',\n",
       "  'G09_07_07_P01.pklclean',\n",
       "  '../data\\\\gigaspora\\\\34\\\\5\\\\G09_07_07_P01.pklclean'),\n",
       " ('gigaspora',\n",
       "  '34',\n",
       "  '5',\n",
       "  'G09_07_07_P02.pklclean',\n",
       "  '../data\\\\gigaspora\\\\34\\\\5\\\\G09_07_07_P02.pklclean'),\n",
       " ('gigaspora',\n",
       "  '34',\n",
       "  '5',\n",
       "  'G09_07_07_P03.pklclean',\n",
       "  '../data\\\\gigaspora\\\\34\\\\5\\\\G09_07_07_P03.pklclean'),\n",
       " ('gigaspora',\n",
       "  '34',\n",
       "  '5',\n",
       "  'G09_07_07_P04.pklclean',\n",
       "  '../data\\\\gigaspora\\\\34\\\\5\\\\G09_07_07_P04.pklclean'),\n",
       " ('gigaspora',\n",
       "  '34',\n",
       "  '5',\n",
       "  'G09_07_07_P05.pklclean',\n",
       "  '../data\\\\gigaspora\\\\34\\\\5\\\\G09_07_07_P05.pklclean'),\n",
       " ('gigaspora',\n",
       "  '34',\n",
       "  '5',\n",
       "  'G09_07_07_P06.pklclean',\n",
       "  '../data\\\\gigaspora\\\\34\\\\5\\\\G09_07_07_P06.pklclean'),\n",
       " ('gigaspora',\n",
       "  '34',\n",
       "  '5',\n",
       "  'G09_07_07_P07.pklclean',\n",
       "  '../data\\\\gigaspora\\\\34\\\\5\\\\G09_07_07_P07.pklclean'),\n",
       " ('gigaspora',\n",
       "  '34',\n",
       "  '5',\n",
       "  'G09_07_07_P08.pklclean',\n",
       "  '../data\\\\gigaspora\\\\34\\\\5\\\\G09_07_07_P08.pklclean'),\n",
       " ('gigaspora',\n",
       "  '34',\n",
       "  '5',\n",
       "  'G09_07_07_P09.pklclean',\n",
       "  '../data\\\\gigaspora\\\\34\\\\5\\\\G09_07_07_P09.pklclean'),\n",
       " ('gigaspora',\n",
       "  '34',\n",
       "  '5',\n",
       "  'G09_07_07_P10.pklclean',\n",
       "  '../data\\\\gigaspora\\\\34\\\\5\\\\G09_07_07_P10.pklclean'),\n",
       " ('gigaspora',\n",
       "  '34',\n",
       "  '5',\n",
       "  'G09_07_07_P11.pklclean',\n",
       "  '../data\\\\gigaspora\\\\34\\\\5\\\\G09_07_07_P11.pklclean'),\n",
       " ('gigaspora',\n",
       "  '34',\n",
       "  '5',\n",
       "  'G09_07_07_P12.pklclean',\n",
       "  '../data\\\\gigaspora\\\\34\\\\5\\\\G09_07_07_P12.pklclean'),\n",
       " ('gigaspora',\n",
       "  '34',\n",
       "  '5',\n",
       "  'G09_07_07_P13.pklclean',\n",
       "  '../data\\\\gigaspora\\\\34\\\\5\\\\G09_07_07_P13.pklclean'),\n",
       " ('gigaspora',\n",
       "  '34',\n",
       "  '5',\n",
       "  'G09_07_07_P14.pklclean',\n",
       "  '../data\\\\gigaspora\\\\34\\\\5\\\\G09_07_07_P14.pklclean'),\n",
       " ('gigaspora',\n",
       "  '34',\n",
       "  '5',\n",
       "  'G09_07_07_P15.pklclean',\n",
       "  '../data\\\\gigaspora\\\\34\\\\5\\\\G09_07_07_P15.pklclean'),\n",
       " ('gigaspora',\n",
       "  '34',\n",
       "  '5',\n",
       "  'G09_07_07_P16.pklclean',\n",
       "  '../data\\\\gigaspora\\\\34\\\\5\\\\G09_07_07_P16.pklclean'),\n",
       " ('gigaspora',\n",
       "  '34',\n",
       "  '5',\n",
       "  'G09_07_07_P17.pklclean',\n",
       "  '../data\\\\gigaspora\\\\34\\\\5\\\\G09_07_07_P17.pklclean'),\n",
       " ('gigaspora',\n",
       "  '34',\n",
       "  '5',\n",
       "  'G09_07_07_P18.pklclean',\n",
       "  '../data\\\\gigaspora\\\\34\\\\5\\\\G09_07_07_P18.pklclean'),\n",
       " ('gigaspora',\n",
       "  '34',\n",
       "  '5',\n",
       "  'G09_07_07_P19.pklclean',\n",
       "  '../data\\\\gigaspora\\\\34\\\\5\\\\G09_07_07_P19.pklclean'),\n",
       " ('gigaspora',\n",
       "  '34',\n",
       "  '5',\n",
       "  'G09_07_07_P20.pklclean',\n",
       "  '../data\\\\gigaspora\\\\34\\\\5\\\\G09_07_07_P20.pklclean'),\n",
       " ('rhizophagus',\n",
       "  '01',\n",
       "  '1',\n",
       "  'R01_16_06_P01.pklclean',\n",
       "  '../data\\\\rhizophagus\\\\01\\\\1\\\\R01_16_06_P01.pklclean'),\n",
       " ('rhizophagus',\n",
       "  '01',\n",
       "  '1',\n",
       "  'R01_16_06_P02.pklclean',\n",
       "  '../data\\\\rhizophagus\\\\01\\\\1\\\\R01_16_06_P02.pklclean'),\n",
       " ('rhizophagus',\n",
       "  '01',\n",
       "  '2',\n",
       "  'R01_23_06_P01.pklclean',\n",
       "  '../data\\\\rhizophagus\\\\01\\\\2\\\\R01_23_06_P01.pklclean'),\n",
       " ('rhizophagus',\n",
       "  '01',\n",
       "  '2',\n",
       "  'R01_23_06_P02.pklclean',\n",
       "  '../data\\\\rhizophagus\\\\01\\\\2\\\\R01_23_06_P02.pklclean'),\n",
       " ('rhizophagus',\n",
       "  '01',\n",
       "  '2',\n",
       "  'R01_23_06_P03.pklclean',\n",
       "  '../data\\\\rhizophagus\\\\01\\\\2\\\\R01_23_06_P03.pklclean'),\n",
       " ('rhizophagus',\n",
       "  '01',\n",
       "  '2',\n",
       "  'R01_23_06_P04.pklclean',\n",
       "  '../data\\\\rhizophagus\\\\01\\\\2\\\\R01_23_06_P04.pklclean'),\n",
       " ('rhizophagus',\n",
       "  '01',\n",
       "  '2',\n",
       "  'R01_23_06_P05.pklclean',\n",
       "  '../data\\\\rhizophagus\\\\01\\\\2\\\\R01_23_06_P05.pklclean'),\n",
       " ('rhizophagus',\n",
       "  '01',\n",
       "  '2',\n",
       "  'R01_23_06_P06.pklclean',\n",
       "  '../data\\\\rhizophagus\\\\01\\\\2\\\\R01_23_06_P06.pklclean'),\n",
       " ('rhizophagus',\n",
       "  '01',\n",
       "  '2',\n",
       "  'R01_23_06_P07.pklclean',\n",
       "  '../data\\\\rhizophagus\\\\01\\\\2\\\\R01_23_06_P07.pklclean'),\n",
       " ('rhizophagus',\n",
       "  '01',\n",
       "  '2',\n",
       "  'R01_23_06_P08.pklclean',\n",
       "  '../data\\\\rhizophagus\\\\01\\\\2\\\\R01_23_06_P08.pklclean'),\n",
       " ('rhizophagus',\n",
       "  '01',\n",
       "  '2',\n",
       "  'R01_23_06_P09.pklclean',\n",
       "  '../data\\\\rhizophagus\\\\01\\\\2\\\\R01_23_06_P09.pklclean'),\n",
       " ('rhizophagus',\n",
       "  '01',\n",
       "  '3',\n",
       "  'R01_30_06_P01.pklclean',\n",
       "  '../data\\\\rhizophagus\\\\01\\\\3\\\\R01_30_06_P01.pklclean'),\n",
       " ('rhizophagus',\n",
       "  '01',\n",
       "  '3',\n",
       "  'R01_30_06_P02.pklclean',\n",
       "  '../data\\\\rhizophagus\\\\01\\\\3\\\\R01_30_06_P02.pklclean'),\n",
       " ('rhizophagus',\n",
       "  '01',\n",
       "  '3',\n",
       "  'R01_30_06_P03.pklclean',\n",
       "  '../data\\\\rhizophagus\\\\01\\\\3\\\\R01_30_06_P03.pklclean'),\n",
       " ('rhizophagus',\n",
       "  '01',\n",
       "  '3',\n",
       "  'R01_30_06_P04.pklclean',\n",
       "  '../data\\\\rhizophagus\\\\01\\\\3\\\\R01_30_06_P04.pklclean'),\n",
       " ('rhizophagus',\n",
       "  '01',\n",
       "  '3',\n",
       "  'R01_30_06_P05.pklclean',\n",
       "  '../data\\\\rhizophagus\\\\01\\\\3\\\\R01_30_06_P05.pklclean'),\n",
       " ('rhizophagus',\n",
       "  '01',\n",
       "  '3',\n",
       "  'R01_30_06_P06.pklclean',\n",
       "  '../data\\\\rhizophagus\\\\01\\\\3\\\\R01_30_06_P06.pklclean'),\n",
       " ('rhizophagus',\n",
       "  '01',\n",
       "  '3',\n",
       "  'R01_30_06_P07.pklclean',\n",
       "  '../data\\\\rhizophagus\\\\01\\\\3\\\\R01_30_06_P07.pklclean'),\n",
       " ('rhizophagus',\n",
       "  '01',\n",
       "  '3',\n",
       "  'R01_30_06_P08.pklclean',\n",
       "  '../data\\\\rhizophagus\\\\01\\\\3\\\\R01_30_06_P08.pklclean'),\n",
       " ('rhizophagus',\n",
       "  '01',\n",
       "  '3',\n",
       "  'R01_30_06_P09.pklclean',\n",
       "  '../data\\\\rhizophagus\\\\01\\\\3\\\\R01_30_06_P09.pklclean'),\n",
       " ('rhizophagus',\n",
       "  '01',\n",
       "  '3',\n",
       "  'R01_30_06_P10.pklclean',\n",
       "  '../data\\\\rhizophagus\\\\01\\\\3\\\\R01_30_06_P10.pklclean'),\n",
       " ('rhizophagus',\n",
       "  '01',\n",
       "  '3',\n",
       "  'R01_30_06_P11.pklclean',\n",
       "  '../data\\\\rhizophagus\\\\01\\\\3\\\\R01_30_06_P11.pklclean'),\n",
       " ('rhizophagus',\n",
       "  '01',\n",
       "  '3',\n",
       "  'R01_30_06_P12.pklclean',\n",
       "  '../data\\\\rhizophagus\\\\01\\\\3\\\\R01_30_06_P12.pklclean'),\n",
       " ('rhizophagus',\n",
       "  '01',\n",
       "  '3',\n",
       "  'R01_30_06_P13.pklclean',\n",
       "  '../data\\\\rhizophagus\\\\01\\\\3\\\\R01_30_06_P13.pklclean'),\n",
       " ('rhizophagus',\n",
       "  '01',\n",
       "  '3',\n",
       "  'R01_30_06_P14.pklclean',\n",
       "  '../data\\\\rhizophagus\\\\01\\\\3\\\\R01_30_06_P14.pklclean'),\n",
       " ('rhizophagus',\n",
       "  '01',\n",
       "  '3',\n",
       "  'R01_30_06_P15.pklclean',\n",
       "  '../data\\\\rhizophagus\\\\01\\\\3\\\\R01_30_06_P15.pklclean'),\n",
       " ('rhizophagus',\n",
       "  '01',\n",
       "  '3',\n",
       "  'R01_30_06_P16.pklclean',\n",
       "  '../data\\\\rhizophagus\\\\01\\\\3\\\\R01_30_06_P16.pklclean'),\n",
       " ('rhizophagus',\n",
       "  '01',\n",
       "  '3',\n",
       "  'R01_30_06_P17.pklclean',\n",
       "  '../data\\\\rhizophagus\\\\01\\\\3\\\\R01_30_06_P17.pklclean'),\n",
       " ('rhizophagus',\n",
       "  '01',\n",
       "  '3',\n",
       "  'R01_30_06_P18.pklclean',\n",
       "  '../data\\\\rhizophagus\\\\01\\\\3\\\\R01_30_06_P18.pklclean'),\n",
       " ('rhizophagus',\n",
       "  '01',\n",
       "  '4',\n",
       "  'R01_07_07_P01.pklclean',\n",
       "  '../data\\\\rhizophagus\\\\01\\\\4\\\\R01_07_07_P01.pklclean'),\n",
       " ('rhizophagus',\n",
       "  '01',\n",
       "  '4',\n",
       "  'R01_07_07_P02.pklclean',\n",
       "  '../data\\\\rhizophagus\\\\01\\\\4\\\\R01_07_07_P02.pklclean'),\n",
       " ('rhizophagus',\n",
       "  '01',\n",
       "  '4',\n",
       "  'R01_07_07_P03.pklclean',\n",
       "  '../data\\\\rhizophagus\\\\01\\\\4\\\\R01_07_07_P03.pklclean'),\n",
       " ('rhizophagus',\n",
       "  '01',\n",
       "  '4',\n",
       "  'R01_07_07_P04.pklclean',\n",
       "  '../data\\\\rhizophagus\\\\01\\\\4\\\\R01_07_07_P04.pklclean'),\n",
       " ('rhizophagus',\n",
       "  '01',\n",
       "  '4',\n",
       "  'R01_07_07_P05.pklclean',\n",
       "  '../data\\\\rhizophagus\\\\01\\\\4\\\\R01_07_07_P05.pklclean'),\n",
       " ('rhizophagus',\n",
       "  '01',\n",
       "  '4',\n",
       "  'R01_07_07_P06.pklclean',\n",
       "  '../data\\\\rhizophagus\\\\01\\\\4\\\\R01_07_07_P06.pklclean'),\n",
       " ('rhizophagus',\n",
       "  '01',\n",
       "  '4',\n",
       "  'R01_07_07_P07.pklclean',\n",
       "  '../data\\\\rhizophagus\\\\01\\\\4\\\\R01_07_07_P07.pklclean'),\n",
       " ('rhizophagus',\n",
       "  '01',\n",
       "  '4',\n",
       "  'R01_07_07_P08.pklclean',\n",
       "  '../data\\\\rhizophagus\\\\01\\\\4\\\\R01_07_07_P08.pklclean'),\n",
       " ('rhizophagus',\n",
       "  '01',\n",
       "  '4',\n",
       "  'R01_07_07_P09.pklclean',\n",
       "  '../data\\\\rhizophagus\\\\01\\\\4\\\\R01_07_07_P09.pklclean'),\n",
       " ('rhizophagus',\n",
       "  '01',\n",
       "  '4',\n",
       "  'R01_07_07_P10.pklclean',\n",
       "  '../data\\\\rhizophagus\\\\01\\\\4\\\\R01_07_07_P10.pklclean'),\n",
       " ('rhizophagus',\n",
       "  '01',\n",
       "  '4',\n",
       "  'R01_07_07_P11.pklclean',\n",
       "  '../data\\\\rhizophagus\\\\01\\\\4\\\\R01_07_07_P11.pklclean'),\n",
       " ('rhizophagus',\n",
       "  '01',\n",
       "  '4',\n",
       "  'R01_07_07_P12.pklclean',\n",
       "  '../data\\\\rhizophagus\\\\01\\\\4\\\\R01_07_07_P12.pklclean'),\n",
       " ('rhizophagus',\n",
       "  '01',\n",
       "  '4',\n",
       "  'R01_07_07_P13.pklclean',\n",
       "  '../data\\\\rhizophagus\\\\01\\\\4\\\\R01_07_07_P13.pklclean'),\n",
       " ('rhizophagus',\n",
       "  '01',\n",
       "  '4',\n",
       "  'R01_07_07_P14.pklclean',\n",
       "  '../data\\\\rhizophagus\\\\01\\\\4\\\\R01_07_07_P14.pklclean'),\n",
       " ('rhizophagus',\n",
       "  '01',\n",
       "  '4',\n",
       "  'R01_07_07_P15.pklclean',\n",
       "  '../data\\\\rhizophagus\\\\01\\\\4\\\\R01_07_07_P15.pklclean'),\n",
       " ('rhizophagus',\n",
       "  '01',\n",
       "  '4',\n",
       "  'R01_07_07_P16.pklclean',\n",
       "  '../data\\\\rhizophagus\\\\01\\\\4\\\\R01_07_07_P16.pklclean'),\n",
       " ('rhizophagus',\n",
       "  '01',\n",
       "  '4',\n",
       "  'R01_07_07_P17.pklclean',\n",
       "  '../data\\\\rhizophagus\\\\01\\\\4\\\\R01_07_07_P17.pklclean'),\n",
       " ('rhizophagus',\n",
       "  '01',\n",
       "  '4',\n",
       "  'R01_07_07_P18.pklclean',\n",
       "  '../data\\\\rhizophagus\\\\01\\\\4\\\\R01_07_07_P18.pklclean'),\n",
       " ('rhizophagus',\n",
       "  '01',\n",
       "  '4',\n",
       "  'R01_07_97_P19.pklclean',\n",
       "  '../data\\\\rhizophagus\\\\01\\\\4\\\\R01_07_97_P19.pklclean'),\n",
       " ('rhizophagus',\n",
       "  '02',\n",
       "  '1',\n",
       "  'R02_10_06_P01.pklclean',\n",
       "  '../data\\\\rhizophagus\\\\02\\\\1\\\\R02_10_06_P01.pklclean'),\n",
       " ('rhizophagus',\n",
       "  '02',\n",
       "  '1',\n",
       "  'R02_10_06_P02.pklclean',\n",
       "  '../data\\\\rhizophagus\\\\02\\\\1\\\\R02_10_06_P02.pklclean'),\n",
       " ('rhizophagus',\n",
       "  '02',\n",
       "  '1',\n",
       "  'R02_10_06_P03.pklclean',\n",
       "  '../data\\\\rhizophagus\\\\02\\\\1\\\\R02_10_06_P03.pklclean'),\n",
       " ('rhizophagus',\n",
       "  '02',\n",
       "  '1',\n",
       "  'R02_10_06_P04.pklclean',\n",
       "  '../data\\\\rhizophagus\\\\02\\\\1\\\\R02_10_06_P04.pklclean'),\n",
       " ('rhizophagus',\n",
       "  '02',\n",
       "  '2',\n",
       "  'R02_16_06_P01.pklclean',\n",
       "  '../data\\\\rhizophagus\\\\02\\\\2\\\\R02_16_06_P01.pklclean'),\n",
       " ('rhizophagus',\n",
       "  '02',\n",
       "  '2',\n",
       "  'R02_16_06_P02.pklclean',\n",
       "  '../data\\\\rhizophagus\\\\02\\\\2\\\\R02_16_06_P02.pklclean'),\n",
       " ('rhizophagus',\n",
       "  '02',\n",
       "  '2',\n",
       "  'R02_16_06_P03.pklclean',\n",
       "  '../data\\\\rhizophagus\\\\02\\\\2\\\\R02_16_06_P03.pklclean'),\n",
       " ('rhizophagus',\n",
       "  '02',\n",
       "  '2',\n",
       "  'R02_16_06_P04.pklclean',\n",
       "  '../data\\\\rhizophagus\\\\02\\\\2\\\\R02_16_06_P04.pklclean'),\n",
       " ('rhizophagus',\n",
       "  '02',\n",
       "  '2',\n",
       "  'R02_16_06_P05.pklclean',\n",
       "  '../data\\\\rhizophagus\\\\02\\\\2\\\\R02_16_06_P05.pklclean'),\n",
       " ('rhizophagus',\n",
       "  '02',\n",
       "  '2',\n",
       "  'R02_16_06_P06.pklclean',\n",
       "  '../data\\\\rhizophagus\\\\02\\\\2\\\\R02_16_06_P06.pklclean'),\n",
       " ('rhizophagus',\n",
       "  '02',\n",
       "  '2',\n",
       "  'R02_16_06_P07.pklclean',\n",
       "  '../data\\\\rhizophagus\\\\02\\\\2\\\\R02_16_06_P07.pklclean'),\n",
       " ('rhizophagus',\n",
       "  '02',\n",
       "  '2',\n",
       "  'R02_16_06_P08.pklclean',\n",
       "  '../data\\\\rhizophagus\\\\02\\\\2\\\\R02_16_06_P08.pklclean'),\n",
       " ('rhizophagus',\n",
       "  '02',\n",
       "  '2',\n",
       "  'R02_16_06_P09.pklclean',\n",
       "  '../data\\\\rhizophagus\\\\02\\\\2\\\\R02_16_06_P09.pklclean'),\n",
       " ('rhizophagus',\n",
       "  '02',\n",
       "  '2',\n",
       "  'R02_16_06_P10.pklclean',\n",
       "  '../data\\\\rhizophagus\\\\02\\\\2\\\\R02_16_06_P10.pklclean'),\n",
       " ('rhizophagus',\n",
       "  '02',\n",
       "  '2',\n",
       "  'R02_16_06_P11.pklclean',\n",
       "  '../data\\\\rhizophagus\\\\02\\\\2\\\\R02_16_06_P11.pklclean'),\n",
       " ('rhizophagus',\n",
       "  '02',\n",
       "  '2',\n",
       "  'R02_16_06_P12.pklclean',\n",
       "  '../data\\\\rhizophagus\\\\02\\\\2\\\\R02_16_06_P12.pklclean'),\n",
       " ('rhizophagus',\n",
       "  '02',\n",
       "  '2',\n",
       "  'R02_16_06_P13.pklclean',\n",
       "  '../data\\\\rhizophagus\\\\02\\\\2\\\\R02_16_06_P13.pklclean'),\n",
       " ('rhizophagus',\n",
       "  '02',\n",
       "  '2',\n",
       "  'R02_16_06_P14.pklclean',\n",
       "  '../data\\\\rhizophagus\\\\02\\\\2\\\\R02_16_06_P14.pklclean'),\n",
       " ('rhizophagus',\n",
       "  '02',\n",
       "  '2',\n",
       "  'R02_16_06_P15.pklclean',\n",
       "  '../data\\\\rhizophagus\\\\02\\\\2\\\\R02_16_06_P15.pklclean'),\n",
       " ('rhizophagus',\n",
       "  '02',\n",
       "  '3',\n",
       "  'R02_23_06_P01.pklclean',\n",
       "  '../data\\\\rhizophagus\\\\02\\\\3\\\\R02_23_06_P01.pklclean'),\n",
       " ('rhizophagus',\n",
       "  '02',\n",
       "  '3',\n",
       "  'R02_23_06_P02.pklclean',\n",
       "  '../data\\\\rhizophagus\\\\02\\\\3\\\\R02_23_06_P02.pklclean'),\n",
       " ('rhizophagus',\n",
       "  '02',\n",
       "  '3',\n",
       "  'R02_23_06_P03.pklclean',\n",
       "  '../data\\\\rhizophagus\\\\02\\\\3\\\\R02_23_06_P03.pklclean'),\n",
       " ('rhizophagus',\n",
       "  '02',\n",
       "  '3',\n",
       "  'R02_23_06_P04.pklclean',\n",
       "  '../data\\\\rhizophagus\\\\02\\\\3\\\\R02_23_06_P04.pklclean'),\n",
       " ('rhizophagus',\n",
       "  '02',\n",
       "  '3',\n",
       "  'R02_23_06_P05.pklclean',\n",
       "  '../data\\\\rhizophagus\\\\02\\\\3\\\\R02_23_06_P05.pklclean'),\n",
       " ('rhizophagus',\n",
       "  '02',\n",
       "  '3',\n",
       "  'R02_23_06_P06.pklclean',\n",
       "  '../data\\\\rhizophagus\\\\02\\\\3\\\\R02_23_06_P06.pklclean'),\n",
       " ('rhizophagus',\n",
       "  '02',\n",
       "  '3',\n",
       "  'R02_23_06_P07.pklclean',\n",
       "  '../data\\\\rhizophagus\\\\02\\\\3\\\\R02_23_06_P07.pklclean'),\n",
       " ('rhizophagus',\n",
       "  '02',\n",
       "  '3',\n",
       "  'R02_23_06_P08.pklclean',\n",
       "  '../data\\\\rhizophagus\\\\02\\\\3\\\\R02_23_06_P08.pklclean'),\n",
       " ('rhizophagus',\n",
       "  '02',\n",
       "  '3',\n",
       "  'R02_23_06_P09.pklclean',\n",
       "  '../data\\\\rhizophagus\\\\02\\\\3\\\\R02_23_06_P09.pklclean'),\n",
       " ('rhizophagus',\n",
       "  '02',\n",
       "  '3',\n",
       "  'R02_23_06_P10.pklclean',\n",
       "  '../data\\\\rhizophagus\\\\02\\\\3\\\\R02_23_06_P10.pklclean'),\n",
       " ('rhizophagus',\n",
       "  '02',\n",
       "  '3',\n",
       "  'R02_23_06_P11.pklclean',\n",
       "  '../data\\\\rhizophagus\\\\02\\\\3\\\\R02_23_06_P11.pklclean'),\n",
       " ('rhizophagus',\n",
       "  '02',\n",
       "  '3',\n",
       "  'R02_23_06_P12.pklclean',\n",
       "  '../data\\\\rhizophagus\\\\02\\\\3\\\\R02_23_06_P12.pklclean'),\n",
       " ('rhizophagus',\n",
       "  '02',\n",
       "  '3',\n",
       "  'R02_23_06_P13.pklclean',\n",
       "  '../data\\\\rhizophagus\\\\02\\\\3\\\\R02_23_06_P13.pklclean'),\n",
       " ('rhizophagus',\n",
       "  '02',\n",
       "  '4',\n",
       "  'R02_30_06_P01.pklclean',\n",
       "  '../data\\\\rhizophagus\\\\02\\\\4\\\\R02_30_06_P01.pklclean'),\n",
       " ('rhizophagus',\n",
       "  '02',\n",
       "  '4',\n",
       "  'R02_30_06_P02.pklclean',\n",
       "  '../data\\\\rhizophagus\\\\02\\\\4\\\\R02_30_06_P02.pklclean'),\n",
       " ('rhizophagus',\n",
       "  '02',\n",
       "  '4',\n",
       "  'R02_30_06_P03.pklclean',\n",
       "  '../data\\\\rhizophagus\\\\02\\\\4\\\\R02_30_06_P03.pklclean'),\n",
       " ('rhizophagus',\n",
       "  '02',\n",
       "  '4',\n",
       "  'R02_30_06_P04.pklclean',\n",
       "  '../data\\\\rhizophagus\\\\02\\\\4\\\\R02_30_06_P04.pklclean'),\n",
       " ('rhizophagus',\n",
       "  '02',\n",
       "  '4',\n",
       "  'R02_30_06_P05.pklclean',\n",
       "  '../data\\\\rhizophagus\\\\02\\\\4\\\\R02_30_06_P05.pklclean'),\n",
       " ('rhizophagus',\n",
       "  '02',\n",
       "  '4',\n",
       "  'R02_30_06_P06.pklclean',\n",
       "  '../data\\\\rhizophagus\\\\02\\\\4\\\\R02_30_06_P06.pklclean'),\n",
       " ('rhizophagus',\n",
       "  '02',\n",
       "  '4',\n",
       "  'R02_30_06_P07.pklclean',\n",
       "  '../data\\\\rhizophagus\\\\02\\\\4\\\\R02_30_06_P07.pklclean'),\n",
       " ('rhizophagus',\n",
       "  '02',\n",
       "  '4',\n",
       "  'R02_30_06_P08.pklclean',\n",
       "  '../data\\\\rhizophagus\\\\02\\\\4\\\\R02_30_06_P08.pklclean'),\n",
       " ('rhizophagus',\n",
       "  '02',\n",
       "  '4',\n",
       "  'R02_30_06_P09.pklclean',\n",
       "  '../data\\\\rhizophagus\\\\02\\\\4\\\\R02_30_06_P09.pklclean'),\n",
       " ('rhizophagus',\n",
       "  '02',\n",
       "  '4',\n",
       "  'R02_30_06_P10.pklclean',\n",
       "  '../data\\\\rhizophagus\\\\02\\\\4\\\\R02_30_06_P10.pklclean'),\n",
       " ('rhizophagus',\n",
       "  '02',\n",
       "  '4',\n",
       "  'R02_30_06_P11.pklclean',\n",
       "  '../data\\\\rhizophagus\\\\02\\\\4\\\\R02_30_06_P11.pklclean'),\n",
       " ('rhizophagus',\n",
       "  '02',\n",
       "  '4',\n",
       "  'R02_30_06_P12.pklclean',\n",
       "  '../data\\\\rhizophagus\\\\02\\\\4\\\\R02_30_06_P12.pklclean'),\n",
       " ('rhizophagus',\n",
       "  '02',\n",
       "  '4',\n",
       "  'R02_30_06_P13.pklclean',\n",
       "  '../data\\\\rhizophagus\\\\02\\\\4\\\\R02_30_06_P13.pklclean'),\n",
       " ('rhizophagus',\n",
       "  '02',\n",
       "  '4',\n",
       "  'R02_30_06_P14.pklclean',\n",
       "  '../data\\\\rhizophagus\\\\02\\\\4\\\\R02_30_06_P14.pklclean'),\n",
       " ('rhizophagus',\n",
       "  '02',\n",
       "  '4',\n",
       "  'R02_30_06_P15.pklclean',\n",
       "  '../data\\\\rhizophagus\\\\02\\\\4\\\\R02_30_06_P15.pklclean'),\n",
       " ('rhizophagus',\n",
       "  '02',\n",
       "  '4',\n",
       "  'R02_30_06_P16.pklclean',\n",
       "  '../data\\\\rhizophagus\\\\02\\\\4\\\\R02_30_06_P16.pklclean'),\n",
       " ('rhizophagus',\n",
       "  '02',\n",
       "  '4',\n",
       "  'R02_30_06_P17.pklclean',\n",
       "  '../data\\\\rhizophagus\\\\02\\\\4\\\\R02_30_06_P17.pklclean'),\n",
       " ('rhizophagus',\n",
       "  '02',\n",
       "  '4',\n",
       "  'R02_30_06_P18.pklclean',\n",
       "  '../data\\\\rhizophagus\\\\02\\\\4\\\\R02_30_06_P18.pklclean'),\n",
       " ('rhizophagus',\n",
       "  '03',\n",
       "  '1',\n",
       "  'R03_16_06.pklclean',\n",
       "  '../data\\\\rhizophagus\\\\03\\\\1\\\\R03_16_06.pklclean'),\n",
       " ('rhizophagus',\n",
       "  '03',\n",
       "  '2',\n",
       "  'R03_23_06_P01.pklclean',\n",
       "  '../data\\\\rhizophagus\\\\03\\\\2\\\\R03_23_06_P01.pklclean'),\n",
       " ('rhizophagus',\n",
       "  '03',\n",
       "  '2',\n",
       "  'R03_23_06_P02.pklclean',\n",
       "  '../data\\\\rhizophagus\\\\03\\\\2\\\\R03_23_06_P02.pklclean'),\n",
       " ('rhizophagus',\n",
       "  '03',\n",
       "  '2',\n",
       "  'R03_23_06_P03.pklclean',\n",
       "  '../data\\\\rhizophagus\\\\03\\\\2\\\\R03_23_06_P03.pklclean'),\n",
       " ('rhizophagus',\n",
       "  '03',\n",
       "  '2',\n",
       "  'R03_23_06_P04.pklclean',\n",
       "  '../data\\\\rhizophagus\\\\03\\\\2\\\\R03_23_06_P04.pklclean'),\n",
       " ('rhizophagus',\n",
       "  '03',\n",
       "  '2',\n",
       "  'R03_23_06_P05.pklclean',\n",
       "  '../data\\\\rhizophagus\\\\03\\\\2\\\\R03_23_06_P05.pklclean'),\n",
       " ('rhizophagus',\n",
       "  '03',\n",
       "  '3',\n",
       "  'R03_30_06_P01.pklclean',\n",
       "  '../data\\\\rhizophagus\\\\03\\\\3\\\\R03_30_06_P01.pklclean'),\n",
       " ('rhizophagus',\n",
       "  '03',\n",
       "  '3',\n",
       "  'R03_30_06_P02.pklclean',\n",
       "  '../data\\\\rhizophagus\\\\03\\\\3\\\\R03_30_06_P02.pklclean'),\n",
       " ('rhizophagus',\n",
       "  '03',\n",
       "  '3',\n",
       "  'R03_30_06_P03.pklclean',\n",
       "  '../data\\\\rhizophagus\\\\03\\\\3\\\\R03_30_06_P03.pklclean'),\n",
       " ('rhizophagus',\n",
       "  '03',\n",
       "  '3',\n",
       "  'R03_30_06_P04.pklclean',\n",
       "  '../data\\\\rhizophagus\\\\03\\\\3\\\\R03_30_06_P04.pklclean'),\n",
       " ('rhizophagus',\n",
       "  '03',\n",
       "  '3',\n",
       "  'R03_30_06_P05.pklclean',\n",
       "  '../data\\\\rhizophagus\\\\03\\\\3\\\\R03_30_06_P05.pklclean'),\n",
       " ('rhizophagus',\n",
       "  '03',\n",
       "  '3',\n",
       "  'R03_30_06_P06.pklclean',\n",
       "  '../data\\\\rhizophagus\\\\03\\\\3\\\\R03_30_06_P06.pklclean'),\n",
       " ('rhizophagus',\n",
       "  '03',\n",
       "  '3',\n",
       "  'R03_30_06_P07.pklclean',\n",
       "  '../data\\\\rhizophagus\\\\03\\\\3\\\\R03_30_06_P07.pklclean'),\n",
       " ('rhizophagus',\n",
       "  '03',\n",
       "  '4',\n",
       "  'R03_07_07_P01.pklclean',\n",
       "  '../data\\\\rhizophagus\\\\03\\\\4\\\\R03_07_07_P01.pklclean'),\n",
       " ('rhizophagus',\n",
       "  '03',\n",
       "  '4',\n",
       "  'R03_07_07_P02.pklclean',\n",
       "  '../data\\\\rhizophagus\\\\03\\\\4\\\\R03_07_07_P02.pklclean'),\n",
       " ('rhizophagus',\n",
       "  '03',\n",
       "  '4',\n",
       "  'R03_07_07_P03.pklclean',\n",
       "  '../data\\\\rhizophagus\\\\03\\\\4\\\\R03_07_07_P03.pklclean'),\n",
       " ('rhizophagus',\n",
       "  '03',\n",
       "  '4',\n",
       "  'R03_07_07_P04.pklclean',\n",
       "  '../data\\\\rhizophagus\\\\03\\\\4\\\\R03_07_07_P04.pklclean'),\n",
       " ('rhizophagus',\n",
       "  '03',\n",
       "  '4',\n",
       "  'R03_07_07_P05.pklclean',\n",
       "  '../data\\\\rhizophagus\\\\03\\\\4\\\\R03_07_07_P05.pklclean'),\n",
       " ('rhizophagus',\n",
       "  '03',\n",
       "  '4',\n",
       "  'R03_07_07_P06.pklclean',\n",
       "  '../data\\\\rhizophagus\\\\03\\\\4\\\\R03_07_07_P06.pklclean'),\n",
       " ('rhizophagus',\n",
       "  '03',\n",
       "  '4',\n",
       "  'R03_07_07_P07.pklclean',\n",
       "  '../data\\\\rhizophagus\\\\03\\\\4\\\\R03_07_07_P07.pklclean'),\n",
       " ('rhizophagus',\n",
       "  '03',\n",
       "  '4',\n",
       "  'R03_07_07_P08.pklclean',\n",
       "  '../data\\\\rhizophagus\\\\03\\\\4\\\\R03_07_07_P08.pklclean'),\n",
       " ('rhizophagus',\n",
       "  '03',\n",
       "  '4',\n",
       "  'R03_07_07_P09.pklclean',\n",
       "  '../data\\\\rhizophagus\\\\03\\\\4\\\\R03_07_07_P09.pklclean'),\n",
       " ('rhizophagus',\n",
       "  '03',\n",
       "  '4',\n",
       "  'R03_07_07_P10.pklclean',\n",
       "  '../data\\\\rhizophagus\\\\03\\\\4\\\\R03_07_07_P10.pklclean'),\n",
       " ('rhizophagus',\n",
       "  '04',\n",
       "  '1',\n",
       "  'R04_30_06_P01.pklclean',\n",
       "  '../data\\\\rhizophagus\\\\04\\\\1\\\\R04_30_06_P01.pklclean'),\n",
       " ('rhizophagus',\n",
       "  '04',\n",
       "  '1',\n",
       "  'R04_30_06_P02.pklclean',\n",
       "  '../data\\\\rhizophagus\\\\04\\\\1\\\\R04_30_06_P02.pklclean'),\n",
       " ('rhizophagus',\n",
       "  '04',\n",
       "  '1',\n",
       "  'R04_30_06_P03.pklclean',\n",
       "  '../data\\\\rhizophagus\\\\04\\\\1\\\\R04_30_06_P03.pklclean'),\n",
       " ('rhizophagus',\n",
       "  '04',\n",
       "  '1',\n",
       "  'R04_30_06_P04.pklclean',\n",
       "  '../data\\\\rhizophagus\\\\04\\\\1\\\\R04_30_06_P04.pklclean'),\n",
       " ('rhizophagus',\n",
       "  '04',\n",
       "  '2',\n",
       "  'R04_07_07_P01.pklclean',\n",
       "  '../data\\\\rhizophagus\\\\04\\\\2\\\\R04_07_07_P01.pklclean'),\n",
       " ('rhizophagus',\n",
       "  '04',\n",
       "  '2',\n",
       "  'R04_07_07_P02.pklclean',\n",
       "  '../data\\\\rhizophagus\\\\04\\\\2\\\\R04_07_07_P02.pklclean'),\n",
       " ('rhizophagus',\n",
       "  '04',\n",
       "  '2',\n",
       "  'R04_07_07_P03.pklclean',\n",
       "  '../data\\\\rhizophagus\\\\04\\\\2\\\\R04_07_07_P03.pklclean'),\n",
       " ('rhizophagus',\n",
       "  '04',\n",
       "  '2',\n",
       "  'R04_07_07_P04.pklclean',\n",
       "  '../data\\\\rhizophagus\\\\04\\\\2\\\\R04_07_07_P04.pklclean'),\n",
       " ('rhizophagus',\n",
       "  '04',\n",
       "  '2',\n",
       "  'R04_07_07_P05.pklclean',\n",
       "  '../data\\\\rhizophagus\\\\04\\\\2\\\\R04_07_07_P05.pklclean'),\n",
       " ('rhizophagus',\n",
       "  '04',\n",
       "  '2',\n",
       "  'R04_07_07_P06.pklclean',\n",
       "  '../data\\\\rhizophagus\\\\04\\\\2\\\\R04_07_07_P06.pklclean'),\n",
       " ('rhizophagus',\n",
       "  '04',\n",
       "  '2',\n",
       "  'R04_07_07_P07.pklclean',\n",
       "  '../data\\\\rhizophagus\\\\04\\\\2\\\\R04_07_07_P07.pklclean'),\n",
       " ('rhizophagus',\n",
       "  '04',\n",
       "  '2',\n",
       "  'R04_07_07_P08.pklclean',\n",
       "  '../data\\\\rhizophagus\\\\04\\\\2\\\\R04_07_07_P08.pklclean'),\n",
       " ('rhizophagus',\n",
       "  '04',\n",
       "  '2',\n",
       "  'R04_07_07_P09.pklclean',\n",
       "  '../data\\\\rhizophagus\\\\04\\\\2\\\\R04_07_07_P09.pklclean'),\n",
       " ('rhizophagus',\n",
       "  '04',\n",
       "  '2',\n",
       "  'R04_07_07_P10.pklclean',\n",
       "  '../data\\\\rhizophagus\\\\04\\\\2\\\\R04_07_07_P10.pklclean'),\n",
       " ('rhizophagus',\n",
       "  '04',\n",
       "  '2',\n",
       "  'R04_07_07_P11.pklclean',\n",
       "  '../data\\\\rhizophagus\\\\04\\\\2\\\\R04_07_07_P11.pklclean'),\n",
       " ('rhizophagus',\n",
       "  '04',\n",
       "  '2',\n",
       "  'R04_07_07_P12.pklclean',\n",
       "  '../data\\\\rhizophagus\\\\04\\\\2\\\\R04_07_07_P12.pklclean'),\n",
       " ('rhizophagus',\n",
       "  '04',\n",
       "  '2',\n",
       "  'R04_07_07_P13.pklclean',\n",
       "  '../data\\\\rhizophagus\\\\04\\\\2\\\\R04_07_07_P13.pklclean'),\n",
       " ('rhizophagus',\n",
       "  '04',\n",
       "  '2',\n",
       "  'R04_07_07_P14.pklclean',\n",
       "  '../data\\\\rhizophagus\\\\04\\\\2\\\\R04_07_07_P14.pklclean'),\n",
       " ('rhizophagus',\n",
       "  '04',\n",
       "  '2',\n",
       "  'R04_07_07_P15.pklclean',\n",
       "  '../data\\\\rhizophagus\\\\04\\\\2\\\\R04_07_07_P15.pklclean'),\n",
       " ('rhizophagus',\n",
       "  '04',\n",
       "  '2',\n",
       "  'R04_07_07_P16.pklclean',\n",
       "  '../data\\\\rhizophagus\\\\04\\\\2\\\\R04_07_07_P16.pklclean'),\n",
       " ('rhizophagus',\n",
       "  '05',\n",
       "  '1',\n",
       "  'R05_07_07_P01.pklclean',\n",
       "  '../data\\\\rhizophagus\\\\05\\\\1\\\\R05_07_07_P01.pklclean'),\n",
       " ('rhizophagus',\n",
       "  '05',\n",
       "  '1',\n",
       "  'R05_07_07_P02.pklclean',\n",
       "  '../data\\\\rhizophagus\\\\05\\\\1\\\\R05_07_07_P02.pklclean'),\n",
       " ('rhizophagus',\n",
       "  '05',\n",
       "  '1',\n",
       "  'R05_07_07_P03.pklclean',\n",
       "  '../data\\\\rhizophagus\\\\05\\\\1\\\\R05_07_07_P03.pklclean'),\n",
       " ('rhizophagus',\n",
       "  '05',\n",
       "  '1',\n",
       "  'R05_07_07_P04.pklclean',\n",
       "  '../data\\\\rhizophagus\\\\05\\\\1\\\\R05_07_07_P04.pklclean'),\n",
       " ('rhizophagus',\n",
       "  '05',\n",
       "  '1',\n",
       "  'R05_07_07_P05.pklclean',\n",
       "  '../data\\\\rhizophagus\\\\05\\\\1\\\\R05_07_07_P05.pklclean'),\n",
       " ('rhizophagus',\n",
       "  '06',\n",
       "  '1',\n",
       "  'R06_16_06_P01.pklclean',\n",
       "  '../data\\\\rhizophagus\\\\06\\\\1\\\\R06_16_06_P01.pklclean'),\n",
       " ('rhizophagus',\n",
       "  '06',\n",
       "  '1',\n",
       "  'R06_16_06_P02.pklclean',\n",
       "  '../data\\\\rhizophagus\\\\06\\\\1\\\\R06_16_06_P02.pklclean'),\n",
       " ('rhizophagus',\n",
       "  '06',\n",
       "  '2',\n",
       "  'R06_23_06_P01.pklclean',\n",
       "  '../data\\\\rhizophagus\\\\06\\\\2\\\\R06_23_06_P01.pklclean'),\n",
       " ('rhizophagus',\n",
       "  '06',\n",
       "  '2',\n",
       "  'R06_23_06_P02.pklclean',\n",
       "  '../data\\\\rhizophagus\\\\06\\\\2\\\\R06_23_06_P02.pklclean'),\n",
       " ('rhizophagus',\n",
       "  '06',\n",
       "  '2',\n",
       "  'R06_23_06_P03.pklclean',\n",
       "  '../data\\\\rhizophagus\\\\06\\\\2\\\\R06_23_06_P03.pklclean'),\n",
       " ('rhizophagus',\n",
       "  '06',\n",
       "  '2',\n",
       "  'R06_23_06_P04.pklclean',\n",
       "  '../data\\\\rhizophagus\\\\06\\\\2\\\\R06_23_06_P04.pklclean'),\n",
       " ('rhizophagus',\n",
       "  '06',\n",
       "  '2',\n",
       "  'R06_23_06_P05.pklclean',\n",
       "  '../data\\\\rhizophagus\\\\06\\\\2\\\\R06_23_06_P05.pklclean'),\n",
       " ('rhizophagus',\n",
       "  '06',\n",
       "  '2',\n",
       "  'R06_23_06_P06.pklclean',\n",
       "  '../data\\\\rhizophagus\\\\06\\\\2\\\\R06_23_06_P06.pklclean'),\n",
       " ('rhizophagus',\n",
       "  '06',\n",
       "  '2',\n",
       "  'R06_23_06_P07.pklclean',\n",
       "  '../data\\\\rhizophagus\\\\06\\\\2\\\\R06_23_06_P07.pklclean'),\n",
       " ('rhizophagus',\n",
       "  '06',\n",
       "  '2',\n",
       "  'R06_23_06_P08.pklclean',\n",
       "  '../data\\\\rhizophagus\\\\06\\\\2\\\\R06_23_06_P08.pklclean'),\n",
       " ('rhizophagus',\n",
       "  '06',\n",
       "  '2',\n",
       "  'R06_23_06_P09.pklclean',\n",
       "  '../data\\\\rhizophagus\\\\06\\\\2\\\\R06_23_06_P09.pklclean'),\n",
       " ('rhizophagus',\n",
       "  '06',\n",
       "  '2',\n",
       "  'R06_23_06_P10.pklclean',\n",
       "  '../data\\\\rhizophagus\\\\06\\\\2\\\\R06_23_06_P10.pklclean'),\n",
       " ('rhizophagus',\n",
       "  '06',\n",
       "  '2',\n",
       "  'R06_23_06_P11.pklclean',\n",
       "  '../data\\\\rhizophagus\\\\06\\\\2\\\\R06_23_06_P11.pklclean'),\n",
       " ('rhizophagus',\n",
       "  '06',\n",
       "  '3',\n",
       "  'R06_30_06_P01.pklclean',\n",
       "  '../data\\\\rhizophagus\\\\06\\\\3\\\\R06_30_06_P01.pklclean'),\n",
       " ('rhizophagus',\n",
       "  '06',\n",
       "  '3',\n",
       "  'R06_30_06_P02.pklclean',\n",
       "  '../data\\\\rhizophagus\\\\06\\\\3\\\\R06_30_06_P02.pklclean'),\n",
       " ('rhizophagus',\n",
       "  '06',\n",
       "  '3',\n",
       "  'R06_30_06_P03.pklclean',\n",
       "  '../data\\\\rhizophagus\\\\06\\\\3\\\\R06_30_06_P03.pklclean'),\n",
       " ('rhizophagus',\n",
       "  '06',\n",
       "  '3',\n",
       "  'R06_30_06_P04.pklclean',\n",
       "  '../data\\\\rhizophagus\\\\06\\\\3\\\\R06_30_06_P04.pklclean'),\n",
       " ('rhizophagus',\n",
       "  '06',\n",
       "  '3',\n",
       "  'R06_30_06_P05.pklclean',\n",
       "  '../data\\\\rhizophagus\\\\06\\\\3\\\\R06_30_06_P05.pklclean'),\n",
       " ('rhizophagus',\n",
       "  '06',\n",
       "  '3',\n",
       "  'R06_30_06_P06.pklclean',\n",
       "  '../data\\\\rhizophagus\\\\06\\\\3\\\\R06_30_06_P06.pklclean'),\n",
       " ('rhizophagus',\n",
       "  '06',\n",
       "  '3',\n",
       "  'R06_30_06_P07.pklclean',\n",
       "  '../data\\\\rhizophagus\\\\06\\\\3\\\\R06_30_06_P07.pklclean'),\n",
       " ('rhizophagus',\n",
       "  '06',\n",
       "  '3',\n",
       "  'R06_30_06_P08.pklclean',\n",
       "  '../data\\\\rhizophagus\\\\06\\\\3\\\\R06_30_06_P08.pklclean'),\n",
       " ('rhizophagus',\n",
       "  '06',\n",
       "  '3',\n",
       "  'R06_30_06_P09.pklclean',\n",
       "  '../data\\\\rhizophagus\\\\06\\\\3\\\\R06_30_06_P09.pklclean'),\n",
       " ('rhizophagus',\n",
       "  '06',\n",
       "  '3',\n",
       "  'R06_30_06_P10.pklclean',\n",
       "  '../data\\\\rhizophagus\\\\06\\\\3\\\\R06_30_06_P10.pklclean'),\n",
       " ('rhizophagus',\n",
       "  '06',\n",
       "  '3',\n",
       "  'R06_30_06_P11.pklclean',\n",
       "  '../data\\\\rhizophagus\\\\06\\\\3\\\\R06_30_06_P11.pklclean'),\n",
       " ('rhizophagus',\n",
       "  '06',\n",
       "  '3',\n",
       "  'R06_30_06_P12.pklclean',\n",
       "  '../data\\\\rhizophagus\\\\06\\\\3\\\\R06_30_06_P12.pklclean'),\n",
       " ('rhizophagus',\n",
       "  '06',\n",
       "  '3',\n",
       "  'R06_30_06_P13.pklclean',\n",
       "  '../data\\\\rhizophagus\\\\06\\\\3\\\\R06_30_06_P13.pklclean'),\n",
       " ('rhizophagus',\n",
       "  '06',\n",
       "  '3',\n",
       "  'R06_30_06_P14.pklclean',\n",
       "  '../data\\\\rhizophagus\\\\06\\\\3\\\\R06_30_06_P14.pklclean'),\n",
       " ('rhizophagus',\n",
       "  '06',\n",
       "  '3',\n",
       "  'R06_30_06_P15.pklclean',\n",
       "  '../data\\\\rhizophagus\\\\06\\\\3\\\\R06_30_06_P15.pklclean'),\n",
       " ('rhizophagus',\n",
       "  '06',\n",
       "  '3',\n",
       "  'R06_30_06_P16.pklclean',\n",
       "  '../data\\\\rhizophagus\\\\06\\\\3\\\\R06_30_06_P16.pklclean'),\n",
       " ('rhizophagus',\n",
       "  '06',\n",
       "  '3',\n",
       "  'R06_30_06_P17.pklclean',\n",
       "  '../data\\\\rhizophagus\\\\06\\\\3\\\\R06_30_06_P17.pklclean'),\n",
       " ('rhizophagus',\n",
       "  '06',\n",
       "  '3',\n",
       "  'R06_30_06_P18.pklclean',\n",
       "  '../data\\\\rhizophagus\\\\06\\\\3\\\\R06_30_06_P18.pklclean'),\n",
       " ('rhizophagus',\n",
       "  '06',\n",
       "  '3',\n",
       "  'R06_30_06_P19.pklclean',\n",
       "  '../data\\\\rhizophagus\\\\06\\\\3\\\\R06_30_06_P19.pklclean'),\n",
       " ('rhizophagus',\n",
       "  '06',\n",
       "  '3',\n",
       "  'R06_30_06_P20.pklclean',\n",
       "  '../data\\\\rhizophagus\\\\06\\\\3\\\\R06_30_06_P20.pklclean'),\n",
       " ('rhizophagus',\n",
       "  '06',\n",
       "  '4',\n",
       "  'R06_07_07_P01.pklclean',\n",
       "  '../data\\\\rhizophagus\\\\06\\\\4\\\\R06_07_07_P01.pklclean'),\n",
       " ('rhizophagus',\n",
       "  '06',\n",
       "  '4',\n",
       "  'R06_07_07_P02.pklclean',\n",
       "  '../data\\\\rhizophagus\\\\06\\\\4\\\\R06_07_07_P02.pklclean'),\n",
       " ('rhizophagus',\n",
       "  '06',\n",
       "  '4',\n",
       "  'R06_07_07_P03.pklclean',\n",
       "  '../data\\\\rhizophagus\\\\06\\\\4\\\\R06_07_07_P03.pklclean'),\n",
       " ('rhizophagus',\n",
       "  '06',\n",
       "  '4',\n",
       "  'R06_07_07_P04.pklclean',\n",
       "  '../data\\\\rhizophagus\\\\06\\\\4\\\\R06_07_07_P04.pklclean'),\n",
       " ('rhizophagus',\n",
       "  '06',\n",
       "  '4',\n",
       "  'R06_07_07_P05.pklclean',\n",
       "  '../data\\\\rhizophagus\\\\06\\\\4\\\\R06_07_07_P05.pklclean'),\n",
       " ('rhizophagus',\n",
       "  '06',\n",
       "  '4',\n",
       "  'R06_07_07_P06.pklclean',\n",
       "  '../data\\\\rhizophagus\\\\06\\\\4\\\\R06_07_07_P06.pklclean'),\n",
       " ('rhizophagus',\n",
       "  '06',\n",
       "  '4',\n",
       "  'R06_07_07_P07.pklclean',\n",
       "  '../data\\\\rhizophagus\\\\06\\\\4\\\\R06_07_07_P07.pklclean'),\n",
       " ('rhizophagus',\n",
       "  '06',\n",
       "  '4',\n",
       "  'R06_07_07_P08.pklclean',\n",
       "  '../data\\\\rhizophagus\\\\06\\\\4\\\\R06_07_07_P08.pklclean'),\n",
       " ('rhizophagus',\n",
       "  '06',\n",
       "  '4',\n",
       "  'R06_07_07_P09.pklclean',\n",
       "  '../data\\\\rhizophagus\\\\06\\\\4\\\\R06_07_07_P09.pklclean'),\n",
       " ('rhizophagus',\n",
       "  '06',\n",
       "  '4',\n",
       "  'R06_07_07_P10.pklclean',\n",
       "  '../data\\\\rhizophagus\\\\06\\\\4\\\\R06_07_07_P10.pklclean'),\n",
       " ('rhizophagus',\n",
       "  '06',\n",
       "  '4',\n",
       "  'R06_07_07_P11.pklclean',\n",
       "  '../data\\\\rhizophagus\\\\06\\\\4\\\\R06_07_07_P11.pklclean'),\n",
       " ('rhizophagus',\n",
       "  '06',\n",
       "  '4',\n",
       "  'R06_07_07_P12.pklclean',\n",
       "  '../data\\\\rhizophagus\\\\06\\\\4\\\\R06_07_07_P12.pklclean'),\n",
       " ('rhizophagus',\n",
       "  '06',\n",
       "  '4',\n",
       "  'R06_07_07_P13.pklclean',\n",
       "  '../data\\\\rhizophagus\\\\06\\\\4\\\\R06_07_07_P13.pklclean'),\n",
       " ('rhizophagus',\n",
       "  '06',\n",
       "  '4',\n",
       "  'R06_07_07_P14.pklclean',\n",
       "  '../data\\\\rhizophagus\\\\06\\\\4\\\\R06_07_07_P14.pklclean'),\n",
       " ('rhizophagus',\n",
       "  '06',\n",
       "  '4',\n",
       "  'R06_07_07_P15.pklclean',\n",
       "  '../data\\\\rhizophagus\\\\06\\\\4\\\\R06_07_07_P15.pklclean'),\n",
       " ('rhizophagus',\n",
       "  '06',\n",
       "  '4',\n",
       "  'R06_07_07_P16.pklclean',\n",
       "  '../data\\\\rhizophagus\\\\06\\\\4\\\\R06_07_07_P16.pklclean'),\n",
       " ('rhizophagus',\n",
       "  '06',\n",
       "  '4',\n",
       "  'R06_07_07_P17.pklclean',\n",
       "  '../data\\\\rhizophagus\\\\06\\\\4\\\\R06_07_07_P17.pklclean'),\n",
       " ('rhizophagus',\n",
       "  '06',\n",
       "  '4',\n",
       "  'R06_07_07_P18.pklclean',\n",
       "  '../data\\\\rhizophagus\\\\06\\\\4\\\\R06_07_07_P18.pklclean'),\n",
       " ('rhizophagus',\n",
       "  '06',\n",
       "  '4',\n",
       "  'R06_07_07_P19.pklclean',\n",
       "  '../data\\\\rhizophagus\\\\06\\\\4\\\\R06_07_07_P19.pklclean'),\n",
       " ('rhizophagus',\n",
       "  '08',\n",
       "  '1',\n",
       "  'R08_10_06_P01.pklclean',\n",
       "  '../data\\\\rhizophagus\\\\08\\\\1\\\\R08_10_06_P01.pklclean'),\n",
       " ('rhizophagus',\n",
       "  '08',\n",
       "  '1',\n",
       "  'R08_10_06_P02.pklclean',\n",
       "  '../data\\\\rhizophagus\\\\08\\\\1\\\\R08_10_06_P02.pklclean'),\n",
       " ('rhizophagus',\n",
       "  '08',\n",
       "  '2',\n",
       "  'R08_16_06_P01.pklclean',\n",
       "  '../data\\\\rhizophagus\\\\08\\\\2\\\\R08_16_06_P01.pklclean'),\n",
       " ('rhizophagus',\n",
       "  '08',\n",
       "  '2',\n",
       "  'R08_16_06_P02.pklclean',\n",
       "  '../data\\\\rhizophagus\\\\08\\\\2\\\\R08_16_06_P02.pklclean'),\n",
       " ('rhizophagus',\n",
       "  '08',\n",
       "  '2',\n",
       "  'R08_16_06_P03.pklclean',\n",
       "  '../data\\\\rhizophagus\\\\08\\\\2\\\\R08_16_06_P03.pklclean'),\n",
       " ('rhizophagus',\n",
       "  '08',\n",
       "  '2',\n",
       "  'R08_16_06_P04.pklclean',\n",
       "  '../data\\\\rhizophagus\\\\08\\\\2\\\\R08_16_06_P04.pklclean'),\n",
       " ('rhizophagus',\n",
       "  '08',\n",
       "  '2',\n",
       "  'R08_16_06_P05.pklclean',\n",
       "  '../data\\\\rhizophagus\\\\08\\\\2\\\\R08_16_06_P05.pklclean'),\n",
       " ('rhizophagus',\n",
       "  '08',\n",
       "  '2',\n",
       "  'R08_16_06_P06.pklclean',\n",
       "  '../data\\\\rhizophagus\\\\08\\\\2\\\\R08_16_06_P06.pklclean'),\n",
       " ('rhizophagus',\n",
       "  '08',\n",
       "  '2',\n",
       "  'R08_16_06_P07.pklclean',\n",
       "  '../data\\\\rhizophagus\\\\08\\\\2\\\\R08_16_06_P07.pklclean'),\n",
       " ('rhizophagus',\n",
       "  '08',\n",
       "  '2',\n",
       "  'R08_16_06_P08.pklclean',\n",
       "  '../data\\\\rhizophagus\\\\08\\\\2\\\\R08_16_06_P08.pklclean'),\n",
       " ('rhizophagus',\n",
       "  '08',\n",
       "  '2',\n",
       "  'R08_16_06_P09.pklclean',\n",
       "  '../data\\\\rhizophagus\\\\08\\\\2\\\\R08_16_06_P09.pklclean'),\n",
       " ('rhizophagus',\n",
       "  '08',\n",
       "  '2',\n",
       "  'R08_16_06_P10.pklclean',\n",
       "  '../data\\\\rhizophagus\\\\08\\\\2\\\\R08_16_06_P10.pklclean'),\n",
       " ('rhizophagus',\n",
       "  '08',\n",
       "  '2',\n",
       "  'R08_16_06_P11.pklclean',\n",
       "  '../data\\\\rhizophagus\\\\08\\\\2\\\\R08_16_06_P11.pklclean'),\n",
       " ('rhizophagus',\n",
       "  '08',\n",
       "  '2',\n",
       "  'R08_16_06_P12.pklclean',\n",
       "  '../data\\\\rhizophagus\\\\08\\\\2\\\\R08_16_06_P12.pklclean'),\n",
       " ('rhizophagus',\n",
       "  '08',\n",
       "  '2',\n",
       "  'R08_16_06_P13.pklclean',\n",
       "  '../data\\\\rhizophagus\\\\08\\\\2\\\\R08_16_06_P13.pklclean'),\n",
       " ('rhizophagus',\n",
       "  '08',\n",
       "  '3',\n",
       "  'R08_23_06_P01.pklclean',\n",
       "  '../data\\\\rhizophagus\\\\08\\\\3\\\\R08_23_06_P01.pklclean'),\n",
       " ('rhizophagus',\n",
       "  '08',\n",
       "  '3',\n",
       "  'R08_23_06_P02.pklclean',\n",
       "  '../data\\\\rhizophagus\\\\08\\\\3\\\\R08_23_06_P02.pklclean'),\n",
       " ('rhizophagus',\n",
       "  '08',\n",
       "  '3',\n",
       "  'R08_23_06_P03.pklclean',\n",
       "  '../data\\\\rhizophagus\\\\08\\\\3\\\\R08_23_06_P03.pklclean'),\n",
       " ('rhizophagus',\n",
       "  '08',\n",
       "  '3',\n",
       "  'R08_23_06_P04.pklclean',\n",
       "  '../data\\\\rhizophagus\\\\08\\\\3\\\\R08_23_06_P04.pklclean'),\n",
       " ('rhizophagus',\n",
       "  '08',\n",
       "  '3',\n",
       "  'R08_23_06_P05.pklclean',\n",
       "  '../data\\\\rhizophagus\\\\08\\\\3\\\\R08_23_06_P05.pklclean'),\n",
       " ('rhizophagus',\n",
       "  '08',\n",
       "  '3',\n",
       "  'R08_23_06_P06.pklclean',\n",
       "  '../data\\\\rhizophagus\\\\08\\\\3\\\\R08_23_06_P06.pklclean'),\n",
       " ('rhizophagus',\n",
       "  '08',\n",
       "  '3',\n",
       "  'R08_23_06_P07.pklclean',\n",
       "  '../data\\\\rhizophagus\\\\08\\\\3\\\\R08_23_06_P07.pklclean'),\n",
       " ('rhizophagus',\n",
       "  '08',\n",
       "  '3',\n",
       "  'R08_23_06_P08.pklclean',\n",
       "  '../data\\\\rhizophagus\\\\08\\\\3\\\\R08_23_06_P08.pklclean'),\n",
       " ('rhizophagus',\n",
       "  '08',\n",
       "  '3',\n",
       "  'R08_23_06_P09.pklclean',\n",
       "  '../data\\\\rhizophagus\\\\08\\\\3\\\\R08_23_06_P09.pklclean'),\n",
       " ('rhizophagus',\n",
       "  '08',\n",
       "  '3',\n",
       "  'R08_23_06_P10.pklclean',\n",
       "  '../data\\\\rhizophagus\\\\08\\\\3\\\\R08_23_06_P10.pklclean'),\n",
       " ('rhizophagus',\n",
       "  '08',\n",
       "  '3',\n",
       "  'R08_23_06_P11.pklclean',\n",
       "  '../data\\\\rhizophagus\\\\08\\\\3\\\\R08_23_06_P11.pklclean'),\n",
       " ('rhizophagus',\n",
       "  '08',\n",
       "  '3',\n",
       "  'R08_23_06_P12.pklclean',\n",
       "  '../data\\\\rhizophagus\\\\08\\\\3\\\\R08_23_06_P12.pklclean'),\n",
       " ('rhizophagus',\n",
       "  '08',\n",
       "  '3',\n",
       "  'R08_23_06_P13.pklclean',\n",
       "  '../data\\\\rhizophagus\\\\08\\\\3\\\\R08_23_06_P13.pklclean'),\n",
       " ('rhizophagus',\n",
       "  '08',\n",
       "  '3',\n",
       "  'R08_23_06_P14.pklclean',\n",
       "  '../data\\\\rhizophagus\\\\08\\\\3\\\\R08_23_06_P14.pklclean'),\n",
       " ('rhizophagus',\n",
       "  '08',\n",
       "  '3',\n",
       "  'R08_23_06_P15.pklclean',\n",
       "  '../data\\\\rhizophagus\\\\08\\\\3\\\\R08_23_06_P15.pklclean'),\n",
       " ('rhizophagus',\n",
       "  '08',\n",
       "  '3',\n",
       "  'R08_23_06_P16.pklclean',\n",
       "  '../data\\\\rhizophagus\\\\08\\\\3\\\\R08_23_06_P16.pklclean'),\n",
       " ('rhizophagus',\n",
       "  '09',\n",
       "  '1',\n",
       "  'R09_30_06_P01.pklclean',\n",
       "  '../data\\\\rhizophagus\\\\09\\\\1\\\\R09_30_06_P01.pklclean'),\n",
       " ('rhizophagus',\n",
       "  '09',\n",
       "  '2',\n",
       "  'R09_07_07_P01.pklclean',\n",
       "  '../data\\\\rhizophagus\\\\09\\\\2\\\\R09_07_07_P01.pklclean'),\n",
       " ('rhizophagus',\n",
       "  '09',\n",
       "  '2',\n",
       "  'R09_07_07_P02.pklclean',\n",
       "  '../data\\\\rhizophagus\\\\09\\\\2\\\\R09_07_07_P02.pklclean'),\n",
       " ('rhizophagus',\n",
       "  '09',\n",
       "  '2',\n",
       "  'R09_07_07_P03.pklclean',\n",
       "  '../data\\\\rhizophagus\\\\09\\\\2\\\\R09_07_07_P03.pklclean'),\n",
       " ('rhizophagus',\n",
       "  '11',\n",
       "  '1',\n",
       "  'R11_23_06_P01.pklclean',\n",
       "  '../data\\\\rhizophagus\\\\11\\\\1\\\\R11_23_06_P01.pklclean'),\n",
       " ('rhizophagus',\n",
       "  '11',\n",
       "  '1',\n",
       "  'R11_23_06_P02.pklclean',\n",
       "  '../data\\\\rhizophagus\\\\11\\\\1\\\\R11_23_06_P02.pklclean'),\n",
       " ('rhizophagus',\n",
       "  '12',\n",
       "  '1',\n",
       "  'R12_28_05_P01.pklclean',\n",
       "  '../data\\\\rhizophagus\\\\12\\\\1\\\\R12_28_05_P01.pklclean'),\n",
       " ('rhizophagus',\n",
       "  '12',\n",
       "  '1',\n",
       "  'R12_28_05_P02.pklclean',\n",
       "  '../data\\\\rhizophagus\\\\12\\\\1\\\\R12_28_05_P02.pklclean'),\n",
       " ('rhizophagus',\n",
       "  '12',\n",
       "  '1',\n",
       "  'R12_28_05_P04.pklclean',\n",
       "  '../data\\\\rhizophagus\\\\12\\\\1\\\\R12_28_05_P04.pklclean'),\n",
       " ('rhizophagus',\n",
       "  '12',\n",
       "  '1',\n",
       "  'R12_28_05_P05.pklclean',\n",
       "  '../data\\\\rhizophagus\\\\12\\\\1\\\\R12_28_05_P05.pklclean'),\n",
       " ('rhizophagus',\n",
       "  '12',\n",
       "  '2',\n",
       "  'R12_10_06_P01.pklclean',\n",
       "  '../data\\\\rhizophagus\\\\12\\\\2\\\\R12_10_06_P01.pklclean'),\n",
       " ('rhizophagus',\n",
       "  '12',\n",
       "  '2',\n",
       "  'R12_10_06_P02.pklclean',\n",
       "  '../data\\\\rhizophagus\\\\12\\\\2\\\\R12_10_06_P02.pklclean'),\n",
       " ('rhizophagus',\n",
       "  '12',\n",
       "  '2',\n",
       "  'R12_10_06_P03.pklclean',\n",
       "  '../data\\\\rhizophagus\\\\12\\\\2\\\\R12_10_06_P03.pklclean'),\n",
       " ('rhizophagus',\n",
       "  '12',\n",
       "  '2',\n",
       "  'R12_10_06_P04.pklclean',\n",
       "  '../data\\\\rhizophagus\\\\12\\\\2\\\\R12_10_06_P04.pklclean'),\n",
       " ('rhizophagus',\n",
       "  '12',\n",
       "  '2',\n",
       "  'R12_10_06_P05.pklclean',\n",
       "  '../data\\\\rhizophagus\\\\12\\\\2\\\\R12_10_06_P05.pklclean'),\n",
       " ('rhizophagus',\n",
       "  '12',\n",
       "  '2',\n",
       "  'R12_10_06_P06.pklclean',\n",
       "  '../data\\\\rhizophagus\\\\12\\\\2\\\\R12_10_06_P06.pklclean'),\n",
       " ('rhizophagus',\n",
       "  '12',\n",
       "  '2',\n",
       "  'R12_10_06_P07.pklclean',\n",
       "  '../data\\\\rhizophagus\\\\12\\\\2\\\\R12_10_06_P07.pklclean'),\n",
       " ('rhizophagus',\n",
       "  '12',\n",
       "  '2',\n",
       "  'R12_10_06_P08.pklclean',\n",
       "  '../data\\\\rhizophagus\\\\12\\\\2\\\\R12_10_06_P08.pklclean'),\n",
       " ('rhizophagus',\n",
       "  '12',\n",
       "  '2',\n",
       "  'R12_10_06_P09.pklclean',\n",
       "  '../data\\\\rhizophagus\\\\12\\\\2\\\\R12_10_06_P09.pklclean'),\n",
       " ('rhizophagus',\n",
       "  '12',\n",
       "  '2',\n",
       "  'R12_10_06_P10.pklclean',\n",
       "  '../data\\\\rhizophagus\\\\12\\\\2\\\\R12_10_06_P10.pklclean'),\n",
       " ('rhizophagus',\n",
       "  '12',\n",
       "  '3',\n",
       "  'R12_16_06_P01.pklclean',\n",
       "  '../data\\\\rhizophagus\\\\12\\\\3\\\\R12_16_06_P01.pklclean'),\n",
       " ('rhizophagus',\n",
       "  '12',\n",
       "  '3',\n",
       "  'R12_16_06_P02.pklclean',\n",
       "  '../data\\\\rhizophagus\\\\12\\\\3\\\\R12_16_06_P02.pklclean'),\n",
       " ('rhizophagus',\n",
       "  '12',\n",
       "  '3',\n",
       "  'R12_16_06_P03.pklclean',\n",
       "  '../data\\\\rhizophagus\\\\12\\\\3\\\\R12_16_06_P03.pklclean'),\n",
       " ('rhizophagus',\n",
       "  '12',\n",
       "  '3',\n",
       "  'R12_16_06_P04.pklclean',\n",
       "  '../data\\\\rhizophagus\\\\12\\\\3\\\\R12_16_06_P04.pklclean'),\n",
       " ('rhizophagus',\n",
       "  '12',\n",
       "  '3',\n",
       "  'R12_16_06_P05.pklclean',\n",
       "  '../data\\\\rhizophagus\\\\12\\\\3\\\\R12_16_06_P05.pklclean'),\n",
       " ('rhizophagus',\n",
       "  '12',\n",
       "  '3',\n",
       "  'R12_16_06_P06.pklclean',\n",
       "  '../data\\\\rhizophagus\\\\12\\\\3\\\\R12_16_06_P06.pklclean'),\n",
       " ('rhizophagus',\n",
       "  '12',\n",
       "  '3',\n",
       "  'R12_16_06_P07.pklclean',\n",
       "  '../data\\\\rhizophagus\\\\12\\\\3\\\\R12_16_06_P07.pklclean'),\n",
       " ('rhizophagus',\n",
       "  '12',\n",
       "  '3',\n",
       "  'R12_16_06_P08.pklclean',\n",
       "  '../data\\\\rhizophagus\\\\12\\\\3\\\\R12_16_06_P08.pklclean'),\n",
       " ('rhizophagus',\n",
       "  '12',\n",
       "  '3',\n",
       "  'R12_16_06_P09.pklclean',\n",
       "  '../data\\\\rhizophagus\\\\12\\\\3\\\\R12_16_06_P09.pklclean'),\n",
       " ('rhizophagus',\n",
       "  '12',\n",
       "  '3',\n",
       "  'R12_16_06_P10.pklclean',\n",
       "  '../data\\\\rhizophagus\\\\12\\\\3\\\\R12_16_06_P10.pklclean'),\n",
       " ('rhizophagus',\n",
       "  '12',\n",
       "  '3',\n",
       "  'R12_16_06_P11.pklclean',\n",
       "  '../data\\\\rhizophagus\\\\12\\\\3\\\\R12_16_06_P11.pklclean'),\n",
       " ('rhizophagus',\n",
       "  '12',\n",
       "  '3',\n",
       "  'R12_16_06_P12.pklclean',\n",
       "  '../data\\\\rhizophagus\\\\12\\\\3\\\\R12_16_06_P12.pklclean'),\n",
       " ('rhizophagus',\n",
       "  '12',\n",
       "  '3',\n",
       "  'R12_16_06_P13.pklclean',\n",
       "  '../data\\\\rhizophagus\\\\12\\\\3\\\\R12_16_06_P13.pklclean'),\n",
       " ('rhizophagus',\n",
       "  '12',\n",
       "  '3',\n",
       "  'R12_16_06_P14.pklclean',\n",
       "  '../data\\\\rhizophagus\\\\12\\\\3\\\\R12_16_06_P14.pklclean'),\n",
       " ('rhizophagus',\n",
       "  '12',\n",
       "  '3',\n",
       "  'R12_16_06_P15.pklclean',\n",
       "  '../data\\\\rhizophagus\\\\12\\\\3\\\\R12_16_06_P15.pklclean'),\n",
       " ('rhizophagus',\n",
       "  '12',\n",
       "  '3',\n",
       "  'R12_16_06_P16.pklclean',\n",
       "  '../data\\\\rhizophagus\\\\12\\\\3\\\\R12_16_06_P16.pklclean'),\n",
       " ('rhizophagus',\n",
       "  '12',\n",
       "  '3',\n",
       "  'R12_16_06_P17.pklclean',\n",
       "  '../data\\\\rhizophagus\\\\12\\\\3\\\\R12_16_06_P17.pklclean'),\n",
       " ('rhizophagus',\n",
       "  '12',\n",
       "  '3',\n",
       "  'R12_16_06_P18.pklclean',\n",
       "  '../data\\\\rhizophagus\\\\12\\\\3\\\\R12_16_06_P18.pklclean'),\n",
       " ('rhizophagus',\n",
       "  '12',\n",
       "  '3',\n",
       "  'R12_16_06_P19.pklclean',\n",
       "  '../data\\\\rhizophagus\\\\12\\\\3\\\\R12_16_06_P19.pklclean'),\n",
       " ('rhizophagus',\n",
       "  '12',\n",
       "  '3',\n",
       "  'R12_16_06_P20.pklclean',\n",
       "  '../data\\\\rhizophagus\\\\12\\\\3\\\\R12_16_06_P20.pklclean'),\n",
       " ('rhizophagus',\n",
       "  '12',\n",
       "  '3',\n",
       "  'R12_16_06_P21.pklclean',\n",
       "  '../data\\\\rhizophagus\\\\12\\\\3\\\\R12_16_06_P21.pklclean'),\n",
       " ('rhizophagus',\n",
       "  '12',\n",
       "  '3',\n",
       "  'R12_16_06_P22.pklclean',\n",
       "  '../data\\\\rhizophagus\\\\12\\\\3\\\\R12_16_06_P22.pklclean'),\n",
       " ('rhizophagus',\n",
       "  '12',\n",
       "  '3',\n",
       "  'R12_16_06_P23.pklclean',\n",
       "  '../data\\\\rhizophagus\\\\12\\\\3\\\\R12_16_06_P23.pklclean'),\n",
       " ('rhizophagus',\n",
       "  '12',\n",
       "  '4',\n",
       "  'R12_23_06_P01.pklclean',\n",
       "  '../data\\\\rhizophagus\\\\12\\\\4\\\\R12_23_06_P01.pklclean'),\n",
       " ('rhizophagus',\n",
       "  '12',\n",
       "  '4',\n",
       "  'R12_23_06_P02.pklclean',\n",
       "  '../data\\\\rhizophagus\\\\12\\\\4\\\\R12_23_06_P02.pklclean'),\n",
       " ('rhizophagus',\n",
       "  '12',\n",
       "  '4',\n",
       "  'R12_23_06_P03.pklclean',\n",
       "  '../data\\\\rhizophagus\\\\12\\\\4\\\\R12_23_06_P03.pklclean'),\n",
       " ('rhizophagus',\n",
       "  '12',\n",
       "  '4',\n",
       "  'R12_23_06_P04.pklclean',\n",
       "  '../data\\\\rhizophagus\\\\12\\\\4\\\\R12_23_06_P04.pklclean'),\n",
       " ('rhizophagus',\n",
       "  '12',\n",
       "  '4',\n",
       "  'R12_23_06_P05.pklclean',\n",
       "  '../data\\\\rhizophagus\\\\12\\\\4\\\\R12_23_06_P05.pklclean'),\n",
       " ('rhizophagus',\n",
       "  '12',\n",
       "  '4',\n",
       "  'R12_23_06_P06.pklclean',\n",
       "  '../data\\\\rhizophagus\\\\12\\\\4\\\\R12_23_06_P06.pklclean'),\n",
       " ('rhizophagus',\n",
       "  '12',\n",
       "  '4',\n",
       "  'R12_23_06_P07.pklclean',\n",
       "  '../data\\\\rhizophagus\\\\12\\\\4\\\\R12_23_06_P07.pklclean'),\n",
       " ('rhizophagus',\n",
       "  '12',\n",
       "  '4',\n",
       "  'R12_23_06_P08.pklclean',\n",
       "  '../data\\\\rhizophagus\\\\12\\\\4\\\\R12_23_06_P08.pklclean'),\n",
       " ('rhizophagus',\n",
       "  '12',\n",
       "  '4',\n",
       "  'R12_23_06_P09.pklclean',\n",
       "  '../data\\\\rhizophagus\\\\12\\\\4\\\\R12_23_06_P09.pklclean'),\n",
       " ('rhizophagus',\n",
       "  '12',\n",
       "  '4',\n",
       "  'R12_23_06_P10.pklclean',\n",
       "  '../data\\\\rhizophagus\\\\12\\\\4\\\\R12_23_06_P10.pklclean'),\n",
       " ('rhizophagus',\n",
       "  '12',\n",
       "  '4',\n",
       "  'R12_23_06_P11.pklclean',\n",
       "  '../data\\\\rhizophagus\\\\12\\\\4\\\\R12_23_06_P11.pklclean'),\n",
       " ('rhizophagus',\n",
       "  '12',\n",
       "  '4',\n",
       "  'R12_23_06_P12.pklclean',\n",
       "  '../data\\\\rhizophagus\\\\12\\\\4\\\\R12_23_06_P12.pklclean'),\n",
       " ('rhizophagus',\n",
       "  '12',\n",
       "  '4',\n",
       "  'R12_23_06_P13.pklclean',\n",
       "  '../data\\\\rhizophagus\\\\12\\\\4\\\\R12_23_06_P13.pklclean'),\n",
       " ('rhizophagus',\n",
       "  '12',\n",
       "  '4',\n",
       "  'R12_23_06_P14.pklclean',\n",
       "  '../data\\\\rhizophagus\\\\12\\\\4\\\\R12_23_06_P14.pklclean'),\n",
       " ('rhizophagus',\n",
       "  '12',\n",
       "  '4',\n",
       "  'R12_23_06_P15.pklclean',\n",
       "  '../data\\\\rhizophagus\\\\12\\\\4\\\\R12_23_06_P15.pklclean'),\n",
       " ('rhizophagus',\n",
       "  '12',\n",
       "  '4',\n",
       "  'R12_23_06_P16.pklclean',\n",
       "  '../data\\\\rhizophagus\\\\12\\\\4\\\\R12_23_06_P16.pklclean'),\n",
       " ('rhizophagus',\n",
       "  '12',\n",
       "  '4',\n",
       "  'R12_23_06_P17.pklclean',\n",
       "  '../data\\\\rhizophagus\\\\12\\\\4\\\\R12_23_06_P17.pklclean'),\n",
       " ('rhizophagus',\n",
       "  '12',\n",
       "  '4',\n",
       "  'R12_23_06_P18.pklclean',\n",
       "  '../data\\\\rhizophagus\\\\12\\\\4\\\\R12_23_06_P18.pklclean'),\n",
       " ('rhizophagus',\n",
       "  '12',\n",
       "  '4',\n",
       "  'R12_23_06_P19.pklclean',\n",
       "  '../data\\\\rhizophagus\\\\12\\\\4\\\\R12_23_06_P19.pklclean'),\n",
       " ('rhizophagus',\n",
       "  '12',\n",
       "  '4',\n",
       "  'R12_23_06_P20.pklclean',\n",
       "  '../data\\\\rhizophagus\\\\12\\\\4\\\\R12_23_06_P20.pklclean'),\n",
       " ('rhizophagus',\n",
       "  '12',\n",
       "  '4',\n",
       "  'R12_23_06_P21.pklclean',\n",
       "  '../data\\\\rhizophagus\\\\12\\\\4\\\\R12_23_06_P21.pklclean'),\n",
       " ('rhizophagus',\n",
       "  '12',\n",
       "  '4',\n",
       "  'R12_23_06_P22.pklclean',\n",
       "  '../data\\\\rhizophagus\\\\12\\\\4\\\\R12_23_06_P22.pklclean'),\n",
       " ('rhizophagus',\n",
       "  '25',\n",
       "  '1',\n",
       "  'R25_23_06_P01.pklclean',\n",
       "  '../data\\\\rhizophagus\\\\25\\\\1\\\\R25_23_06_P01.pklclean'),\n",
       " ('rhizophagus',\n",
       "  '25',\n",
       "  '1',\n",
       "  'R25_23_06_P02.pklclean',\n",
       "  '../data\\\\rhizophagus\\\\25\\\\1\\\\R25_23_06_P02.pklclean'),\n",
       " ('rhizophagus',\n",
       "  '25',\n",
       "  '1',\n",
       "  'R25_23_06_P03.pklclean',\n",
       "  '../data\\\\rhizophagus\\\\25\\\\1\\\\R25_23_06_P03.pklclean'),\n",
       " ('rhizophagus',\n",
       "  '25',\n",
       "  '1',\n",
       "  'R25_23_06_P04.pklclean',\n",
       "  '../data\\\\rhizophagus\\\\25\\\\1\\\\R25_23_06_P04.pklclean'),\n",
       " ('rhizophagus',\n",
       "  '25',\n",
       "  '1',\n",
       "  'R25_23_06_P05.pklclean',\n",
       "  '../data\\\\rhizophagus\\\\25\\\\1\\\\R25_23_06_P05.pklclean'),\n",
       " ('rhizophagus',\n",
       "  '25',\n",
       "  '1',\n",
       "  'R25_23_06_P06.pklclean',\n",
       "  '../data\\\\rhizophagus\\\\25\\\\1\\\\R25_23_06_P06.pklclean'),\n",
       " ('rhizophagus',\n",
       "  '25',\n",
       "  '1',\n",
       "  'R25_23_06_P07.pklclean',\n",
       "  '../data\\\\rhizophagus\\\\25\\\\1\\\\R25_23_06_P07.pklclean'),\n",
       " ('rhizophagus',\n",
       "  '25',\n",
       "  '2',\n",
       "  'R25_30_06_P01.pklclean',\n",
       "  '../data\\\\rhizophagus\\\\25\\\\2\\\\R25_30_06_P01.pklclean'),\n",
       " ('rhizophagus',\n",
       "  '25',\n",
       "  '2',\n",
       "  'R25_30_06_P02.pklclean',\n",
       "  '../data\\\\rhizophagus\\\\25\\\\2\\\\R25_30_06_P02.pklclean'),\n",
       " ('rhizophagus',\n",
       "  '25',\n",
       "  '2',\n",
       "  'R25_30_06_P03.pklclean',\n",
       "  '../data\\\\rhizophagus\\\\25\\\\2\\\\R25_30_06_P03.pklclean'),\n",
       " ('rhizophagus',\n",
       "  '25',\n",
       "  '2',\n",
       "  'R25_30_06_P04.pklclean',\n",
       "  '../data\\\\rhizophagus\\\\25\\\\2\\\\R25_30_06_P04.pklclean'),\n",
       " ('rhizophagus',\n",
       "  '25',\n",
       "  '2',\n",
       "  'R25_30_06_P05.pklclean',\n",
       "  '../data\\\\rhizophagus\\\\25\\\\2\\\\R25_30_06_P05.pklclean'),\n",
       " ('rhizophagus',\n",
       "  '25',\n",
       "  '2',\n",
       "  'R25_30_06_P06.pklclean',\n",
       "  '../data\\\\rhizophagus\\\\25\\\\2\\\\R25_30_06_P06.pklclean'),\n",
       " ('rhizophagus',\n",
       "  '25',\n",
       "  '2',\n",
       "  'R25_30_06_P07.pklclean',\n",
       "  '../data\\\\rhizophagus\\\\25\\\\2\\\\R25_30_06_P07.pklclean'),\n",
       " ('rhizophagus',\n",
       "  '25',\n",
       "  '2',\n",
       "  'R25_30_06_P08.pklclean',\n",
       "  '../data\\\\rhizophagus\\\\25\\\\2\\\\R25_30_06_P08.pklclean'),\n",
       " ('rhizophagus',\n",
       "  '25',\n",
       "  '2',\n",
       "  'R25_30_06_P09.pklclean',\n",
       "  '../data\\\\rhizophagus\\\\25\\\\2\\\\R25_30_06_P09.pklclean'),\n",
       " ('rhizophagus',\n",
       "  '25',\n",
       "  '2',\n",
       "  'R25_30_06_P10.pklclean',\n",
       "  '../data\\\\rhizophagus\\\\25\\\\2\\\\R25_30_06_P10.pklclean'),\n",
       " ('rhizophagus',\n",
       "  '25',\n",
       "  '2',\n",
       "  'R25_30_06_P11.pklclean',\n",
       "  '../data\\\\rhizophagus\\\\25\\\\2\\\\R25_30_06_P11.pklclean'),\n",
       " ('rhizophagus',\n",
       "  '25',\n",
       "  '2',\n",
       "  'R25_30_06_P12.pklclean',\n",
       "  '../data\\\\rhizophagus\\\\25\\\\2\\\\R25_30_06_P12.pklclean'),\n",
       " ('rhizophagus',\n",
       "  '25',\n",
       "  '2',\n",
       "  'R25_30_06_P13.pklclean',\n",
       "  '../data\\\\rhizophagus\\\\25\\\\2\\\\R25_30_06_P13.pklclean'),\n",
       " ('rhizophagus',\n",
       "  '25',\n",
       "  '2',\n",
       "  'R25_30_06_P14.pklclean',\n",
       "  '../data\\\\rhizophagus\\\\25\\\\2\\\\R25_30_06_P14.pklclean'),\n",
       " ('rhizophagus',\n",
       "  '25',\n",
       "  '2',\n",
       "  'R25_30_06_P15.pklclean',\n",
       "  '../data\\\\rhizophagus\\\\25\\\\2\\\\R25_30_06_P15.pklclean'),\n",
       " ('rhizophagus',\n",
       "  '25',\n",
       "  '2',\n",
       "  'R25_30_06_P16.pklclean',\n",
       "  '../data\\\\rhizophagus\\\\25\\\\2\\\\R25_30_06_P16.pklclean'),\n",
       " ('rhizophagus',\n",
       "  '25',\n",
       "  '2',\n",
       "  'R25_30_06_P17.pklclean',\n",
       "  '../data\\\\rhizophagus\\\\25\\\\2\\\\R25_30_06_P17.pklclean'),\n",
       " ('rhizophagus',\n",
       "  '25',\n",
       "  '3',\n",
       "  'R25_07_07_P01.pklclean',\n",
       "  '../data\\\\rhizophagus\\\\25\\\\3\\\\R25_07_07_P01.pklclean'),\n",
       " ('rhizophagus',\n",
       "  '25',\n",
       "  '3',\n",
       "  'R25_07_07_P02.pklclean',\n",
       "  '../data\\\\rhizophagus\\\\25\\\\3\\\\R25_07_07_P02.pklclean'),\n",
       " ('rhizophagus',\n",
       "  '25',\n",
       "  '3',\n",
       "  'R25_07_07_P03.pklclean',\n",
       "  '../data\\\\rhizophagus\\\\25\\\\3\\\\R25_07_07_P03.pklclean'),\n",
       " ('rhizophagus',\n",
       "  '25',\n",
       "  '3',\n",
       "  'R25_07_07_P04.pklclean',\n",
       "  '../data\\\\rhizophagus\\\\25\\\\3\\\\R25_07_07_P04.pklclean'),\n",
       " ('rhizophagus',\n",
       "  '25',\n",
       "  '3',\n",
       "  'R25_07_07_P05.pklclean',\n",
       "  '../data\\\\rhizophagus\\\\25\\\\3\\\\R25_07_07_P05.pklclean'),\n",
       " ('rhizophagus',\n",
       "  '25',\n",
       "  '3',\n",
       "  'R25_07_07_P06.pklclean',\n",
       "  '../data\\\\rhizophagus\\\\25\\\\3\\\\R25_07_07_P06.pklclean'),\n",
       " ('rhizophagus',\n",
       "  '25',\n",
       "  '3',\n",
       "  'R25_07_07_P07.pklclean',\n",
       "  '../data\\\\rhizophagus\\\\25\\\\3\\\\R25_07_07_P07.pklclean'),\n",
       " ('rhizophagus',\n",
       "  '25',\n",
       "  '3',\n",
       "  'R25_07_07_P08.pklclean',\n",
       "  '../data\\\\rhizophagus\\\\25\\\\3\\\\R25_07_07_P08.pklclean'),\n",
       " ('rhizophagus',\n",
       "  '25',\n",
       "  '3',\n",
       "  'R25_07_07_P09.pklclean',\n",
       "  '../data\\\\rhizophagus\\\\25\\\\3\\\\R25_07_07_P09.pklclean'),\n",
       " ('rhizophagus',\n",
       "  '25',\n",
       "  '3',\n",
       "  'R25_07_07_P10.pklclean',\n",
       "  '../data\\\\rhizophagus\\\\25\\\\3\\\\R25_07_07_P10.pklclean'),\n",
       " ('rhizophagus',\n",
       "  '25',\n",
       "  '3',\n",
       "  'R25_07_07_P11.pklclean',\n",
       "  '../data\\\\rhizophagus\\\\25\\\\3\\\\R25_07_07_P11.pklclean'),\n",
       " ('rhizophagus',\n",
       "  '25',\n",
       "  '3',\n",
       "  'R25_07_07_P12.pklclean',\n",
       "  '../data\\\\rhizophagus\\\\25\\\\3\\\\R25_07_07_P12.pklclean'),\n",
       " ('rhizophagus',\n",
       "  '25',\n",
       "  '3',\n",
       "  'R25_07_07_P13.pklclean',\n",
       "  '../data\\\\rhizophagus\\\\25\\\\3\\\\R25_07_07_P13.pklclean'),\n",
       " ('rhizophagus',\n",
       "  '25',\n",
       "  '3',\n",
       "  'R25_07_07_P14.pklclean',\n",
       "  '../data\\\\rhizophagus\\\\25\\\\3\\\\R25_07_07_P14.pklclean'),\n",
       " ('rhizophagus',\n",
       "  '25',\n",
       "  '3',\n",
       "  'R25_07_07_P15.pklclean',\n",
       "  '../data\\\\rhizophagus\\\\25\\\\3\\\\R25_07_07_P15.pklclean'),\n",
       " ('rhizophagus',\n",
       "  '25',\n",
       "  '3',\n",
       "  'R25_07_07_P16.pklclean',\n",
       "  '../data\\\\rhizophagus\\\\25\\\\3\\\\R25_07_07_P16.pklclean'),\n",
       " ('rhizophagus',\n",
       "  '25',\n",
       "  '3',\n",
       "  'R25_07_07_P17.pklclean',\n",
       "  '../data\\\\rhizophagus\\\\25\\\\3\\\\R25_07_07_P17.pklclean'),\n",
       " ('rhizophagus',\n",
       "  '25',\n",
       "  '3',\n",
       "  'R25_07_07_P18.pklclean',\n",
       "  '../data\\\\rhizophagus\\\\25\\\\3\\\\R25_07_07_P18.pklclean'),\n",
       " ('rhizophagus',\n",
       "  '25',\n",
       "  '3',\n",
       "  'R25_07_07_P19.pklclean',\n",
       "  '../data\\\\rhizophagus\\\\25\\\\3\\\\R25_07_07_P19.pklclean'),\n",
       " ('rhizophagus',\n",
       "  '25',\n",
       "  '3',\n",
       "  'R25_07_07_P20.pklclean',\n",
       "  '../data\\\\rhizophagus\\\\25\\\\3\\\\R25_07_07_P20.pklclean')]"
      ]
     },
     "execution_count": 64,
     "metadata": {},
     "output_type": "execute_result"
    }
   ],
   "source": [
    "all_files"
   ]
  },
  {
   "cell_type": "code",
   "execution_count": 65,
   "id": "4adeb45d-445d-4d8b-866a-761c282a1c80",
   "metadata": {
    "scrolled": true
   },
   "outputs": [
    {
     "name": "stderr",
     "output_type": "stream",
     "text": [
      " 32%|████████████████████████▏                                                   | 126/396 [1:38:01<7:04:06, 94.25s/it]"
     ]
    },
    {
     "name": "stdout",
     "output_type": "stream",
     "text": [
      "too large: Graph with 5520 nodes and 6768 edges\n"
     ]
    },
    {
     "name": "stderr",
     "output_type": "stream",
     "text": [
      " 32%|████████████████████████▎                                                   | 127/396 [1:38:31<5:36:40, 75.10s/it]"
     ]
    },
    {
     "name": "stdout",
     "output_type": "stream",
     "text": [
      "too large: Graph with 5605 nodes and 6875 edges\n"
     ]
    },
    {
     "name": "stderr",
     "output_type": "stream",
     "text": [
      " 32%|████████████████████████▌                                                   | 128/396 [1:39:02<4:35:54, 61.77s/it]"
     ]
    },
    {
     "name": "stdout",
     "output_type": "stream",
     "text": [
      "too large: Graph with 5744 nodes and 7312 edges\n"
     ]
    },
    {
     "name": "stderr",
     "output_type": "stream",
     "text": [
      " 33%|████████████████████████▊                                                   | 129/396 [1:39:31<3:51:23, 52.00s/it]"
     ]
    },
    {
     "name": "stdout",
     "output_type": "stream",
     "text": [
      "too large: Graph with 11566 nodes and 14927 edges\n"
     ]
    },
    {
     "name": "stderr",
     "output_type": "stream",
     "text": [
      " 35%|██████████████████████████▊                                                 | 140/396 [2:07:05<5:08:03, 72.20s/it]"
     ]
    },
    {
     "name": "stdout",
     "output_type": "stream",
     "text": [
      "too large: Graph with 5410 nodes and 6712 edges\n"
     ]
    },
    {
     "name": "stderr",
     "output_type": "stream",
     "text": [
      " 36%|███████████████████████████                                                 | 141/396 [2:07:21<3:54:14, 55.12s/it]"
     ]
    },
    {
     "name": "stdout",
     "output_type": "stream",
     "text": [
      "too large: Graph with 8175 nodes and 10043 edges\n"
     ]
    },
    {
     "name": "stderr",
     "output_type": "stream",
     "text": [
      " 36%|███████████████████████████▎                                                | 142/396 [2:07:46<3:15:05, 46.08s/it]"
     ]
    },
    {
     "name": "stdout",
     "output_type": "stream",
     "text": [
      "too large: Graph with 13090 nodes and 17127 edges\n"
     ]
    },
    {
     "name": "stderr",
     "output_type": "stream",
     "text": [
      " 36%|███████████████████████████▍                                                | 143/396 [2:08:37<3:21:05, 47.69s/it]"
     ]
    },
    {
     "name": "stdout",
     "output_type": "stream",
     "text": [
      "too large: Graph with 14595 nodes and 18677 edges\n"
     ]
    },
    {
     "name": "stderr",
     "output_type": "stream",
     "text": [
      " 37%|███████████████████████████▊                                                | 145/396 [2:10:45<3:56:57, 56.64s/it]"
     ]
    },
    {
     "name": "stdout",
     "output_type": "stream",
     "text": [
      "too large: Graph with 10400 nodes and 13519 edges\n"
     ]
    },
    {
     "name": "stderr",
     "output_type": "stream",
     "text": [
      " 37%|████████████████████████████                                                | 146/396 [2:11:21<3:29:15, 50.22s/it]"
     ]
    },
    {
     "name": "stdout",
     "output_type": "stream",
     "text": [
      "too large: Graph with 19171 nodes and 24738 edges\n"
     ]
    },
    {
     "name": "stderr",
     "output_type": "stream",
     "text": [
      " 37%|████████████████████████████▍                                               | 148/396 [2:14:44<5:26:31, 79.00s/it]"
     ]
    },
    {
     "name": "stdout",
     "output_type": "stream",
     "text": [
      "too large: Graph with 13170 nodes and 16839 edges\n"
     ]
    },
    {
     "name": "stderr",
     "output_type": "stream",
     "text": [
      " 38%|████████████████████████████▌                                               | 149/396 [2:15:25<4:37:56, 67.52s/it]"
     ]
    },
    {
     "name": "stdout",
     "output_type": "stream",
     "text": [
      "too large: Graph with 10437 nodes and 12961 edges\n"
     ]
    },
    {
     "name": "stderr",
     "output_type": "stream",
     "text": [
      " 38%|████████████████████████████▉                                               | 151/396 [2:16:41<3:37:05, 53.17s/it]"
     ]
    },
    {
     "name": "stdout",
     "output_type": "stream",
     "text": [
      "too large: Graph with 9766 nodes and 12139 edges\n"
     ]
    },
    {
     "name": "stderr",
     "output_type": "stream",
     "text": [
      " 39%|█████████████████████████████▎                                              | 153/396 [2:20:28<6:08:43, 91.04s/it]"
     ]
    },
    {
     "name": "stdout",
     "output_type": "stream",
     "text": [
      "too large: Graph with 5924 nodes and 7156 edges\n"
     ]
    },
    {
     "name": "stderr",
     "output_type": "stream",
     "text": [
      " 47%|███████████████████████████████████▉                                        | 187/396 [2:33:10<5:04:22, 87.38s/it]"
     ]
    },
    {
     "name": "stdout",
     "output_type": "stream",
     "text": [
      "too large: Graph with 6980 nodes and 8553 edges\n"
     ]
    },
    {
     "name": "stderr",
     "output_type": "stream",
     "text": [
      " 47%|████████████████████████████████████                                        | 188/396 [2:33:30<3:53:30, 67.36s/it]"
     ]
    },
    {
     "name": "stdout",
     "output_type": "stream",
     "text": [
      "too large: Graph with 7798 nodes and 9585 edges\n"
     ]
    },
    {
     "name": "stderr",
     "output_type": "stream",
     "text": [
      " 48%|████████████████████████████████████▎                                       | 189/396 [2:33:57<3:10:07, 55.11s/it]"
     ]
    },
    {
     "name": "stdout",
     "output_type": "stream",
     "text": [
      "too large: Graph with 6437 nodes and 7887 edges\n"
     ]
    },
    {
     "name": "stderr",
     "output_type": "stream",
     "text": [
      " 48%|████████████████████████████████████▍                                       | 190/396 [2:34:18<2:33:57, 44.84s/it]"
     ]
    },
    {
     "name": "stdout",
     "output_type": "stream",
     "text": [
      "too large: Graph with 7540 nodes and 9214 edges\n"
     ]
    },
    {
     "name": "stderr",
     "output_type": "stream",
     "text": [
      " 57%|██████████████████████████████████████████▉                                 | 224/396 [3:12:53<3:04:05, 64.22s/it]"
     ]
    },
    {
     "name": "stdout",
     "output_type": "stream",
     "text": [
      "too large: Graph with 8356 nodes and 10439 edges\n"
     ]
    },
    {
     "name": "stderr",
     "output_type": "stream",
     "text": [
      " 57%|███████████████████████████████████████████▏                                | 225/396 [3:13:21<2:32:07, 53.38s/it]"
     ]
    },
    {
     "name": "stdout",
     "output_type": "stream",
     "text": [
      "too large: Graph with 6862 nodes and 8415 edges\n"
     ]
    },
    {
     "name": "stderr",
     "output_type": "stream",
     "text": [
      " 57%|███████████████████████████████████████████▎                                | 226/396 [3:13:40<2:02:19, 43.18s/it]"
     ]
    },
    {
     "name": "stdout",
     "output_type": "stream",
     "text": [
      "too large: Graph with 10632 nodes and 13572 edges\n"
     ]
    },
    {
     "name": "stderr",
     "output_type": "stream",
     "text": [
      " 57%|███████████████████████████████████████████▌                                | 227/396 [3:14:11<1:51:25, 39.56s/it]"
     ]
    },
    {
     "name": "stdout",
     "output_type": "stream",
     "text": [
      "too large: Graph with 9592 nodes and 11831 edges\n"
     ]
    },
    {
     "name": "stderr",
     "output_type": "stream",
     "text": [
      " 58%|███████████████████████████████████████████▎                               | 229/396 [3:18:54<4:43:09, 101.73s/it]"
     ]
    },
    {
     "name": "stdout",
     "output_type": "stream",
     "text": [
      "too large: Graph with 11998 nodes and 15163 edges\n"
     ]
    },
    {
     "name": "stderr",
     "output_type": "stream",
     "text": [
      " 58%|████████████████████████████████████████████▏                               | 230/396 [3:19:42<3:56:35, 85.51s/it]"
     ]
    },
    {
     "name": "stdout",
     "output_type": "stream",
     "text": [
      "too large: Graph with 9317 nodes and 11600 edges\n"
     ]
    },
    {
     "name": "stderr",
     "output_type": "stream",
     "text": [
      " 59%|████████████████████████████████████████████▋                               | 233/396 [3:21:23<2:15:03, 49.71s/it]"
     ]
    },
    {
     "name": "stdout",
     "output_type": "stream",
     "text": [
      "too large: Graph with 8941 nodes and 11491 edges\n"
     ]
    },
    {
     "name": "stderr",
     "output_type": "stream",
     "text": [
      " 59%|████████████████████████████████████████████▉                               | 234/396 [3:21:58<2:02:27, 45.36s/it]"
     ]
    },
    {
     "name": "stdout",
     "output_type": "stream",
     "text": [
      "too large: Graph with 9204 nodes and 11962 edges\n"
     ]
    },
    {
     "name": "stderr",
     "output_type": "stream",
     "text": [
      " 59%|█████████████████████████████████████████████                               | 235/396 [3:22:31<1:51:51, 41.69s/it]"
     ]
    },
    {
     "name": "stdout",
     "output_type": "stream",
     "text": [
      "too large: Graph with 5437 nodes and 7054 edges\n"
     ]
    },
    {
     "name": "stderr",
     "output_type": "stream",
     "text": [
      " 61%|██████████████████████████████████████████████▎                             | 241/396 [3:26:00<2:14:50, 52.20s/it]"
     ]
    },
    {
     "name": "stdout",
     "output_type": "stream",
     "text": [
      "too large: Graph with 6069 nodes and 7382 edges\n"
     ]
    },
    {
     "name": "stderr",
     "output_type": "stream",
     "text": [
      " 61%|██████████████████████████████████████████████▍                             | 242/396 [3:26:28<1:55:04, 44.84s/it]"
     ]
    },
    {
     "name": "stdout",
     "output_type": "stream",
     "text": [
      "too large: Graph with 7986 nodes and 9916 edges\n"
     ]
    },
    {
     "name": "stderr",
     "output_type": "stream",
     "text": [
      " 61%|██████████████████████████████████████████████▋                             | 243/396 [3:27:00<1:44:05, 40.82s/it]"
     ]
    },
    {
     "name": "stdout",
     "output_type": "stream",
     "text": [
      "too large: Graph with 9072 nodes and 11456 edges\n"
     ]
    },
    {
     "name": "stderr",
     "output_type": "stream",
     "text": [
      " 62%|██████████████████████████████████████████████▊                             | 244/396 [3:27:36<1:39:53, 39.43s/it]"
     ]
    },
    {
     "name": "stdout",
     "output_type": "stream",
     "text": [
      "too large: Graph with 5151 nodes and 6418 edges\n"
     ]
    },
    {
     "name": "stderr",
     "output_type": "stream",
     "text": [
      " 62%|███████████████████████████████████████████████                             | 245/396 [3:27:56<1:24:48, 33.70s/it]"
     ]
    },
    {
     "name": "stdout",
     "output_type": "stream",
     "text": [
      "too large: Graph with 10954 nodes and 13926 edges\n"
     ]
    },
    {
     "name": "stderr",
     "output_type": "stream",
     "text": [
      " 62%|███████████████████████████████████████████████▏                            | 246/396 [3:28:35<1:28:05, 35.23s/it]"
     ]
    },
    {
     "name": "stdout",
     "output_type": "stream",
     "text": [
      "too large: Graph with 10958 nodes and 13775 edges\n"
     ]
    },
    {
     "name": "stderr",
     "output_type": "stream",
     "text": [
      " 62%|███████████████████████████████████████████████▍                            | 247/396 [3:29:14<1:30:40, 36.51s/it]"
     ]
    },
    {
     "name": "stdout",
     "output_type": "stream",
     "text": [
      "too large: Graph with 7955 nodes and 9833 edges\n"
     ]
    },
    {
     "name": "stderr",
     "output_type": "stream",
     "text": [
      " 63%|███████████████████████████████████████████████▌                            | 248/396 [3:29:46<1:26:33, 35.09s/it]"
     ]
    },
    {
     "name": "stdout",
     "output_type": "stream",
     "text": [
      "too large: Graph with 10278 nodes and 13061 edges\n"
     ]
    },
    {
     "name": "stderr",
     "output_type": "stream",
     "text": [
      " 63%|███████████████████████████████████████████████▊                            | 249/396 [3:30:23<1:27:17, 35.63s/it]"
     ]
    },
    {
     "name": "stdout",
     "output_type": "stream",
     "text": [
      "too large: Graph with 10309 nodes and 12776 edges\n"
     ]
    },
    {
     "name": "stderr",
     "output_type": "stream",
     "text": [
      " 63%|████████████████████████████████████████████████▏                           | 251/396 [3:33:30<2:48:38, 69.78s/it]"
     ]
    },
    {
     "name": "stdout",
     "output_type": "stream",
     "text": [
      "too large: Graph with 11485 nodes and 14522 edges\n"
     ]
    },
    {
     "name": "stderr",
     "output_type": "stream",
     "text": [
      " 64%|████████████████████████████████████████████████▎                           | 252/396 [3:34:19<2:32:02, 63.35s/it]"
     ]
    },
    {
     "name": "stdout",
     "output_type": "stream",
     "text": [
      "too large: Graph with 7748 nodes and 9765 edges\n"
     ]
    },
    {
     "name": "stderr",
     "output_type": "stream",
     "text": [
      " 64%|████████████████████████████████████████████████▌                           | 253/396 [3:34:49<2:07:45, 53.61s/it]"
     ]
    },
    {
     "name": "stdout",
     "output_type": "stream",
     "text": [
      "too large: Graph with 6521 nodes and 8181 edges\n"
     ]
    },
    {
     "name": "stderr",
     "output_type": "stream",
     "text": [
      " 69%|████████████████████████████████████████████████████▌                       | 274/396 [3:53:48<2:31:01, 74.28s/it]"
     ]
    },
    {
     "name": "stdout",
     "output_type": "stream",
     "text": [
      "too large: Graph with 5052 nodes and 6148 edges\n"
     ]
    },
    {
     "name": "stderr",
     "output_type": "stream",
     "text": [
      " 69%|████████████████████████████████████████████████████▊                       | 275/396 [3:54:05<1:55:13, 57.14s/it]"
     ]
    },
    {
     "name": "stdout",
     "output_type": "stream",
     "text": [
      "too large: Graph with 13177 nodes and 16675 edges\n"
     ]
    },
    {
     "name": "stderr",
     "output_type": "stream",
     "text": [
      " 70%|████████████████████████████████████████████████████▉                       | 276/396 [3:54:56<1:50:44, 55.37s/it]"
     ]
    },
    {
     "name": "stdout",
     "output_type": "stream",
     "text": [
      "too large: Graph with 13868 nodes and 17646 edges\n"
     ]
    },
    {
     "name": "stderr",
     "output_type": "stream",
     "text": [
      " 70%|█████████████████████████████████████████████████████▏                      | 277/396 [3:55:54<1:51:10, 56.05s/it]"
     ]
    },
    {
     "name": "stdout",
     "output_type": "stream",
     "text": [
      "too large: Graph with 5820 nodes and 6978 edges\n"
     ]
    },
    {
     "name": "stderr",
     "output_type": "stream",
     "text": [
      " 71%|█████████████████████████████████████████████████████                      | 280/396 [4:07:58<6:29:19, 201.38s/it]"
     ]
    },
    {
     "name": "stdout",
     "output_type": "stream",
     "text": [
      "too large: Graph with 11751 nodes and 14975 edges\n"
     ]
    },
    {
     "name": "stderr",
     "output_type": "stream",
     "text": [
      " 71%|█████████████████████████████████████████████████████▏                     | 281/396 [4:08:46<4:57:41, 155.32s/it]"
     ]
    },
    {
     "name": "stdout",
     "output_type": "stream",
     "text": [
      "too large: Graph with 8334 nodes and 10659 edges\n"
     ]
    },
    {
     "name": "stderr",
     "output_type": "stream",
     "text": [
      " 71%|█████████████████████████████████████████████████████▍                     | 282/396 [4:09:16<3:43:34, 117.67s/it]"
     ]
    },
    {
     "name": "stdout",
     "output_type": "stream",
     "text": [
      "too large: Graph with 10674 nodes and 13969 edges\n"
     ]
    },
    {
     "name": "stderr",
     "output_type": "stream",
     "text": [
      " 71%|██████████████████████████████████████████████████████▎                     | 283/396 [4:09:54<2:56:44, 93.85s/it]"
     ]
    },
    {
     "name": "stdout",
     "output_type": "stream",
     "text": [
      "too large: Graph with 12850 nodes and 17155 edges\n"
     ]
    },
    {
     "name": "stderr",
     "output_type": "stream",
     "text": [
      " 72%|██████████████████████████████████████████████████████▌                     | 284/396 [4:10:48<2:32:49, 81.87s/it]"
     ]
    },
    {
     "name": "stdout",
     "output_type": "stream",
     "text": [
      "too large: Graph with 10487 nodes and 13777 edges\n"
     ]
    },
    {
     "name": "stderr",
     "output_type": "stream",
     "text": [
      " 80%|████████████████████████████████████████████████████████████               | 317/396 [4:46:49<4:02:49, 184.42s/it]"
     ]
    },
    {
     "name": "stdout",
     "output_type": "stream",
     "text": [
      "too large: Graph with 8624 nodes and 10402 edges\n"
     ]
    },
    {
     "name": "stderr",
     "output_type": "stream",
     "text": [
      " 80%|████████████████████████████████████████████████████████████▏              | 318/396 [4:47:27<3:02:32, 140.42s/it]"
     ]
    },
    {
     "name": "stdout",
     "output_type": "stream",
     "text": [
      "too large: Graph with 8190 nodes and 10573 edges\n"
     ]
    },
    {
     "name": "stderr",
     "output_type": "stream",
     "text": [
      " 81%|████████████████████████████████████████████████████████████▍              | 319/396 [4:48:03<2:19:55, 109.03s/it]"
     ]
    },
    {
     "name": "stdout",
     "output_type": "stream",
     "text": [
      "too large: Graph with 8560 nodes and 10845 edges\n"
     ]
    },
    {
     "name": "stderr",
     "output_type": "stream",
     "text": [
      " 81%|█████████████████████████████████████████████████████████████▍              | 320/396 [4:48:41<1:51:15, 87.84s/it]"
     ]
    },
    {
     "name": "stdout",
     "output_type": "stream",
     "text": [
      "too large: Graph with 7289 nodes and 8945 edges\n"
     ]
    },
    {
     "name": "stderr",
     "output_type": "stream",
     "text": [
      " 83%|██████████████████████████████████████████████████████████████             | 328/396 [5:04:00<2:14:12, 118.43s/it]"
     ]
    },
    {
     "name": "stdout",
     "output_type": "stream",
     "text": [
      "too large: Graph with 5688 nodes and 7054 edges\n"
     ]
    },
    {
     "name": "stderr",
     "output_type": "stream",
     "text": [
      " 85%|███████████████████████████████████████████████████████████████▍           | 335/396 [5:13:46<2:45:14, 162.53s/it]"
     ]
    },
    {
     "name": "stdout",
     "output_type": "stream",
     "text": [
      "too large: Graph with 6063 nodes and 7135 edges\n"
     ]
    },
    {
     "name": "stderr",
     "output_type": "stream",
     "text": [
      " 85%|████████████████████████████████████████████████████████████████           | 338/396 [5:19:49<2:25:55, 150.96s/it]"
     ]
    },
    {
     "name": "stdout",
     "output_type": "stream",
     "text": [
      "too large: Graph with 6556 nodes and 7898 edges\n"
     ]
    },
    {
     "name": "stderr",
     "output_type": "stream",
     "text": [
      " 86%|████████████████████████████████████████████████████████████████▍          | 340/396 [5:25:31<2:42:34, 174.18s/it]"
     ]
    },
    {
     "name": "stdout",
     "output_type": "stream",
     "text": [
      "too large: Graph with 7470 nodes and 8743 edges\n"
     ]
    },
    {
     "name": "stderr",
     "output_type": "stream",
     "text": [
      " 86%|████████████████████████████████████████████████████████████████▌          | 341/396 [5:26:03<2:00:52, 131.85s/it]"
     ]
    },
    {
     "name": "stdout",
     "output_type": "stream",
     "text": [
      "too large: Graph with 6919 nodes and 8410 edges\n"
     ]
    },
    {
     "name": "stderr",
     "output_type": "stream",
     "text": [
      " 87%|████████████████████████████████████████████████████████████████▉          | 343/396 [5:29:23<1:47:49, 122.06s/it]"
     ]
    },
    {
     "name": "stdout",
     "output_type": "stream",
     "text": [
      "too large: Graph with 8212 nodes and 10273 edges\n"
     ]
    },
    {
     "name": "stderr",
     "output_type": "stream",
     "text": [
      " 87%|██████████████████████████████████████████████████████████████████          | 344/396 [5:29:56<1:22:30, 95.20s/it]"
     ]
    },
    {
     "name": "stdout",
     "output_type": "stream",
     "text": [
      "too large: Graph with 10769 nodes and 13212 edges\n"
     ]
    },
    {
     "name": "stderr",
     "output_type": "stream",
     "text": [
      " 87%|██████████████████████████████████████████████████████████████████▏         | 345/396 [5:30:43<1:08:40, 80.80s/it]"
     ]
    },
    {
     "name": "stdout",
     "output_type": "stream",
     "text": [
      "too large: Graph with 15509 nodes and 20064 edges\n"
     ]
    },
    {
     "name": "stderr",
     "output_type": "stream",
     "text": [
      " 87%|██████████████████████████████████████████████████████████████████▍         | 346/396 [5:31:44<1:02:27, 74.95s/it]"
     ]
    },
    {
     "name": "stdout",
     "output_type": "stream",
     "text": [
      "too large: Graph with 13915 nodes and 17904 edges\n"
     ]
    },
    {
     "name": "stderr",
     "output_type": "stream",
     "text": [
      " 88%|█████████████████████████████████████████████████████████████████▉         | 348/396 [5:36:26<1:33:05, 116.36s/it]"
     ]
    },
    {
     "name": "stdout",
     "output_type": "stream",
     "text": [
      "too large: Graph with 9679 nodes and 12428 edges\n"
     ]
    },
    {
     "name": "stderr",
     "output_type": "stream",
     "text": [
      "100%|██████████████████████████████████████████████████████████████████████████████| 396/396 [6:16:16<00:00, 57.01s/it]\n"
     ]
    }
   ],
   "source": [
    "results_all = []\n",
    "\n",
    "for sp, boite, mesure, photo, path in tqdm(all_files):\n",
    "    G = pickle.load(open(path, 'rb'))\n",
    "    \n",
    "    result = {\n",
    "        \"sp\": sp,\n",
    "        \"boite\": boite,\n",
    "        \"mesure\": mesure,\n",
    "        \"photo\": photo\n",
    "    }\n",
    "\n",
    "    for metric_name, func in long_metrics_functions.items():\n",
    "        result[metric_name] = func(G)\n",
    "\n",
    "    results_all.append(result)"
   ]
  },
  {
   "cell_type": "code",
   "execution_count": 66,
   "id": "9332c432-1d52-4f67-b335-4fb8bf391e83",
   "metadata": {},
   "outputs": [],
   "source": [
    "df_long_metrics_all = pd.DataFrame(results_all)"
   ]
  },
  {
   "cell_type": "code",
   "execution_count": 67,
   "id": "4a39fb27-18ec-494d-b1f3-98644a32e39a",
   "metadata": {
    "scrolled": true
   },
   "outputs": [
    {
     "data": {
      "text/html": [
       "<div>\n",
       "<style scoped>\n",
       "    .dataframe tbody tr th:only-of-type {\n",
       "        vertical-align: middle;\n",
       "    }\n",
       "\n",
       "    .dataframe tbody tr th {\n",
       "        vertical-align: top;\n",
       "    }\n",
       "\n",
       "    .dataframe thead th {\n",
       "        text-align: right;\n",
       "    }\n",
       "</style>\n",
       "<table border=\"1\" class=\"dataframe\">\n",
       "  <thead>\n",
       "    <tr style=\"text-align: right;\">\n",
       "      <th></th>\n",
       "      <th>sp</th>\n",
       "      <th>boite</th>\n",
       "      <th>mesure</th>\n",
       "      <th>photo</th>\n",
       "      <th>global efficiency weighted</th>\n",
       "      <th>local efficiency weighted</th>\n",
       "      <th>robustness curve</th>\n",
       "    </tr>\n",
       "  </thead>\n",
       "  <tbody>\n",
       "    <tr>\n",
       "      <th>0</th>\n",
       "      <td>gigaspora</td>\n",
       "      <td>34</td>\n",
       "      <td>1</td>\n",
       "      <td>G09_10_06_P01.pklclean</td>\n",
       "      <td>(0.7049258565728517, 2518.9715152961385)</td>\n",
       "      <td>0.085291</td>\n",
       "      <td>([0.0, 0.05263157894736842, 0.1052631578947368...</td>\n",
       "    </tr>\n",
       "    <tr>\n",
       "      <th>1</th>\n",
       "      <td>gigaspora</td>\n",
       "      <td>34</td>\n",
       "      <td>1</td>\n",
       "      <td>G09_10_06_P02.pklclean</td>\n",
       "      <td>(0.8580666377271404, 1179.3760816092395)</td>\n",
       "      <td>0.111427</td>\n",
       "      <td>([0.0, 0.05263157894736842, 0.1052631578947368...</td>\n",
       "    </tr>\n",
       "    <tr>\n",
       "      <th>2</th>\n",
       "      <td>gigaspora</td>\n",
       "      <td>34</td>\n",
       "      <td>1</td>\n",
       "      <td>G09_10_06_P03.pklclean</td>\n",
       "      <td>(0.6605827662753296, 2197.8538000943936)</td>\n",
       "      <td>0.074682</td>\n",
       "      <td>([0.0, 0.05263157894736842, 0.1052631578947368...</td>\n",
       "    </tr>\n",
       "    <tr>\n",
       "      <th>3</th>\n",
       "      <td>gigaspora</td>\n",
       "      <td>34</td>\n",
       "      <td>2</td>\n",
       "      <td>G09_16_06_P01.pklclean</td>\n",
       "      <td>(0.907062896121047, 573.7517985891857)</td>\n",
       "      <td>0.482632</td>\n",
       "      <td>([0.0, 0.05263157894736842, 0.1052631578947368...</td>\n",
       "    </tr>\n",
       "    <tr>\n",
       "      <th>4</th>\n",
       "      <td>gigaspora</td>\n",
       "      <td>34</td>\n",
       "      <td>2</td>\n",
       "      <td>G09_16_06_P02.pklclean</td>\n",
       "      <td>(0.8148118210877513, 1644.7154825806874)</td>\n",
       "      <td>0.139679</td>\n",
       "      <td>([0.0, 0.05263157894736842, 0.1052631578947368...</td>\n",
       "    </tr>\n",
       "    <tr>\n",
       "      <th>...</th>\n",
       "      <td>...</td>\n",
       "      <td>...</td>\n",
       "      <td>...</td>\n",
       "      <td>...</td>\n",
       "      <td>...</td>\n",
       "      <td>...</td>\n",
       "      <td>...</td>\n",
       "    </tr>\n",
       "    <tr>\n",
       "      <th>391</th>\n",
       "      <td>rhizophagus</td>\n",
       "      <td>25</td>\n",
       "      <td>3</td>\n",
       "      <td>R25_07_07_P16.pklclean</td>\n",
       "      <td>(0.6801640209984177, 2348.1036863238955)</td>\n",
       "      <td>0.124679</td>\n",
       "      <td>([0.0, 0.05263157894736842, 0.1052631578947368...</td>\n",
       "    </tr>\n",
       "    <tr>\n",
       "      <th>392</th>\n",
       "      <td>rhizophagus</td>\n",
       "      <td>25</td>\n",
       "      <td>3</td>\n",
       "      <td>R25_07_07_P17.pklclean</td>\n",
       "      <td>(0.6935304722563201, 4213.131493836626)</td>\n",
       "      <td>0.106414</td>\n",
       "      <td>([0.0, 0.05263157894736842, 0.1052631578947368...</td>\n",
       "    </tr>\n",
       "    <tr>\n",
       "      <th>393</th>\n",
       "      <td>rhizophagus</td>\n",
       "      <td>25</td>\n",
       "      <td>3</td>\n",
       "      <td>R25_07_07_P18.pklclean</td>\n",
       "      <td>(0.7048417956897317, 3456.122857389873)</td>\n",
       "      <td>0.116806</td>\n",
       "      <td>([0.0, 0.05263157894736842, 0.1052631578947368...</td>\n",
       "    </tr>\n",
       "    <tr>\n",
       "      <th>394</th>\n",
       "      <td>rhizophagus</td>\n",
       "      <td>25</td>\n",
       "      <td>3</td>\n",
       "      <td>R25_07_07_P19.pklclean</td>\n",
       "      <td>(0.7119904521299616, 3131.582833421012)</td>\n",
       "      <td>0.108695</td>\n",
       "      <td>([0.0, 0.05263157894736842, 0.1052631578947368...</td>\n",
       "    </tr>\n",
       "    <tr>\n",
       "      <th>395</th>\n",
       "      <td>rhizophagus</td>\n",
       "      <td>25</td>\n",
       "      <td>3</td>\n",
       "      <td>R25_07_07_P20.pklclean</td>\n",
       "      <td>(0.6852783709306848, 2469.368085065973)</td>\n",
       "      <td>0.070540</td>\n",
       "      <td>([0.0, 0.05263157894736842, 0.1052631578947368...</td>\n",
       "    </tr>\n",
       "  </tbody>\n",
       "</table>\n",
       "<p>396 rows × 7 columns</p>\n",
       "</div>"
      ],
      "text/plain": [
       "              sp boite mesure                   photo  \\\n",
       "0      gigaspora    34      1  G09_10_06_P01.pklclean   \n",
       "1      gigaspora    34      1  G09_10_06_P02.pklclean   \n",
       "2      gigaspora    34      1  G09_10_06_P03.pklclean   \n",
       "3      gigaspora    34      2  G09_16_06_P01.pklclean   \n",
       "4      gigaspora    34      2  G09_16_06_P02.pklclean   \n",
       "..           ...   ...    ...                     ...   \n",
       "391  rhizophagus    25      3  R25_07_07_P16.pklclean   \n",
       "392  rhizophagus    25      3  R25_07_07_P17.pklclean   \n",
       "393  rhizophagus    25      3  R25_07_07_P18.pklclean   \n",
       "394  rhizophagus    25      3  R25_07_07_P19.pklclean   \n",
       "395  rhizophagus    25      3  R25_07_07_P20.pklclean   \n",
       "\n",
       "                   global efficiency weighted  local efficiency weighted  \\\n",
       "0    (0.7049258565728517, 2518.9715152961385)                   0.085291   \n",
       "1    (0.8580666377271404, 1179.3760816092395)                   0.111427   \n",
       "2    (0.6605827662753296, 2197.8538000943936)                   0.074682   \n",
       "3      (0.907062896121047, 573.7517985891857)                   0.482632   \n",
       "4    (0.8148118210877513, 1644.7154825806874)                   0.139679   \n",
       "..                                        ...                        ...   \n",
       "391  (0.6801640209984177, 2348.1036863238955)                   0.124679   \n",
       "392   (0.6935304722563201, 4213.131493836626)                   0.106414   \n",
       "393   (0.7048417956897317, 3456.122857389873)                   0.116806   \n",
       "394   (0.7119904521299616, 3131.582833421012)                   0.108695   \n",
       "395   (0.6852783709306848, 2469.368085065973)                   0.070540   \n",
       "\n",
       "                                      robustness curve  \n",
       "0    ([0.0, 0.05263157894736842, 0.1052631578947368...  \n",
       "1    ([0.0, 0.05263157894736842, 0.1052631578947368...  \n",
       "2    ([0.0, 0.05263157894736842, 0.1052631578947368...  \n",
       "3    ([0.0, 0.05263157894736842, 0.1052631578947368...  \n",
       "4    ([0.0, 0.05263157894736842, 0.1052631578947368...  \n",
       "..                                                 ...  \n",
       "391  ([0.0, 0.05263157894736842, 0.1052631578947368...  \n",
       "392  ([0.0, 0.05263157894736842, 0.1052631578947368...  \n",
       "393  ([0.0, 0.05263157894736842, 0.1052631578947368...  \n",
       "394  ([0.0, 0.05263157894736842, 0.1052631578947368...  \n",
       "395  ([0.0, 0.05263157894736842, 0.1052631578947368...  \n",
       "\n",
       "[396 rows x 7 columns]"
      ]
     },
     "execution_count": 67,
     "metadata": {},
     "output_type": "execute_result"
    }
   ],
   "source": [
    "df_long_metrics_all"
   ]
  },
  {
   "cell_type": "code",
   "execution_count": 68,
   "id": "7dd66c89-b511-4d0a-8dc4-0498a1807592",
   "metadata": {},
   "outputs": [],
   "source": [
    "df_long_metrics_all.to_csv('long_metrics_all.csv', index=False)"
   ]
  },
  {
   "cell_type": "code",
   "execution_count": 6,
   "id": "92ea0c60-fe2c-40ab-9667-78d7c3962151",
   "metadata": {},
   "outputs": [],
   "source": [
    "df_long_metrics_all = pd.read_csv(\"long_metrics_all.csv\")"
   ]
  },
  {
   "cell_type": "code",
   "execution_count": 7,
   "id": "66e6ae39-3aca-4e31-9197-36213b9a283b",
   "metadata": {},
   "outputs": [],
   "source": [
    "df_long_metrics_all[[\"global efficiency weighted\", \"average shortest path\"]] = df_long_metrics_all[\"global efficiency weighted\"].str.extract(r'(-?\\d+(?:\\.\\d+)?),\\s*(-?\\d+(?:\\.\\d+)?)')\n",
    "df_long_metrics_all[\"global efficiency weighted\"] = df_long_metrics_all[\"global efficiency weighted\"].astype(float)\n",
    "df_long_metrics_all[\"average shortest path\"] = df_long_metrics_all[\"average shortest path\"].astype(float)"
   ]
  },
  {
   "cell_type": "code",
   "execution_count": 10,
   "id": "43287277-e7d7-435c-ba78-35c26c41a7a6",
   "metadata": {
    "scrolled": true
   },
   "outputs": [
    {
     "data": {
      "text/html": [
       "<div>\n",
       "<style scoped>\n",
       "    .dataframe tbody tr th:only-of-type {\n",
       "        vertical-align: middle;\n",
       "    }\n",
       "\n",
       "    .dataframe tbody tr th {\n",
       "        vertical-align: top;\n",
       "    }\n",
       "\n",
       "    .dataframe thead th {\n",
       "        text-align: right;\n",
       "    }\n",
       "</style>\n",
       "<table border=\"1\" class=\"dataframe\">\n",
       "  <thead>\n",
       "    <tr style=\"text-align: right;\">\n",
       "      <th></th>\n",
       "      <th>sp</th>\n",
       "      <th>boite</th>\n",
       "      <th>mesure</th>\n",
       "      <th>photo</th>\n",
       "      <th>global efficiency weighted</th>\n",
       "      <th>local efficiency weighted</th>\n",
       "      <th>robustness curve</th>\n",
       "      <th>average shortest path</th>\n",
       "    </tr>\n",
       "  </thead>\n",
       "  <tbody>\n",
       "    <tr>\n",
       "      <th>0</th>\n",
       "      <td>gigaspora</td>\n",
       "      <td>34</td>\n",
       "      <td>1</td>\n",
       "      <td>G09_10_06_P01.pklclean</td>\n",
       "      <td>0.704926</td>\n",
       "      <td>0.085291</td>\n",
       "      <td>(array([0.        , 0.05263158, 0.10526316, 0....</td>\n",
       "      <td>2518.971515</td>\n",
       "    </tr>\n",
       "    <tr>\n",
       "      <th>1</th>\n",
       "      <td>gigaspora</td>\n",
       "      <td>34</td>\n",
       "      <td>1</td>\n",
       "      <td>G09_10_06_P02.pklclean</td>\n",
       "      <td>0.858067</td>\n",
       "      <td>0.111427</td>\n",
       "      <td>(array([0.        , 0.05263158, 0.10526316, 0....</td>\n",
       "      <td>1179.376082</td>\n",
       "    </tr>\n",
       "    <tr>\n",
       "      <th>2</th>\n",
       "      <td>gigaspora</td>\n",
       "      <td>34</td>\n",
       "      <td>1</td>\n",
       "      <td>G09_10_06_P03.pklclean</td>\n",
       "      <td>0.660583</td>\n",
       "      <td>0.074682</td>\n",
       "      <td>(array([0.        , 0.05263158, 0.10526316, 0....</td>\n",
       "      <td>2197.853800</td>\n",
       "    </tr>\n",
       "    <tr>\n",
       "      <th>3</th>\n",
       "      <td>gigaspora</td>\n",
       "      <td>34</td>\n",
       "      <td>2</td>\n",
       "      <td>G09_16_06_P01.pklclean</td>\n",
       "      <td>0.907063</td>\n",
       "      <td>0.482632</td>\n",
       "      <td>(array([0.        , 0.05263158, 0.10526316, 0....</td>\n",
       "      <td>573.751799</td>\n",
       "    </tr>\n",
       "    <tr>\n",
       "      <th>4</th>\n",
       "      <td>gigaspora</td>\n",
       "      <td>34</td>\n",
       "      <td>2</td>\n",
       "      <td>G09_16_06_P02.pklclean</td>\n",
       "      <td>0.814812</td>\n",
       "      <td>0.139679</td>\n",
       "      <td>(array([0.        , 0.05263158, 0.10526316, 0....</td>\n",
       "      <td>1644.715483</td>\n",
       "    </tr>\n",
       "    <tr>\n",
       "      <th>...</th>\n",
       "      <td>...</td>\n",
       "      <td>...</td>\n",
       "      <td>...</td>\n",
       "      <td>...</td>\n",
       "      <td>...</td>\n",
       "      <td>...</td>\n",
       "      <td>...</td>\n",
       "      <td>...</td>\n",
       "    </tr>\n",
       "    <tr>\n",
       "      <th>391</th>\n",
       "      <td>rhizophagus</td>\n",
       "      <td>25</td>\n",
       "      <td>3</td>\n",
       "      <td>R25_07_07_P16.pklclean</td>\n",
       "      <td>0.680164</td>\n",
       "      <td>0.124679</td>\n",
       "      <td>(array([0.        , 0.05263158, 0.10526316, 0....</td>\n",
       "      <td>2348.103686</td>\n",
       "    </tr>\n",
       "    <tr>\n",
       "      <th>392</th>\n",
       "      <td>rhizophagus</td>\n",
       "      <td>25</td>\n",
       "      <td>3</td>\n",
       "      <td>R25_07_07_P17.pklclean</td>\n",
       "      <td>0.693530</td>\n",
       "      <td>0.106414</td>\n",
       "      <td>(array([0.        , 0.05263158, 0.10526316, 0....</td>\n",
       "      <td>4213.131494</td>\n",
       "    </tr>\n",
       "    <tr>\n",
       "      <th>393</th>\n",
       "      <td>rhizophagus</td>\n",
       "      <td>25</td>\n",
       "      <td>3</td>\n",
       "      <td>R25_07_07_P18.pklclean</td>\n",
       "      <td>0.704842</td>\n",
       "      <td>0.116806</td>\n",
       "      <td>(array([0.        , 0.05263158, 0.10526316, 0....</td>\n",
       "      <td>3456.122857</td>\n",
       "    </tr>\n",
       "    <tr>\n",
       "      <th>394</th>\n",
       "      <td>rhizophagus</td>\n",
       "      <td>25</td>\n",
       "      <td>3</td>\n",
       "      <td>R25_07_07_P19.pklclean</td>\n",
       "      <td>0.711990</td>\n",
       "      <td>0.108695</td>\n",
       "      <td>(array([0.        , 0.05263158, 0.10526316, 0....</td>\n",
       "      <td>3131.582833</td>\n",
       "    </tr>\n",
       "    <tr>\n",
       "      <th>395</th>\n",
       "      <td>rhizophagus</td>\n",
       "      <td>25</td>\n",
       "      <td>3</td>\n",
       "      <td>R25_07_07_P20.pklclean</td>\n",
       "      <td>0.685278</td>\n",
       "      <td>0.070540</td>\n",
       "      <td>(array([0.        , 0.05263158, 0.10526316, 0....</td>\n",
       "      <td>2469.368085</td>\n",
       "    </tr>\n",
       "  </tbody>\n",
       "</table>\n",
       "<p>396 rows × 8 columns</p>\n",
       "</div>"
      ],
      "text/plain": [
       "              sp  boite  mesure                   photo  \\\n",
       "0      gigaspora     34       1  G09_10_06_P01.pklclean   \n",
       "1      gigaspora     34       1  G09_10_06_P02.pklclean   \n",
       "2      gigaspora     34       1  G09_10_06_P03.pklclean   \n",
       "3      gigaspora     34       2  G09_16_06_P01.pklclean   \n",
       "4      gigaspora     34       2  G09_16_06_P02.pklclean   \n",
       "..           ...    ...     ...                     ...   \n",
       "391  rhizophagus     25       3  R25_07_07_P16.pklclean   \n",
       "392  rhizophagus     25       3  R25_07_07_P17.pklclean   \n",
       "393  rhizophagus     25       3  R25_07_07_P18.pklclean   \n",
       "394  rhizophagus     25       3  R25_07_07_P19.pklclean   \n",
       "395  rhizophagus     25       3  R25_07_07_P20.pklclean   \n",
       "\n",
       "     global efficiency weighted  local efficiency weighted  \\\n",
       "0                      0.704926                   0.085291   \n",
       "1                      0.858067                   0.111427   \n",
       "2                      0.660583                   0.074682   \n",
       "3                      0.907063                   0.482632   \n",
       "4                      0.814812                   0.139679   \n",
       "..                          ...                        ...   \n",
       "391                    0.680164                   0.124679   \n",
       "392                    0.693530                   0.106414   \n",
       "393                    0.704842                   0.116806   \n",
       "394                    0.711990                   0.108695   \n",
       "395                    0.685278                   0.070540   \n",
       "\n",
       "                                      robustness curve  average shortest path  \n",
       "0    (array([0.        , 0.05263158, 0.10526316, 0....            2518.971515  \n",
       "1    (array([0.        , 0.05263158, 0.10526316, 0....            1179.376082  \n",
       "2    (array([0.        , 0.05263158, 0.10526316, 0....            2197.853800  \n",
       "3    (array([0.        , 0.05263158, 0.10526316, 0....             573.751799  \n",
       "4    (array([0.        , 0.05263158, 0.10526316, 0....            1644.715483  \n",
       "..                                                 ...                    ...  \n",
       "391  (array([0.        , 0.05263158, 0.10526316, 0....            2348.103686  \n",
       "392  (array([0.        , 0.05263158, 0.10526316, 0....            4213.131494  \n",
       "393  (array([0.        , 0.05263158, 0.10526316, 0....            3456.122857  \n",
       "394  (array([0.        , 0.05263158, 0.10526316, 0....            3131.582833  \n",
       "395  (array([0.        , 0.05263158, 0.10526316, 0....            2469.368085  \n",
       "\n",
       "[396 rows x 8 columns]"
      ]
     },
     "execution_count": 10,
     "metadata": {},
     "output_type": "execute_result"
    }
   ],
   "source": [
    "df_long_metrics_all"
   ]
  },
  {
   "cell_type": "code",
   "execution_count": 10,
   "id": "a4908abe-7caa-4998-8c68-622b2dcadd03",
   "metadata": {},
   "outputs": [],
   "source": [
    "import ast"
   ]
  },
  {
   "cell_type": "code",
   "execution_count": 27,
   "id": "df955bf0-1814-4806-b9bd-4e7a0fcbdb60",
   "metadata": {},
   "outputs": [],
   "source": [
    "df_long_metrics_all[\"robustness curve\"] = (\n",
    "    df_long_metrics_all[\"robustness curve\"]\n",
    "    .astype(str)\n",
    "    .str.replace(\"\\n\", \"\", regex=False)\n",
    "    .str.replace(r\"\\s+\", \" \", regex=True)\n",
    ")"
   ]
  },
  {
   "cell_type": "code",
   "execution_count": 28,
   "id": "19710cc0-1d86-4f0a-88a3-5f99c5293b8b",
   "metadata": {},
   "outputs": [],
   "source": [
    "df_long_metrics_all[[\"fractions_removed\", \"fractions_connected_mean\"]] = df_long_metrics_all[\"robustness curve\"].str.extract(r'\\(array\\(\\s*(\\[.*?\\])\\s*\\),\\s*array\\(\\s*(\\[.*?\\])\\s*\\)\\)')\n",
    "df_long_metrics_all[\"fractions_removed\"] = df_long_metrics_all[\"fractions_removed\"].apply(lambda x: np.array(ast.literal_eval(x)))\n",
    "df_long_metrics_all[\"fractions_connected_mean\"] = df_long_metrics_all[\"fractions_connected_mean\"].apply(lambda x: np.array(ast.literal_eval(x)))"
   ]
  },
  {
   "cell_type": "code",
   "execution_count": 36,
   "id": "3a1155d0-b1f8-4f8b-b64a-e6010b7184b4",
   "metadata": {},
   "outputs": [],
   "source": [
    "df_long_metrics_all = df_long_metrics_all.drop(columns=['robustness curve', 'robustness_clean'])"
   ]
  },
  {
   "cell_type": "code",
   "execution_count": 37,
   "id": "cdfff8bd-0e0e-4604-a500-6e9b75000846",
   "metadata": {
    "scrolled": true
   },
   "outputs": [
    {
     "data": {
      "text/html": [
       "<div>\n",
       "<style scoped>\n",
       "    .dataframe tbody tr th:only-of-type {\n",
       "        vertical-align: middle;\n",
       "    }\n",
       "\n",
       "    .dataframe tbody tr th {\n",
       "        vertical-align: top;\n",
       "    }\n",
       "\n",
       "    .dataframe thead th {\n",
       "        text-align: right;\n",
       "    }\n",
       "</style>\n",
       "<table border=\"1\" class=\"dataframe\">\n",
       "  <thead>\n",
       "    <tr style=\"text-align: right;\">\n",
       "      <th></th>\n",
       "      <th>sp</th>\n",
       "      <th>boite</th>\n",
       "      <th>mesure</th>\n",
       "      <th>photo</th>\n",
       "      <th>global efficiency weighted</th>\n",
       "      <th>local efficiency weighted</th>\n",
       "      <th>average shortest path</th>\n",
       "      <th>fractions_removed</th>\n",
       "      <th>fractions_connected_mean</th>\n",
       "    </tr>\n",
       "  </thead>\n",
       "  <tbody>\n",
       "    <tr>\n",
       "      <th>0</th>\n",
       "      <td>gigaspora</td>\n",
       "      <td>34</td>\n",
       "      <td>1</td>\n",
       "      <td>G09_10_06_P01.pklclean</td>\n",
       "      <td>0.704926</td>\n",
       "      <td>0.085291</td>\n",
       "      <td>2518.971515</td>\n",
       "      <td>[0.0, 0.05263158, 0.10526316, 0.15789474, 0.21...</td>\n",
       "      <td>[0.0, 0.0, 0.0, 0.0, 0.0, 0.0, 0.0, 0.0, 0.0, ...</td>\n",
       "    </tr>\n",
       "    <tr>\n",
       "      <th>1</th>\n",
       "      <td>gigaspora</td>\n",
       "      <td>34</td>\n",
       "      <td>1</td>\n",
       "      <td>G09_10_06_P02.pklclean</td>\n",
       "      <td>0.858067</td>\n",
       "      <td>0.111427</td>\n",
       "      <td>1179.376082</td>\n",
       "      <td>[0.0, 0.05263158, 0.10526316, 0.15789474, 0.21...</td>\n",
       "      <td>[1.0, 0.90008613, 0.76109044, 0.48709551, 0.51...</td>\n",
       "    </tr>\n",
       "    <tr>\n",
       "      <th>2</th>\n",
       "      <td>gigaspora</td>\n",
       "      <td>34</td>\n",
       "      <td>1</td>\n",
       "      <td>G09_10_06_P03.pklclean</td>\n",
       "      <td>0.660583</td>\n",
       "      <td>0.074682</td>\n",
       "      <td>2197.853800</td>\n",
       "      <td>[0.0, 0.05263158, 0.10526316, 0.15789474, 0.21...</td>\n",
       "      <td>[1.0, 0.40656728, 0.0732131094, 0.0563661872, ...</td>\n",
       "    </tr>\n",
       "    <tr>\n",
       "      <th>3</th>\n",
       "      <td>gigaspora</td>\n",
       "      <td>34</td>\n",
       "      <td>2</td>\n",
       "      <td>G09_16_06_P01.pklclean</td>\n",
       "      <td>0.907063</td>\n",
       "      <td>0.482632</td>\n",
       "      <td>573.751799</td>\n",
       "      <td>[0.0, 0.05263158, 0.10526316, 0.15789474, 0.21...</td>\n",
       "      <td>[0.0, 0.0, 0.0, 0.0, 0.0, 0.0, 0.0, 0.0, 0.0, ...</td>\n",
       "    </tr>\n",
       "    <tr>\n",
       "      <th>4</th>\n",
       "      <td>gigaspora</td>\n",
       "      <td>34</td>\n",
       "      <td>2</td>\n",
       "      <td>G09_16_06_P02.pklclean</td>\n",
       "      <td>0.814812</td>\n",
       "      <td>0.139679</td>\n",
       "      <td>1644.715483</td>\n",
       "      <td>[0.0, 0.05263158, 0.10526316, 0.15789474, 0.21...</td>\n",
       "      <td>[0.0, 0.0, 0.0, 0.0, 0.0, 0.0, 0.0, 0.0, 0.0, ...</td>\n",
       "    </tr>\n",
       "    <tr>\n",
       "      <th>...</th>\n",
       "      <td>...</td>\n",
       "      <td>...</td>\n",
       "      <td>...</td>\n",
       "      <td>...</td>\n",
       "      <td>...</td>\n",
       "      <td>...</td>\n",
       "      <td>...</td>\n",
       "      <td>...</td>\n",
       "      <td>...</td>\n",
       "    </tr>\n",
       "    <tr>\n",
       "      <th>391</th>\n",
       "      <td>rhizophagus</td>\n",
       "      <td>25</td>\n",
       "      <td>3</td>\n",
       "      <td>R25_07_07_P16.pklclean</td>\n",
       "      <td>0.680164</td>\n",
       "      <td>0.124679</td>\n",
       "      <td>2348.103686</td>\n",
       "      <td>[0.0, 0.05263158, 0.10526316, 0.15789474, 0.21...</td>\n",
       "      <td>[0.0, 0.0, 0.0, 0.0, 0.0, 0.0, 0.0, 0.0, 0.0, ...</td>\n",
       "    </tr>\n",
       "    <tr>\n",
       "      <th>392</th>\n",
       "      <td>rhizophagus</td>\n",
       "      <td>25</td>\n",
       "      <td>3</td>\n",
       "      <td>R25_07_07_P17.pklclean</td>\n",
       "      <td>0.693530</td>\n",
       "      <td>0.106414</td>\n",
       "      <td>4213.131494</td>\n",
       "      <td>[0.0, 0.05263158, 0.10526316, 0.15789474, 0.21...</td>\n",
       "      <td>[0.0, 0.0, 0.0, 0.0, 0.0, 0.0, 0.0, 0.0, 0.0, ...</td>\n",
       "    </tr>\n",
       "    <tr>\n",
       "      <th>393</th>\n",
       "      <td>rhizophagus</td>\n",
       "      <td>25</td>\n",
       "      <td>3</td>\n",
       "      <td>R25_07_07_P18.pklclean</td>\n",
       "      <td>0.704842</td>\n",
       "      <td>0.116806</td>\n",
       "      <td>3456.122857</td>\n",
       "      <td>[0.0, 0.05263158, 0.10526316, 0.15789474, 0.21...</td>\n",
       "      <td>[1.0, 0.590424863, 0.17143702, 0.0654246656, 0...</td>\n",
       "    </tr>\n",
       "    <tr>\n",
       "      <th>394</th>\n",
       "      <td>rhizophagus</td>\n",
       "      <td>25</td>\n",
       "      <td>3</td>\n",
       "      <td>R25_07_07_P19.pklclean</td>\n",
       "      <td>0.711990</td>\n",
       "      <td>0.108695</td>\n",
       "      <td>3131.582833</td>\n",
       "      <td>[0.0, 0.05263158, 0.10526316, 0.15789474, 0.21...</td>\n",
       "      <td>[0.0, 0.0, 0.0, 0.0, 0.0, 0.0, 0.0, 0.0, 0.0, ...</td>\n",
       "    </tr>\n",
       "    <tr>\n",
       "      <th>395</th>\n",
       "      <td>rhizophagus</td>\n",
       "      <td>25</td>\n",
       "      <td>3</td>\n",
       "      <td>R25_07_07_P20.pklclean</td>\n",
       "      <td>0.685278</td>\n",
       "      <td>0.070540</td>\n",
       "      <td>2469.368085</td>\n",
       "      <td>[0.0, 0.05263158, 0.10526316, 0.15789474, 0.21...</td>\n",
       "      <td>[1.0, 0.68482214, 0.30712511, 0.19683191, 0.06...</td>\n",
       "    </tr>\n",
       "  </tbody>\n",
       "</table>\n",
       "<p>396 rows × 9 columns</p>\n",
       "</div>"
      ],
      "text/plain": [
       "              sp  boite  mesure                   photo  \\\n",
       "0      gigaspora     34       1  G09_10_06_P01.pklclean   \n",
       "1      gigaspora     34       1  G09_10_06_P02.pklclean   \n",
       "2      gigaspora     34       1  G09_10_06_P03.pklclean   \n",
       "3      gigaspora     34       2  G09_16_06_P01.pklclean   \n",
       "4      gigaspora     34       2  G09_16_06_P02.pklclean   \n",
       "..           ...    ...     ...                     ...   \n",
       "391  rhizophagus     25       3  R25_07_07_P16.pklclean   \n",
       "392  rhizophagus     25       3  R25_07_07_P17.pklclean   \n",
       "393  rhizophagus     25       3  R25_07_07_P18.pklclean   \n",
       "394  rhizophagus     25       3  R25_07_07_P19.pklclean   \n",
       "395  rhizophagus     25       3  R25_07_07_P20.pklclean   \n",
       "\n",
       "     global efficiency weighted  local efficiency weighted  \\\n",
       "0                      0.704926                   0.085291   \n",
       "1                      0.858067                   0.111427   \n",
       "2                      0.660583                   0.074682   \n",
       "3                      0.907063                   0.482632   \n",
       "4                      0.814812                   0.139679   \n",
       "..                          ...                        ...   \n",
       "391                    0.680164                   0.124679   \n",
       "392                    0.693530                   0.106414   \n",
       "393                    0.704842                   0.116806   \n",
       "394                    0.711990                   0.108695   \n",
       "395                    0.685278                   0.070540   \n",
       "\n",
       "     average shortest path                                  fractions_removed  \\\n",
       "0              2518.971515  [0.0, 0.05263158, 0.10526316, 0.15789474, 0.21...   \n",
       "1              1179.376082  [0.0, 0.05263158, 0.10526316, 0.15789474, 0.21...   \n",
       "2              2197.853800  [0.0, 0.05263158, 0.10526316, 0.15789474, 0.21...   \n",
       "3               573.751799  [0.0, 0.05263158, 0.10526316, 0.15789474, 0.21...   \n",
       "4              1644.715483  [0.0, 0.05263158, 0.10526316, 0.15789474, 0.21...   \n",
       "..                     ...                                                ...   \n",
       "391            2348.103686  [0.0, 0.05263158, 0.10526316, 0.15789474, 0.21...   \n",
       "392            4213.131494  [0.0, 0.05263158, 0.10526316, 0.15789474, 0.21...   \n",
       "393            3456.122857  [0.0, 0.05263158, 0.10526316, 0.15789474, 0.21...   \n",
       "394            3131.582833  [0.0, 0.05263158, 0.10526316, 0.15789474, 0.21...   \n",
       "395            2469.368085  [0.0, 0.05263158, 0.10526316, 0.15789474, 0.21...   \n",
       "\n",
       "                              fractions_connected_mean  \n",
       "0    [0.0, 0.0, 0.0, 0.0, 0.0, 0.0, 0.0, 0.0, 0.0, ...  \n",
       "1    [1.0, 0.90008613, 0.76109044, 0.48709551, 0.51...  \n",
       "2    [1.0, 0.40656728, 0.0732131094, 0.0563661872, ...  \n",
       "3    [0.0, 0.0, 0.0, 0.0, 0.0, 0.0, 0.0, 0.0, 0.0, ...  \n",
       "4    [0.0, 0.0, 0.0, 0.0, 0.0, 0.0, 0.0, 0.0, 0.0, ...  \n",
       "..                                                 ...  \n",
       "391  [0.0, 0.0, 0.0, 0.0, 0.0, 0.0, 0.0, 0.0, 0.0, ...  \n",
       "392  [0.0, 0.0, 0.0, 0.0, 0.0, 0.0, 0.0, 0.0, 0.0, ...  \n",
       "393  [1.0, 0.590424863, 0.17143702, 0.0654246656, 0...  \n",
       "394  [0.0, 0.0, 0.0, 0.0, 0.0, 0.0, 0.0, 0.0, 0.0, ...  \n",
       "395  [1.0, 0.68482214, 0.30712511, 0.19683191, 0.06...  \n",
       "\n",
       "[396 rows x 9 columns]"
      ]
     },
     "execution_count": 37,
     "metadata": {},
     "output_type": "execute_result"
    }
   ],
   "source": [
    "df_long_metrics_all"
   ]
  },
  {
   "cell_type": "code",
   "execution_count": 42,
   "id": "d15385a8-8ba5-43d3-b6f1-27f8efa2decc",
   "metadata": {},
   "outputs": [],
   "source": [
    "df_long_metrics_all[\"robustness_score\"] = df_long_metrics_all.apply(\n",
    "    lambda row: robustness_score(row[\"fractions_removed\"], row[\"fractions_connected_mean\"]),\n",
    "    axis=1\n",
    ")"
   ]
  },
  {
   "cell_type": "code",
   "execution_count": 43,
   "id": "547fcc9f-6f41-4c0c-b543-1e7324bb549f",
   "metadata": {
    "scrolled": true
   },
   "outputs": [
    {
     "data": {
      "text/html": [
       "<div>\n",
       "<style scoped>\n",
       "    .dataframe tbody tr th:only-of-type {\n",
       "        vertical-align: middle;\n",
       "    }\n",
       "\n",
       "    .dataframe tbody tr th {\n",
       "        vertical-align: top;\n",
       "    }\n",
       "\n",
       "    .dataframe thead th {\n",
       "        text-align: right;\n",
       "    }\n",
       "</style>\n",
       "<table border=\"1\" class=\"dataframe\">\n",
       "  <thead>\n",
       "    <tr style=\"text-align: right;\">\n",
       "      <th></th>\n",
       "      <th>sp</th>\n",
       "      <th>boite</th>\n",
       "      <th>mesure</th>\n",
       "      <th>photo</th>\n",
       "      <th>global efficiency weighted</th>\n",
       "      <th>local efficiency weighted</th>\n",
       "      <th>average shortest path</th>\n",
       "      <th>fractions_removed</th>\n",
       "      <th>fractions_connected_mean</th>\n",
       "      <th>robustness_score</th>\n",
       "    </tr>\n",
       "  </thead>\n",
       "  <tbody>\n",
       "    <tr>\n",
       "      <th>0</th>\n",
       "      <td>gigaspora</td>\n",
       "      <td>34</td>\n",
       "      <td>1</td>\n",
       "      <td>G09_10_06_P01.pklclean</td>\n",
       "      <td>0.704926</td>\n",
       "      <td>0.085291</td>\n",
       "      <td>2518.971515</td>\n",
       "      <td>[0.0, 0.05263158, 0.10526316, 0.15789474, 0.21...</td>\n",
       "      <td>[0.0, 0.0, 0.0, 0.0, 0.0, 0.0, 0.0, 0.0, 0.0, ...</td>\n",
       "      <td>0.000000</td>\n",
       "    </tr>\n",
       "    <tr>\n",
       "      <th>1</th>\n",
       "      <td>gigaspora</td>\n",
       "      <td>34</td>\n",
       "      <td>1</td>\n",
       "      <td>G09_10_06_P02.pklclean</td>\n",
       "      <td>0.858067</td>\n",
       "      <td>0.111427</td>\n",
       "      <td>1179.376082</td>\n",
       "      <td>[0.0, 0.05263158, 0.10526316, 0.15789474, 0.21...</td>\n",
       "      <td>[1.0, 0.90008613, 0.76109044, 0.48709551, 0.51...</td>\n",
       "      <td>0.222635</td>\n",
       "    </tr>\n",
       "    <tr>\n",
       "      <th>2</th>\n",
       "      <td>gigaspora</td>\n",
       "      <td>34</td>\n",
       "      <td>1</td>\n",
       "      <td>G09_10_06_P03.pklclean</td>\n",
       "      <td>0.660583</td>\n",
       "      <td>0.074682</td>\n",
       "      <td>2197.853800</td>\n",
       "      <td>[0.0, 0.05263158, 0.10526316, 0.15789474, 0.21...</td>\n",
       "      <td>[1.0, 0.40656728, 0.0732131094, 0.0563661872, ...</td>\n",
       "      <td>0.059437</td>\n",
       "    </tr>\n",
       "    <tr>\n",
       "      <th>3</th>\n",
       "      <td>gigaspora</td>\n",
       "      <td>34</td>\n",
       "      <td>2</td>\n",
       "      <td>G09_16_06_P01.pklclean</td>\n",
       "      <td>0.907063</td>\n",
       "      <td>0.482632</td>\n",
       "      <td>573.751799</td>\n",
       "      <td>[0.0, 0.05263158, 0.10526316, 0.15789474, 0.21...</td>\n",
       "      <td>[0.0, 0.0, 0.0, 0.0, 0.0, 0.0, 0.0, 0.0, 0.0, ...</td>\n",
       "      <td>0.000000</td>\n",
       "    </tr>\n",
       "    <tr>\n",
       "      <th>4</th>\n",
       "      <td>gigaspora</td>\n",
       "      <td>34</td>\n",
       "      <td>2</td>\n",
       "      <td>G09_16_06_P02.pklclean</td>\n",
       "      <td>0.814812</td>\n",
       "      <td>0.139679</td>\n",
       "      <td>1644.715483</td>\n",
       "      <td>[0.0, 0.05263158, 0.10526316, 0.15789474, 0.21...</td>\n",
       "      <td>[0.0, 0.0, 0.0, 0.0, 0.0, 0.0, 0.0, 0.0, 0.0, ...</td>\n",
       "      <td>0.000000</td>\n",
       "    </tr>\n",
       "    <tr>\n",
       "      <th>...</th>\n",
       "      <td>...</td>\n",
       "      <td>...</td>\n",
       "      <td>...</td>\n",
       "      <td>...</td>\n",
       "      <td>...</td>\n",
       "      <td>...</td>\n",
       "      <td>...</td>\n",
       "      <td>...</td>\n",
       "      <td>...</td>\n",
       "      <td>...</td>\n",
       "    </tr>\n",
       "    <tr>\n",
       "      <th>391</th>\n",
       "      <td>rhizophagus</td>\n",
       "      <td>25</td>\n",
       "      <td>3</td>\n",
       "      <td>R25_07_07_P16.pklclean</td>\n",
       "      <td>0.680164</td>\n",
       "      <td>0.124679</td>\n",
       "      <td>2348.103686</td>\n",
       "      <td>[0.0, 0.05263158, 0.10526316, 0.15789474, 0.21...</td>\n",
       "      <td>[0.0, 0.0, 0.0, 0.0, 0.0, 0.0, 0.0, 0.0, 0.0, ...</td>\n",
       "      <td>0.000000</td>\n",
       "    </tr>\n",
       "    <tr>\n",
       "      <th>392</th>\n",
       "      <td>rhizophagus</td>\n",
       "      <td>25</td>\n",
       "      <td>3</td>\n",
       "      <td>R25_07_07_P17.pklclean</td>\n",
       "      <td>0.693530</td>\n",
       "      <td>0.106414</td>\n",
       "      <td>4213.131494</td>\n",
       "      <td>[0.0, 0.05263158, 0.10526316, 0.15789474, 0.21...</td>\n",
       "      <td>[0.0, 0.0, 0.0, 0.0, 0.0, 0.0, 0.0, 0.0, 0.0, ...</td>\n",
       "      <td>0.000000</td>\n",
       "    </tr>\n",
       "    <tr>\n",
       "      <th>393</th>\n",
       "      <td>rhizophagus</td>\n",
       "      <td>25</td>\n",
       "      <td>3</td>\n",
       "      <td>R25_07_07_P18.pklclean</td>\n",
       "      <td>0.704842</td>\n",
       "      <td>0.116806</td>\n",
       "      <td>3456.122857</td>\n",
       "      <td>[0.0, 0.05263158, 0.10526316, 0.15789474, 0.21...</td>\n",
       "      <td>[1.0, 0.590424863, 0.17143702, 0.0654246656, 0...</td>\n",
       "      <td>0.071660</td>\n",
       "    </tr>\n",
       "    <tr>\n",
       "      <th>394</th>\n",
       "      <td>rhizophagus</td>\n",
       "      <td>25</td>\n",
       "      <td>3</td>\n",
       "      <td>R25_07_07_P19.pklclean</td>\n",
       "      <td>0.711990</td>\n",
       "      <td>0.108695</td>\n",
       "      <td>3131.582833</td>\n",
       "      <td>[0.0, 0.05263158, 0.10526316, 0.15789474, 0.21...</td>\n",
       "      <td>[0.0, 0.0, 0.0, 0.0, 0.0, 0.0, 0.0, 0.0, 0.0, ...</td>\n",
       "      <td>0.000000</td>\n",
       "    </tr>\n",
       "    <tr>\n",
       "      <th>395</th>\n",
       "      <td>rhizophagus</td>\n",
       "      <td>25</td>\n",
       "      <td>3</td>\n",
       "      <td>R25_07_07_P20.pklclean</td>\n",
       "      <td>0.685278</td>\n",
       "      <td>0.070540</td>\n",
       "      <td>2469.368085</td>\n",
       "      <td>[0.0, 0.05263158, 0.10526316, 0.15789474, 0.21...</td>\n",
       "      <td>[1.0, 0.68482214, 0.30712511, 0.19683191, 0.06...</td>\n",
       "      <td>0.121055</td>\n",
       "    </tr>\n",
       "  </tbody>\n",
       "</table>\n",
       "<p>396 rows × 10 columns</p>\n",
       "</div>"
      ],
      "text/plain": [
       "              sp  boite  mesure                   photo  \\\n",
       "0      gigaspora     34       1  G09_10_06_P01.pklclean   \n",
       "1      gigaspora     34       1  G09_10_06_P02.pklclean   \n",
       "2      gigaspora     34       1  G09_10_06_P03.pklclean   \n",
       "3      gigaspora     34       2  G09_16_06_P01.pklclean   \n",
       "4      gigaspora     34       2  G09_16_06_P02.pklclean   \n",
       "..           ...    ...     ...                     ...   \n",
       "391  rhizophagus     25       3  R25_07_07_P16.pklclean   \n",
       "392  rhizophagus     25       3  R25_07_07_P17.pklclean   \n",
       "393  rhizophagus     25       3  R25_07_07_P18.pklclean   \n",
       "394  rhizophagus     25       3  R25_07_07_P19.pklclean   \n",
       "395  rhizophagus     25       3  R25_07_07_P20.pklclean   \n",
       "\n",
       "     global efficiency weighted  local efficiency weighted  \\\n",
       "0                      0.704926                   0.085291   \n",
       "1                      0.858067                   0.111427   \n",
       "2                      0.660583                   0.074682   \n",
       "3                      0.907063                   0.482632   \n",
       "4                      0.814812                   0.139679   \n",
       "..                          ...                        ...   \n",
       "391                    0.680164                   0.124679   \n",
       "392                    0.693530                   0.106414   \n",
       "393                    0.704842                   0.116806   \n",
       "394                    0.711990                   0.108695   \n",
       "395                    0.685278                   0.070540   \n",
       "\n",
       "     average shortest path                                  fractions_removed  \\\n",
       "0              2518.971515  [0.0, 0.05263158, 0.10526316, 0.15789474, 0.21...   \n",
       "1              1179.376082  [0.0, 0.05263158, 0.10526316, 0.15789474, 0.21...   \n",
       "2              2197.853800  [0.0, 0.05263158, 0.10526316, 0.15789474, 0.21...   \n",
       "3               573.751799  [0.0, 0.05263158, 0.10526316, 0.15789474, 0.21...   \n",
       "4              1644.715483  [0.0, 0.05263158, 0.10526316, 0.15789474, 0.21...   \n",
       "..                     ...                                                ...   \n",
       "391            2348.103686  [0.0, 0.05263158, 0.10526316, 0.15789474, 0.21...   \n",
       "392            4213.131494  [0.0, 0.05263158, 0.10526316, 0.15789474, 0.21...   \n",
       "393            3456.122857  [0.0, 0.05263158, 0.10526316, 0.15789474, 0.21...   \n",
       "394            3131.582833  [0.0, 0.05263158, 0.10526316, 0.15789474, 0.21...   \n",
       "395            2469.368085  [0.0, 0.05263158, 0.10526316, 0.15789474, 0.21...   \n",
       "\n",
       "                              fractions_connected_mean  robustness_score  \n",
       "0    [0.0, 0.0, 0.0, 0.0, 0.0, 0.0, 0.0, 0.0, 0.0, ...          0.000000  \n",
       "1    [1.0, 0.90008613, 0.76109044, 0.48709551, 0.51...          0.222635  \n",
       "2    [1.0, 0.40656728, 0.0732131094, 0.0563661872, ...          0.059437  \n",
       "3    [0.0, 0.0, 0.0, 0.0, 0.0, 0.0, 0.0, 0.0, 0.0, ...          0.000000  \n",
       "4    [0.0, 0.0, 0.0, 0.0, 0.0, 0.0, 0.0, 0.0, 0.0, ...          0.000000  \n",
       "..                                                 ...               ...  \n",
       "391  [0.0, 0.0, 0.0, 0.0, 0.0, 0.0, 0.0, 0.0, 0.0, ...          0.000000  \n",
       "392  [0.0, 0.0, 0.0, 0.0, 0.0, 0.0, 0.0, 0.0, 0.0, ...          0.000000  \n",
       "393  [1.0, 0.590424863, 0.17143702, 0.0654246656, 0...          0.071660  \n",
       "394  [0.0, 0.0, 0.0, 0.0, 0.0, 0.0, 0.0, 0.0, 0.0, ...          0.000000  \n",
       "395  [1.0, 0.68482214, 0.30712511, 0.19683191, 0.06...          0.121055  \n",
       "\n",
       "[396 rows x 10 columns]"
      ]
     },
     "execution_count": 43,
     "metadata": {},
     "output_type": "execute_result"
    }
   ],
   "source": [
    "df_long_metrics_all"
   ]
  },
  {
   "cell_type": "code",
   "execution_count": 45,
   "id": "251c5b88-a61e-471c-ad55-33b628d8c011",
   "metadata": {},
   "outputs": [],
   "source": [
    "df_long_metrics_all.to_csv('df_long_metrics_all.csv', index=False)"
   ]
  },
  {
   "cell_type": "markdown",
   "id": "2cb26f57-4aa5-4f14-9259-7934ec7cbb98",
   "metadata": {},
   "source": [
    "## Betweenness centrality : mesures 1 et 2"
   ]
  },
  {
   "cell_type": "code",
   "execution_count": 46,
   "id": "5f1f29b0-5582-4353-af75-697cef0f0e79",
   "metadata": {},
   "outputs": [],
   "source": [
    "all_files = []\n",
    "\n",
    "for sp in os.listdir(\"../data\"):\n",
    "    for boite in os.listdir(os.path.join(\"../data\", sp)):\n",
    "        for mesure in os.listdir(os.path.join(\"../data\", sp, boite)):\n",
    "            try:\n",
    "                if int(mesure) > 2:\n",
    "                    continue\n",
    "            except ValueError:\n",
    "                continue \n",
    "            for photo in os.listdir(os.path.join(\"../data\", sp, boite, mesure)):\n",
    "                if photo.endswith(\".pklclean\"):\n",
    "                    path = os.path.join(\"../data\", sp, boite, mesure, photo)\n",
    "                    all_files.append((sp, boite, mesure, photo, path))"
   ]
  },
  {
   "cell_type": "code",
   "execution_count": 47,
   "id": "34fe610e-829e-40f7-b418-ef0a66b17940",
   "metadata": {},
   "outputs": [
    {
     "name": "stderr",
     "output_type": "stream",
     "text": [
      "100%|██████████████████████████████████████████████████████████████████████████████| 141/141 [1:07:03<00:00, 28.53s/it]\n"
     ]
    }
   ],
   "source": [
    "results_bc = []\n",
    "\n",
    "for sp, boite, mesure, photo, path in tqdm(all_files):\n",
    "    G = pickle.load(open(path, 'rb'))\n",
    "    \n",
    "    result = {\n",
    "        \"sp\": sp,\n",
    "        \"boite\": boite,\n",
    "        \"mesure\": mesure,\n",
    "        \"photo\": photo\n",
    "    }\n",
    "\n",
    "    result = nx.betweenness_centrality(G, weight = \"weight\") #recalculer, k = 1000 + fonction average betweenness centrality\n",
    "\n",
    "    results_bc.append(result)"
   ]
  },
  {
   "cell_type": "code",
   "execution_count": 48,
   "id": "fdaaaca9-3d51-44cb-8546-5cee56eb7633",
   "metadata": {},
   "outputs": [],
   "source": [
    "df_bc = pd.DataFrame(results_bc)"
   ]
  },
  {
   "cell_type": "code",
   "execution_count": 49,
   "id": "2048bf53-9b67-433f-9197-6dd03f853135",
   "metadata": {},
   "outputs": [
    {
     "data": {
      "text/html": [
       "<div>\n",
       "<style scoped>\n",
       "    .dataframe tbody tr th:only-of-type {\n",
       "        vertical-align: middle;\n",
       "    }\n",
       "\n",
       "    .dataframe tbody tr th {\n",
       "        vertical-align: top;\n",
       "    }\n",
       "\n",
       "    .dataframe thead th {\n",
       "        text-align: right;\n",
       "    }\n",
       "</style>\n",
       "<table border=\"1\" class=\"dataframe\">\n",
       "  <thead>\n",
       "    <tr style=\"text-align: right;\">\n",
       "      <th></th>\n",
       "      <th>1</th>\n",
       "      <th>3</th>\n",
       "      <th>4</th>\n",
       "      <th>14</th>\n",
       "      <th>20</th>\n",
       "      <th>50</th>\n",
       "      <th>51</th>\n",
       "      <th>52</th>\n",
       "      <th>55</th>\n",
       "      <th>59</th>\n",
       "      <th>...</th>\n",
       "      <th>12764</th>\n",
       "      <th>12768</th>\n",
       "      <th>12816</th>\n",
       "      <th>12822</th>\n",
       "      <th>12836</th>\n",
       "      <th>12838</th>\n",
       "      <th>12842</th>\n",
       "      <th>12855</th>\n",
       "      <th>12900</th>\n",
       "      <th>12939</th>\n",
       "    </tr>\n",
       "  </thead>\n",
       "  <tbody>\n",
       "    <tr>\n",
       "      <th>0</th>\n",
       "      <td>0.0</td>\n",
       "      <td>0.00000</td>\n",
       "      <td>0.00000</td>\n",
       "      <td>0.021333</td>\n",
       "      <td>0.102984</td>\n",
       "      <td>0.000000</td>\n",
       "      <td>0.0</td>\n",
       "      <td>0.021333</td>\n",
       "      <td>0.042263</td>\n",
       "      <td>0.000000</td>\n",
       "      <td>...</td>\n",
       "      <td>NaN</td>\n",
       "      <td>NaN</td>\n",
       "      <td>NaN</td>\n",
       "      <td>NaN</td>\n",
       "      <td>NaN</td>\n",
       "      <td>NaN</td>\n",
       "      <td>NaN</td>\n",
       "      <td>NaN</td>\n",
       "      <td>NaN</td>\n",
       "      <td>NaN</td>\n",
       "    </tr>\n",
       "    <tr>\n",
       "      <th>1</th>\n",
       "      <td>NaN</td>\n",
       "      <td>0.09552</td>\n",
       "      <td>NaN</td>\n",
       "      <td>NaN</td>\n",
       "      <td>NaN</td>\n",
       "      <td>NaN</td>\n",
       "      <td>NaN</td>\n",
       "      <td>NaN</td>\n",
       "      <td>NaN</td>\n",
       "      <td>NaN</td>\n",
       "      <td>...</td>\n",
       "      <td>NaN</td>\n",
       "      <td>NaN</td>\n",
       "      <td>NaN</td>\n",
       "      <td>NaN</td>\n",
       "      <td>NaN</td>\n",
       "      <td>NaN</td>\n",
       "      <td>NaN</td>\n",
       "      <td>NaN</td>\n",
       "      <td>NaN</td>\n",
       "      <td>NaN</td>\n",
       "    </tr>\n",
       "    <tr>\n",
       "      <th>2</th>\n",
       "      <td>0.0</td>\n",
       "      <td>NaN</td>\n",
       "      <td>0.00000</td>\n",
       "      <td>0.000000</td>\n",
       "      <td>NaN</td>\n",
       "      <td>NaN</td>\n",
       "      <td>NaN</td>\n",
       "      <td>0.072174</td>\n",
       "      <td>NaN</td>\n",
       "      <td>NaN</td>\n",
       "      <td>...</td>\n",
       "      <td>NaN</td>\n",
       "      <td>NaN</td>\n",
       "      <td>NaN</td>\n",
       "      <td>NaN</td>\n",
       "      <td>NaN</td>\n",
       "      <td>NaN</td>\n",
       "      <td>NaN</td>\n",
       "      <td>NaN</td>\n",
       "      <td>NaN</td>\n",
       "      <td>NaN</td>\n",
       "    </tr>\n",
       "    <tr>\n",
       "      <th>3</th>\n",
       "      <td>NaN</td>\n",
       "      <td>0.00000</td>\n",
       "      <td>0.08359</td>\n",
       "      <td>0.183077</td>\n",
       "      <td>NaN</td>\n",
       "      <td>NaN</td>\n",
       "      <td>NaN</td>\n",
       "      <td>0.492308</td>\n",
       "      <td>NaN</td>\n",
       "      <td>NaN</td>\n",
       "      <td>...</td>\n",
       "      <td>NaN</td>\n",
       "      <td>NaN</td>\n",
       "      <td>NaN</td>\n",
       "      <td>NaN</td>\n",
       "      <td>NaN</td>\n",
       "      <td>NaN</td>\n",
       "      <td>NaN</td>\n",
       "      <td>NaN</td>\n",
       "      <td>NaN</td>\n",
       "      <td>NaN</td>\n",
       "    </tr>\n",
       "    <tr>\n",
       "      <th>4</th>\n",
       "      <td>NaN</td>\n",
       "      <td>NaN</td>\n",
       "      <td>NaN</td>\n",
       "      <td>NaN</td>\n",
       "      <td>NaN</td>\n",
       "      <td>NaN</td>\n",
       "      <td>NaN</td>\n",
       "      <td>NaN</td>\n",
       "      <td>NaN</td>\n",
       "      <td>NaN</td>\n",
       "      <td>...</td>\n",
       "      <td>NaN</td>\n",
       "      <td>NaN</td>\n",
       "      <td>NaN</td>\n",
       "      <td>NaN</td>\n",
       "      <td>NaN</td>\n",
       "      <td>NaN</td>\n",
       "      <td>NaN</td>\n",
       "      <td>NaN</td>\n",
       "      <td>NaN</td>\n",
       "      <td>NaN</td>\n",
       "    </tr>\n",
       "    <tr>\n",
       "      <th>...</th>\n",
       "      <td>...</td>\n",
       "      <td>...</td>\n",
       "      <td>...</td>\n",
       "      <td>...</td>\n",
       "      <td>...</td>\n",
       "      <td>...</td>\n",
       "      <td>...</td>\n",
       "      <td>...</td>\n",
       "      <td>...</td>\n",
       "      <td>...</td>\n",
       "      <td>...</td>\n",
       "      <td>...</td>\n",
       "      <td>...</td>\n",
       "      <td>...</td>\n",
       "      <td>...</td>\n",
       "      <td>...</td>\n",
       "      <td>...</td>\n",
       "      <td>...</td>\n",
       "      <td>...</td>\n",
       "      <td>...</td>\n",
       "      <td>...</td>\n",
       "    </tr>\n",
       "    <tr>\n",
       "      <th>136</th>\n",
       "      <td>NaN</td>\n",
       "      <td>0.00000</td>\n",
       "      <td>0.00000</td>\n",
       "      <td>NaN</td>\n",
       "      <td>NaN</td>\n",
       "      <td>0.022582</td>\n",
       "      <td>NaN</td>\n",
       "      <td>0.156812</td>\n",
       "      <td>NaN</td>\n",
       "      <td>0.004554</td>\n",
       "      <td>...</td>\n",
       "      <td>NaN</td>\n",
       "      <td>NaN</td>\n",
       "      <td>NaN</td>\n",
       "      <td>NaN</td>\n",
       "      <td>NaN</td>\n",
       "      <td>NaN</td>\n",
       "      <td>NaN</td>\n",
       "      <td>NaN</td>\n",
       "      <td>NaN</td>\n",
       "      <td>NaN</td>\n",
       "    </tr>\n",
       "    <tr>\n",
       "      <th>137</th>\n",
       "      <td>NaN</td>\n",
       "      <td>NaN</td>\n",
       "      <td>0.00000</td>\n",
       "      <td>0.000000</td>\n",
       "      <td>NaN</td>\n",
       "      <td>NaN</td>\n",
       "      <td>NaN</td>\n",
       "      <td>NaN</td>\n",
       "      <td>NaN</td>\n",
       "      <td>NaN</td>\n",
       "      <td>...</td>\n",
       "      <td>NaN</td>\n",
       "      <td>NaN</td>\n",
       "      <td>NaN</td>\n",
       "      <td>NaN</td>\n",
       "      <td>NaN</td>\n",
       "      <td>NaN</td>\n",
       "      <td>NaN</td>\n",
       "      <td>NaN</td>\n",
       "      <td>NaN</td>\n",
       "      <td>NaN</td>\n",
       "    </tr>\n",
       "    <tr>\n",
       "      <th>138</th>\n",
       "      <td>NaN</td>\n",
       "      <td>0.00000</td>\n",
       "      <td>NaN</td>\n",
       "      <td>NaN</td>\n",
       "      <td>NaN</td>\n",
       "      <td>0.000000</td>\n",
       "      <td>NaN</td>\n",
       "      <td>NaN</td>\n",
       "      <td>NaN</td>\n",
       "      <td>NaN</td>\n",
       "      <td>...</td>\n",
       "      <td>NaN</td>\n",
       "      <td>NaN</td>\n",
       "      <td>NaN</td>\n",
       "      <td>NaN</td>\n",
       "      <td>NaN</td>\n",
       "      <td>NaN</td>\n",
       "      <td>NaN</td>\n",
       "      <td>NaN</td>\n",
       "      <td>NaN</td>\n",
       "      <td>NaN</td>\n",
       "    </tr>\n",
       "    <tr>\n",
       "      <th>139</th>\n",
       "      <td>0.0</td>\n",
       "      <td>0.00000</td>\n",
       "      <td>NaN</td>\n",
       "      <td>NaN</td>\n",
       "      <td>NaN</td>\n",
       "      <td>NaN</td>\n",
       "      <td>NaN</td>\n",
       "      <td>NaN</td>\n",
       "      <td>NaN</td>\n",
       "      <td>NaN</td>\n",
       "      <td>...</td>\n",
       "      <td>NaN</td>\n",
       "      <td>NaN</td>\n",
       "      <td>NaN</td>\n",
       "      <td>NaN</td>\n",
       "      <td>NaN</td>\n",
       "      <td>NaN</td>\n",
       "      <td>NaN</td>\n",
       "      <td>NaN</td>\n",
       "      <td>NaN</td>\n",
       "      <td>NaN</td>\n",
       "    </tr>\n",
       "    <tr>\n",
       "      <th>140</th>\n",
       "      <td>0.0</td>\n",
       "      <td>0.00000</td>\n",
       "      <td>0.00000</td>\n",
       "      <td>NaN</td>\n",
       "      <td>NaN</td>\n",
       "      <td>0.084063</td>\n",
       "      <td>NaN</td>\n",
       "      <td>0.094034</td>\n",
       "      <td>0.073778</td>\n",
       "      <td>0.031721</td>\n",
       "      <td>...</td>\n",
       "      <td>NaN</td>\n",
       "      <td>NaN</td>\n",
       "      <td>NaN</td>\n",
       "      <td>NaN</td>\n",
       "      <td>NaN</td>\n",
       "      <td>NaN</td>\n",
       "      <td>NaN</td>\n",
       "      <td>NaN</td>\n",
       "      <td>NaN</td>\n",
       "      <td>NaN</td>\n",
       "    </tr>\n",
       "  </tbody>\n",
       "</table>\n",
       "<p>141 rows × 19682 columns</p>\n",
       "</div>"
      ],
      "text/plain": [
       "     1        3        4         14        20        50     51        52     \\\n",
       "0      0.0  0.00000  0.00000  0.021333  0.102984  0.000000    0.0  0.021333   \n",
       "1      NaN  0.09552      NaN       NaN       NaN       NaN    NaN       NaN   \n",
       "2      0.0      NaN  0.00000  0.000000       NaN       NaN    NaN  0.072174   \n",
       "3      NaN  0.00000  0.08359  0.183077       NaN       NaN    NaN  0.492308   \n",
       "4      NaN      NaN      NaN       NaN       NaN       NaN    NaN       NaN   \n",
       "..     ...      ...      ...       ...       ...       ...    ...       ...   \n",
       "136    NaN  0.00000  0.00000       NaN       NaN  0.022582    NaN  0.156812   \n",
       "137    NaN      NaN  0.00000  0.000000       NaN       NaN    NaN       NaN   \n",
       "138    NaN  0.00000      NaN       NaN       NaN  0.000000    NaN       NaN   \n",
       "139    0.0  0.00000      NaN       NaN       NaN       NaN    NaN       NaN   \n",
       "140    0.0  0.00000  0.00000       NaN       NaN  0.084063    NaN  0.094034   \n",
       "\n",
       "        55        59     ...  12764  12768  12816  12822  12836  12838  12842  \\\n",
       "0    0.042263  0.000000  ...    NaN    NaN    NaN    NaN    NaN    NaN    NaN   \n",
       "1         NaN       NaN  ...    NaN    NaN    NaN    NaN    NaN    NaN    NaN   \n",
       "2         NaN       NaN  ...    NaN    NaN    NaN    NaN    NaN    NaN    NaN   \n",
       "3         NaN       NaN  ...    NaN    NaN    NaN    NaN    NaN    NaN    NaN   \n",
       "4         NaN       NaN  ...    NaN    NaN    NaN    NaN    NaN    NaN    NaN   \n",
       "..        ...       ...  ...    ...    ...    ...    ...    ...    ...    ...   \n",
       "136       NaN  0.004554  ...    NaN    NaN    NaN    NaN    NaN    NaN    NaN   \n",
       "137       NaN       NaN  ...    NaN    NaN    NaN    NaN    NaN    NaN    NaN   \n",
       "138       NaN       NaN  ...    NaN    NaN    NaN    NaN    NaN    NaN    NaN   \n",
       "139       NaN       NaN  ...    NaN    NaN    NaN    NaN    NaN    NaN    NaN   \n",
       "140  0.073778  0.031721  ...    NaN    NaN    NaN    NaN    NaN    NaN    NaN   \n",
       "\n",
       "     12855  12900  12939  \n",
       "0      NaN    NaN    NaN  \n",
       "1      NaN    NaN    NaN  \n",
       "2      NaN    NaN    NaN  \n",
       "3      NaN    NaN    NaN  \n",
       "4      NaN    NaN    NaN  \n",
       "..     ...    ...    ...  \n",
       "136    NaN    NaN    NaN  \n",
       "137    NaN    NaN    NaN  \n",
       "138    NaN    NaN    NaN  \n",
       "139    NaN    NaN    NaN  \n",
       "140    NaN    NaN    NaN  \n",
       "\n",
       "[141 rows x 19682 columns]"
      ]
     },
     "execution_count": 49,
     "metadata": {},
     "output_type": "execute_result"
    }
   ],
   "source": [
    "df_bc"
   ]
  },
  {
   "cell_type": "markdown",
   "id": "fe57b8f5-66f3-4964-9a0b-580598376424",
   "metadata": {},
   "source": [
    "## Average betweenness centrality : nodes"
   ]
  },
  {
   "cell_type": "code",
   "execution_count": 2,
   "id": "2c2b898f-801e-4d27-80ba-b0768042deb7",
   "metadata": {},
   "outputs": [],
   "source": [
    "def average_betweenness_centrality(G): \n",
    "    bc = nx.betweenness_centrality(G, weight = \"weight\")\n",
    "    sum_bc = sum(bc.values())\n",
    "    num_nodes = nx.number_of_nodes(G)\n",
    "    abc = sum_bc / num_nodes\n",
    "    return abc"
   ]
  },
  {
   "cell_type": "code",
   "execution_count": 3,
   "id": "46300adc-5e9d-44be-9d24-27b0f3bc39cc",
   "metadata": {},
   "outputs": [
    {
     "ename": "NameError",
     "evalue": "name 'G' is not defined",
     "output_type": "error",
     "traceback": [
      "\u001b[1;31m---------------------------------------------------------------------------\u001b[0m",
      "\u001b[1;31mNameError\u001b[0m                                 Traceback (most recent call last)",
      "Cell \u001b[1;32mIn[3], line 1\u001b[0m\n\u001b[1;32m----> 1\u001b[0m average_betweenness_centrality(G)\n",
      "\u001b[1;31mNameError\u001b[0m: name 'G' is not defined"
     ]
    }
   ],
   "source": [
    "average_betweenness_centrality(G)"
   ]
  },
  {
   "cell_type": "markdown",
   "id": "662ae1ca-de9c-4a81-bc01-98637a1cd550",
   "metadata": {},
   "source": [
    "## Edge betweenness centrality"
   ]
  },
  {
   "cell_type": "code",
   "execution_count": 6,
   "id": "b01c5476-2315-490b-a3eb-9d0e090e09e1",
   "metadata": {},
   "outputs": [],
   "source": [
    "def average_edge_betweenness_centrality(G): \n",
    "    ebc = nx.edge_betweenness_centrality(G, weight = \"weight\")\n",
    "    sum_ebc = sum(ebc.values())\n",
    "    num_edges = nx.number_of_edges(G)\n",
    "    aebc = sum_ebc / num_edges\n",
    "    return aebc"
   ]
  },
  {
   "cell_type": "code",
   "execution_count": null,
   "id": "e27820be-1e0f-45a4-8fcf-9c39fe723968",
   "metadata": {},
   "outputs": [],
   "source": [
    "average_edge_betweenness_centrality(G)"
   ]
  },
  {
   "cell_type": "code",
   "execution_count": 7,
   "id": "ed330570-da0d-4d88-9d53-1c74e41678a8",
   "metadata": {},
   "outputs": [],
   "source": [
    "all_files = []\n",
    "\n",
    "for sp in os.listdir(\"../data\"):\n",
    "    for boite in os.listdir(os.path.join(\"../data\", sp)):\n",
    "        for mesure in os.listdir(os.path.join(\"../data\", sp, boite)):\n",
    "            try:\n",
    "                if int(mesure) > 2:\n",
    "                    continue\n",
    "            except ValueError:\n",
    "                continue \n",
    "            for photo in os.listdir(os.path.join(\"../data\", sp, boite, mesure)):\n",
    "                if photo.endswith(\".pklclean\"):\n",
    "                    path = os.path.join(\"../data\", sp, boite, mesure, photo)\n",
    "                    all_files.append((sp, boite, mesure, photo, path))"
   ]
  },
  {
   "cell_type": "code",
   "execution_count": 8,
   "id": "8cdecfae-f235-4fce-a506-d0d4608eab82",
   "metadata": {},
   "outputs": [
    {
     "name": "stderr",
     "output_type": "stream",
     "text": [
      "100%|█████████████████████████████████████████████████████████████████████████████| 141/141 [5:23:55<00:00, 137.84s/it]\n"
     ]
    }
   ],
   "source": [
    "results_bc = []\n",
    "\n",
    "for sp, boite, mesure, photo, path in tqdm(all_files):\n",
    "    G = pickle.load(open(path, 'rb'))\n",
    "    \n",
    "    result = {\n",
    "        \"sp\": sp,\n",
    "        \"boite\": boite,\n",
    "        \"mesure\": mesure,\n",
    "        \"photo\": photo\n",
    "    }\n",
    "\n",
    "    result[\"average bc nodes\"] = average_betweenness_centrality(G)\n",
    "\n",
    "    result[\"average bc edges\"] = average_edge_betweenness_centrality(G)\n",
    "    \n",
    "    results_bc.append(result)"
   ]
  },
  {
   "cell_type": "code",
   "execution_count": 9,
   "id": "97ca9ad7-2b65-4f56-b5e9-1a61febe7016",
   "metadata": {},
   "outputs": [],
   "source": [
    "df_bc = pd.DataFrame(results_bc)"
   ]
  },
  {
   "cell_type": "code",
   "execution_count": 10,
   "id": "eb37daaa-d108-4a2d-9945-492a711f4954",
   "metadata": {},
   "outputs": [],
   "source": [
    "df_bc.to_csv('df_bc.csv', index=False)"
   ]
  },
  {
   "cell_type": "code",
   "execution_count": 11,
   "id": "c4cb4924-ec8c-4120-a6c6-e0b62122c277",
   "metadata": {},
   "outputs": [
    {
     "data": {
      "text/html": [
       "<div>\n",
       "<style scoped>\n",
       "    .dataframe tbody tr th:only-of-type {\n",
       "        vertical-align: middle;\n",
       "    }\n",
       "\n",
       "    .dataframe tbody tr th {\n",
       "        vertical-align: top;\n",
       "    }\n",
       "\n",
       "    .dataframe thead th {\n",
       "        text-align: right;\n",
       "    }\n",
       "</style>\n",
       "<table border=\"1\" class=\"dataframe\">\n",
       "  <thead>\n",
       "    <tr style=\"text-align: right;\">\n",
       "      <th></th>\n",
       "      <th>sp</th>\n",
       "      <th>boite</th>\n",
       "      <th>mesure</th>\n",
       "      <th>photo</th>\n",
       "      <th>average bc nodes</th>\n",
       "      <th>average bc edges</th>\n",
       "    </tr>\n",
       "  </thead>\n",
       "  <tbody>\n",
       "    <tr>\n",
       "      <th>0</th>\n",
       "      <td>gigaspora</td>\n",
       "      <td>34</td>\n",
       "      <td>1</td>\n",
       "      <td>G09_10_06_P01.pklclean</td>\n",
       "      <td>0.085529</td>\n",
       "      <td>0.084967</td>\n",
       "    </tr>\n",
       "    <tr>\n",
       "      <th>1</th>\n",
       "      <td>gigaspora</td>\n",
       "      <td>34</td>\n",
       "      <td>1</td>\n",
       "      <td>G09_10_06_P02.pklclean</td>\n",
       "      <td>0.182806</td>\n",
       "      <td>0.185990</td>\n",
       "    </tr>\n",
       "    <tr>\n",
       "      <th>2</th>\n",
       "      <td>gigaspora</td>\n",
       "      <td>34</td>\n",
       "      <td>1</td>\n",
       "      <td>G09_10_06_P03.pklclean</td>\n",
       "      <td>0.066095</td>\n",
       "      <td>0.063659</td>\n",
       "    </tr>\n",
       "    <tr>\n",
       "      <th>3</th>\n",
       "      <td>gigaspora</td>\n",
       "      <td>34</td>\n",
       "      <td>2</td>\n",
       "      <td>G09_16_06_P01.pklclean</td>\n",
       "      <td>0.216866</td>\n",
       "      <td>0.178379</td>\n",
       "    </tr>\n",
       "    <tr>\n",
       "      <th>4</th>\n",
       "      <td>gigaspora</td>\n",
       "      <td>34</td>\n",
       "      <td>2</td>\n",
       "      <td>G09_16_06_P02.pklclean</td>\n",
       "      <td>0.146531</td>\n",
       "      <td>0.143281</td>\n",
       "    </tr>\n",
       "    <tr>\n",
       "      <th>...</th>\n",
       "      <td>...</td>\n",
       "      <td>...</td>\n",
       "      <td>...</td>\n",
       "      <td>...</td>\n",
       "      <td>...</td>\n",
       "      <td>...</td>\n",
       "    </tr>\n",
       "    <tr>\n",
       "      <th>136</th>\n",
       "      <td>rhizophagus</td>\n",
       "      <td>25</td>\n",
       "      <td>2</td>\n",
       "      <td>R25_30_06_P13.pklclean</td>\n",
       "      <td>0.060381</td>\n",
       "      <td>0.056295</td>\n",
       "    </tr>\n",
       "    <tr>\n",
       "      <th>137</th>\n",
       "      <td>rhizophagus</td>\n",
       "      <td>25</td>\n",
       "      <td>2</td>\n",
       "      <td>R25_30_06_P14.pklclean</td>\n",
       "      <td>0.089882</td>\n",
       "      <td>0.086325</td>\n",
       "    </tr>\n",
       "    <tr>\n",
       "      <th>138</th>\n",
       "      <td>rhizophagus</td>\n",
       "      <td>25</td>\n",
       "      <td>2</td>\n",
       "      <td>R25_30_06_P15.pklclean</td>\n",
       "      <td>0.033487</td>\n",
       "      <td>0.030071</td>\n",
       "    </tr>\n",
       "    <tr>\n",
       "      <th>139</th>\n",
       "      <td>rhizophagus</td>\n",
       "      <td>25</td>\n",
       "      <td>2</td>\n",
       "      <td>R25_30_06_P16.pklclean</td>\n",
       "      <td>0.025477</td>\n",
       "      <td>0.022698</td>\n",
       "    </tr>\n",
       "    <tr>\n",
       "      <th>140</th>\n",
       "      <td>rhizophagus</td>\n",
       "      <td>25</td>\n",
       "      <td>2</td>\n",
       "      <td>R25_30_06_P17.pklclean</td>\n",
       "      <td>0.057879</td>\n",
       "      <td>0.053573</td>\n",
       "    </tr>\n",
       "  </tbody>\n",
       "</table>\n",
       "<p>141 rows × 6 columns</p>\n",
       "</div>"
      ],
      "text/plain": [
       "              sp boite mesure                   photo  average bc nodes  \\\n",
       "0      gigaspora    34      1  G09_10_06_P01.pklclean          0.085529   \n",
       "1      gigaspora    34      1  G09_10_06_P02.pklclean          0.182806   \n",
       "2      gigaspora    34      1  G09_10_06_P03.pklclean          0.066095   \n",
       "3      gigaspora    34      2  G09_16_06_P01.pklclean          0.216866   \n",
       "4      gigaspora    34      2  G09_16_06_P02.pklclean          0.146531   \n",
       "..           ...   ...    ...                     ...               ...   \n",
       "136  rhizophagus    25      2  R25_30_06_P13.pklclean          0.060381   \n",
       "137  rhizophagus    25      2  R25_30_06_P14.pklclean          0.089882   \n",
       "138  rhizophagus    25      2  R25_30_06_P15.pklclean          0.033487   \n",
       "139  rhizophagus    25      2  R25_30_06_P16.pklclean          0.025477   \n",
       "140  rhizophagus    25      2  R25_30_06_P17.pklclean          0.057879   \n",
       "\n",
       "     average bc edges  \n",
       "0            0.084967  \n",
       "1            0.185990  \n",
       "2            0.063659  \n",
       "3            0.178379  \n",
       "4            0.143281  \n",
       "..                ...  \n",
       "136          0.056295  \n",
       "137          0.086325  \n",
       "138          0.030071  \n",
       "139          0.022698  \n",
       "140          0.053573  \n",
       "\n",
       "[141 rows x 6 columns]"
      ]
     },
     "execution_count": 11,
     "metadata": {},
     "output_type": "execute_result"
    }
   ],
   "source": [
    "df_bc"
   ]
  },
  {
   "cell_type": "code",
   "execution_count": null,
   "id": "4d3b7552-8a22-431f-8e47-7cbc5665eb88",
   "metadata": {},
   "outputs": [],
   "source": []
  }
 ],
 "metadata": {
  "kernelspec": {
   "display_name": "Python 3 (ipykernel)",
   "language": "python",
   "name": "python3"
  },
  "language_info": {
   "codemirror_mode": {
    "name": "ipython",
    "version": 3
   },
   "file_extension": ".py",
   "mimetype": "text/x-python",
   "name": "python",
   "nbconvert_exporter": "python",
   "pygments_lexer": "ipython3",
   "version": "3.12.4"
  }
 },
 "nbformat": 4,
 "nbformat_minor": 5
}
